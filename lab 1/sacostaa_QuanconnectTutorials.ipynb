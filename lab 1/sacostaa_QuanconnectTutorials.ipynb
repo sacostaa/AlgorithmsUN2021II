{
  "nbformat": 4,
  "nbformat_minor": 0,
  "metadata": {
    "colab": {
      "name": "sacostaa_QuanconnectTutorials.ipynb",
      "provenance": [],
      "collapsed_sections": []
    },
    "kernelspec": {
      "name": "python3",
      "display_name": "Python 3"
    },
    "language_info": {
      "name": "python"
    }
  },
  "cells": [
    {
      "cell_type": "markdown",
      "metadata": {
        "id": "uAk0_c9OyAG_"
      },
      "source": [
        "#01 **Data Types and Data Structures**\n",
        "#**Introduction**\n",
        "This tutorial provides a basic introduction to the Python programming language. If you are new to Python, you should run the code snippets while reading this tutorial. If you are an advanced Python user, please feel free to skip this chapter.\n",
        "\n",
        "#**Basic Variable Types**\n",
        "The basic types of variables in Python are: strings, integers, floating point numbers and booleans.\n",
        "\n",
        "Strings in python are identified as a contiguous set of characters represented in either single quotes (' ') or double quotes (\n"
      ]
    },
    {
      "cell_type": "code",
      "metadata": {
        "colab": {
          "base_uri": "https://localhost:8080/"
        },
        "id": "7hRTMu-3yKoA",
        "outputId": "1ef99dc6-16d4-4751-ee31-ad3f939f3eee"
      },
      "source": [
        "my_string1 = 'Welcome to'\n",
        "my_string2 = \"QuantConnect\"\n",
        "print(my_string1 + ' ' + my_string2)"
      ],
      "execution_count": 35,
      "outputs": [
        {
          "output_type": "stream",
          "name": "stdout",
          "text": [
            "Welcome to QuantConnect\n"
          ]
        }
      ]
    },
    {
      "cell_type": "code",
      "metadata": {
        "colab": {
          "base_uri": "https://localhost:8080/"
        },
        "id": "OG7YYX9GGTSM",
        "outputId": "f0640cd1-10e9-4aff-e7fd-ff3d8bd8a7cf"
      },
      "source": [
        "my_string1 = 'Mi nombre es'\n",
        "my_string2 = \"Santiago\"\n",
        "print(my_string1 + ' ' + my_string2)"
      ],
      "execution_count": 36,
      "outputs": [
        {
          "output_type": "stream",
          "name": "stdout",
          "text": [
            "Mi nombre es Santiago\n"
          ]
        }
      ]
    },
    {
      "cell_type": "markdown",
      "metadata": {
        "id": "wTvI7Z2KJY4r"
      },
      "source": [
        " An integer is a round number with no values after the decimal point."
      ]
    },
    {
      "cell_type": "code",
      "metadata": {
        "colab": {
          "base_uri": "https://localhost:8080/"
        },
        "id": "0gnqcDFCGdqX",
        "outputId": "8e329066-ab02-4b8b-9ce4-cde9cc92a6b2"
      },
      "source": [
        "my_int = 10\n",
        "print(my_int)\n",
        "print(type(my_int))"
      ],
      "execution_count": 37,
      "outputs": [
        {
          "output_type": "stream",
          "name": "stdout",
          "text": [
            "10\n",
            "<class 'int'>\n"
          ]
        }
      ]
    },
    {
      "cell_type": "code",
      "metadata": {
        "colab": {
          "base_uri": "https://localhost:8080/"
        },
        "id": "bwnsUafFG0PL",
        "outputId": "651b7e29-c96e-43e2-bf88-71cfc6641cd0"
      },
      "source": [
        "my_int = 19022000\n",
        "print(my_int)\n",
        "print(type(my_int))"
      ],
      "execution_count": 38,
      "outputs": [
        {
          "output_type": "stream",
          "name": "stdout",
          "text": [
            "19022000\n",
            "<class 'int'>\n"
          ]
        }
      ]
    },
    {
      "cell_type": "markdown",
      "metadata": {
        "id": "GJSG_qiJJayX"
      },
      "source": [
        "\n",
        "The built-in function int() can convert a string into an integer."
      ]
    },
    {
      "cell_type": "code",
      "metadata": {
        "colab": {
          "base_uri": "https://localhost:8080/"
        },
        "id": "qBfwA0vgHJGZ",
        "outputId": "cdb0a26a-1647-4167-b08b-ac79f2076a53"
      },
      "source": [
        "my_string = \"100\"\n",
        "print(type(my_string))\n",
        "my_int = int(my_string)\n",
        "print(type(my_int))"
      ],
      "execution_count": 39,
      "outputs": [
        {
          "output_type": "stream",
          "name": "stdout",
          "text": [
            "<class 'str'>\n",
            "<class 'int'>\n"
          ]
        }
      ]
    },
    {
      "cell_type": "code",
      "metadata": {
        "colab": {
          "base_uri": "https://localhost:8080/"
        },
        "id": "Ni8a11I2HRKg",
        "outputId": "420a0e75-6d3f-44c1-c26f-f10d3c79a271"
      },
      "source": [
        "my_string = \"2200\"\n",
        "print(type(my_string))\n",
        "my_int = int(my_string)\n",
        "print(type(my_int))"
      ],
      "execution_count": 40,
      "outputs": [
        {
          "output_type": "stream",
          "name": "stdout",
          "text": [
            "<class 'str'>\n",
            "<class 'int'>\n"
          ]
        }
      ]
    },
    {
      "cell_type": "markdown",
      "metadata": {
        "id": "1XEoNFFwJdsE"
      },
      "source": [
        "A floating point number, or a float, is a real number in mathematics. In Python we need to include a value after a decimal point to define it as a float"
      ]
    },
    {
      "cell_type": "code",
      "metadata": {
        "colab": {
          "base_uri": "https://localhost:8080/"
        },
        "id": "Rit7mPLaHpgw",
        "outputId": "21a04c9d-eab4-4574-ec96-159c82b8c68c"
      },
      "source": [
        "my_float = 1.0\n",
        "print(type(my_float))\n",
        "my_int = 1\n",
        "print(type(my_int))"
      ],
      "execution_count": 41,
      "outputs": [
        {
          "output_type": "stream",
          "name": "stdout",
          "text": [
            "<class 'float'>\n",
            "<class 'int'>\n"
          ]
        }
      ]
    },
    {
      "cell_type": "code",
      "metadata": {
        "colab": {
          "base_uri": "https://localhost:8080/"
        },
        "id": "5V--pUkQHvbD",
        "outputId": "08c06726-c3e3-4de2-a089-993bff2e96c6"
      },
      "source": [
        "y_float = 1.333\n",
        "print(type(my_float))\n",
        "my_int = 12\n",
        "print(type(my_int))"
      ],
      "execution_count": 42,
      "outputs": [
        {
          "output_type": "stream",
          "name": "stdout",
          "text": [
            "<class 'float'>\n",
            "<class 'int'>\n"
          ]
        }
      ]
    },
    {
      "cell_type": "markdown",
      "metadata": {
        "id": "8S8TBKwqJhaL"
      },
      "source": [
        "As you can see above, if we don't include a decimal value, the variable would be defined as an integer. The built-in function float() can convert a string or an integer into a float."
      ]
    },
    {
      "cell_type": "code",
      "metadata": {
        "colab": {
          "base_uri": "https://localhost:8080/"
        },
        "id": "_u1fZCjNHzQM",
        "outputId": "219187d9-3ffe-4b04-8c65-44e55f8553ec"
      },
      "source": [
        "my_string = \"100\"\n",
        "my_float = float(my_string)\n",
        "print(type(my_float))"
      ],
      "execution_count": 43,
      "outputs": [
        {
          "output_type": "stream",
          "name": "stdout",
          "text": [
            "<class 'float'>\n"
          ]
        }
      ]
    },
    {
      "cell_type": "code",
      "metadata": {
        "colab": {
          "base_uri": "https://localhost:8080/"
        },
        "id": "OdTcP2oeIIDJ",
        "outputId": "31fdb4e0-8bed-4bde-a5d6-608a727ad7e7"
      },
      "source": [
        "my_string = \"90000.99\"\n",
        "my_float = float(my_string)\n",
        "print(type(my_float))"
      ],
      "execution_count": 44,
      "outputs": [
        {
          "output_type": "stream",
          "name": "stdout",
          "text": [
            "<class 'float'>\n"
          ]
        }
      ]
    },
    {
      "cell_type": "markdown",
      "metadata": {
        "id": "qI7efzCgJjKN"
      },
      "source": [
        "As you can see above, if we don't include a decimal value, the variable would be defined as an integer. The built-in function float() can convert a string or an integer into a float."
      ]
    },
    {
      "cell_type": "code",
      "metadata": {
        "colab": {
          "base_uri": "https://localhost:8080/"
        },
        "id": "20XSI2TbIPrv",
        "outputId": "240852fc-30b7-4d10-cddc-ed782ee32c0c"
      },
      "source": [
        "my_bool = False\n",
        "print(my_bool)\n",
        "print(type(my_bool))"
      ],
      "execution_count": 45,
      "outputs": [
        {
          "output_type": "stream",
          "name": "stdout",
          "text": [
            "False\n",
            "<class 'bool'>\n"
          ]
        }
      ]
    },
    {
      "cell_type": "code",
      "metadata": {
        "colab": {
          "base_uri": "https://localhost:8080/"
        },
        "id": "9ZYiJUPoIW2s",
        "outputId": "6ff69e37-003d-4e1a-f9fc-291e02afa81e"
      },
      "source": [
        "my_bool = True\n",
        "print(my_bool)\n",
        "print(type(my_bool))"
      ],
      "execution_count": 46,
      "outputs": [
        {
          "output_type": "stream",
          "name": "stdout",
          "text": [
            "True\n",
            "<class 'bool'>\n"
          ]
        }
      ]
    },
    {
      "cell_type": "markdown",
      "metadata": {
        "id": "qOYGA8p_Jk37"
      },
      "source": [
        "A boolean, or bool, is a binary variable. Its value can only be True or False. It is useful when we do some logic operations, which would be covered in our next chapter."
      ]
    },
    {
      "cell_type": "code",
      "metadata": {
        "colab": {
          "base_uri": "https://localhost:8080/"
        },
        "id": "FURFSoPSIb9I",
        "outputId": "84214ace-0720-466a-999b-89b15c3b2a50"
      },
      "source": [
        "print(\"Addition \", 1+1)\n",
        "print(\"Subtraction \", 5-2)\n",
        "print(\"Multiplication \", 2*3)\n",
        "print(\"Division\", 10/2)\n",
        "print(\"exponent\", 2**3)"
      ],
      "execution_count": 47,
      "outputs": [
        {
          "output_type": "stream",
          "name": "stdout",
          "text": [
            "Addition  2\n",
            "Subtraction  3\n",
            "Multiplication  6\n",
            "Division 5.0\n",
            "exponent 8\n"
          ]
        }
      ]
    },
    {
      "cell_type": "code",
      "metadata": {
        "colab": {
          "base_uri": "https://localhost:8080/"
        },
        "id": "xUWAW-2SI2v9",
        "outputId": "79ad6360-3b00-4dc8-bf62-e29069149194"
      },
      "source": [
        "print(\"Addition \", 112+1)\n",
        "print(\"Subtraction \", 8-2)\n",
        "print(\"Multiplication \", 2*6)\n",
        "print(\"Division\", 20/2)\n",
        "print(\"exponent\", 2**6)"
      ],
      "execution_count": 48,
      "outputs": [
        {
          "output_type": "stream",
          "name": "stdout",
          "text": [
            "Addition  113\n",
            "Subtraction  6\n",
            "Multiplication  12\n",
            "Division 10.0\n",
            "exponent 64\n"
          ]
        }
      ]
    },
    {
      "cell_type": "markdown",
      "metadata": {
        "id": "6vTI0WIOJnUl"
      },
      "source": [
        "#**Basic Math Operations**\n",
        "The basic math operators in python are demonstrated below:"
      ]
    },
    {
      "cell_type": "code",
      "metadata": {
        "colab": {
          "base_uri": "https://localhost:8080/"
        },
        "id": "naP_cQkNIHvB",
        "outputId": "8ae06320-37e9-4d59-dec7-bc5ceaa6e843"
      },
      "source": [
        "print(1/3)\n",
        "print(1.0/3)"
      ],
      "execution_count": 49,
      "outputs": [
        {
          "output_type": "stream",
          "name": "stdout",
          "text": [
            "0.3333333333333333\n",
            "0.3333333333333333\n"
          ]
        }
      ]
    },
    {
      "cell_type": "code",
      "metadata": {
        "colab": {
          "base_uri": "https://localhost:8080/"
        },
        "id": "ZmJfTnzbIMFh",
        "outputId": "88400a39-b3e8-4f7f-c8cb-45b65e0b9de6"
      },
      "source": [
        "print(1/6)\n",
        "print(1.0/6)"
      ],
      "execution_count": 50,
      "outputs": [
        {
          "output_type": "stream",
          "name": "stdout",
          "text": [
            "0.16666666666666666\n",
            "0.16666666666666666\n"
          ]
        }
      ]
    },
    {
      "cell_type": "markdown",
      "metadata": {
        "id": "V2Wy6cWkIPWq"
      },
      "source": [
        "#**Data Collections**\n",
        "##**List**\n",
        "A list is an ordered collection of values. A list is mutable, which means you can change a list's value without changing the list itself. Creating a list is simply putting different comma-separated values between square brackets."
      ]
    },
    {
      "cell_type": "code",
      "metadata": {
        "colab": {
          "base_uri": "https://localhost:8080/"
        },
        "id": "of3EW-yzJEUy",
        "outputId": "fb251842-c9fd-4553-b1f7-01daf09e2a12"
      },
      "source": [
        "my_list = ['Quant', 'Connect', 1,2,3]\n",
        "print(my_list)"
      ],
      "execution_count": 51,
      "outputs": [
        {
          "output_type": "stream",
          "name": "stdout",
          "text": [
            "['Quant', 'Connect', 1, 2, 3]\n"
          ]
        }
      ]
    },
    {
      "cell_type": "code",
      "metadata": {
        "colab": {
          "base_uri": "https://localhost:8080/"
        },
        "id": "J5Bt_6ZkJvnx",
        "outputId": "edf75b69-b7d2-4cfe-db90-8c49e3e6ef08"
      },
      "source": [
        "my_list = ['Santiago', 'Acosta', 5,6,8,0]\n",
        "print(my_list)"
      ],
      "execution_count": 52,
      "outputs": [
        {
          "output_type": "stream",
          "name": "stdout",
          "text": [
            "['Santiago', 'Acosta', 5, 6, 8, 0]\n"
          ]
        }
      ]
    },
    {
      "cell_type": "markdown",
      "metadata": {
        "id": "RDL4tTP0J9Ff"
      },
      "source": [
        "The values in a list are called \"elements\". We can access list elements by indexing. Python index starts from 0. So if you have a list of length n, the index of the first element will be 0, and that of the last element will be n − 1. By the way, the length of a list can be obtained by the built-in function len()."
      ]
    },
    {
      "cell_type": "code",
      "metadata": {
        "colab": {
          "base_uri": "https://localhost:8080/"
        },
        "id": "vKOBtwIbKAMJ",
        "outputId": "b99c9e7f-5966-4ac1-a270-46d479f20e39"
      },
      "source": [
        "my_list = ['Quant', 'Connect', 1,2,3]\n",
        "print(my_list)\n",
        "print(my_list[0])\n",
        "print(my_list[len(my_list) - 1])"
      ],
      "execution_count": 53,
      "outputs": [
        {
          "output_type": "stream",
          "name": "stdout",
          "text": [
            "['Quant', 'Connect', 1, 2, 3]\n",
            "Quant\n",
            "3\n"
          ]
        }
      ]
    },
    {
      "cell_type": "code",
      "metadata": {
        "id": "m8ldpv6sKVmZ",
        "colab": {
          "base_uri": "https://localhost:8080/"
        },
        "outputId": "14d070af-839b-4fa3-9b9a-d6b0867bc2e2"
      },
      "source": [
        "my_list = ['Santiago', 'Acosta', 5,6,8,0]\n",
        "print(my_list)\n",
        "print(my_list[0])\n",
        "print(my_list[len(my_list) - 1])"
      ],
      "execution_count": 54,
      "outputs": [
        {
          "output_type": "stream",
          "name": "stdout",
          "text": [
            "['Santiago', 'Acosta', 5, 6, 8, 0]\n",
            "Santiago\n",
            "0\n"
          ]
        }
      ]
    },
    {
      "cell_type": "markdown",
      "metadata": {
        "id": "1qr2riWZKczJ"
      },
      "source": [
        "You can also change the elements in the list by accessing an index and assigning a new value.\n"
      ]
    },
    {
      "cell_type": "code",
      "metadata": {
        "colab": {
          "base_uri": "https://localhost:8080/"
        },
        "id": "BJ2u8vdP1qYP",
        "outputId": "fd85f120-cf6b-456c-ef40-fc95d1fb3fbb"
      },
      "source": [
        "my_list = ['Quant','Connect',1,2,3]\n",
        "my_list[2] = 'go'\n",
        "print(my_list)"
      ],
      "execution_count": 55,
      "outputs": [
        {
          "output_type": "stream",
          "name": "stdout",
          "text": [
            "['Quant', 'Connect', 'go', 2, 3]\n"
          ]
        }
      ]
    },
    {
      "cell_type": "code",
      "metadata": {
        "colab": {
          "base_uri": "https://localhost:8080/"
        },
        "id": "0S0aCrTb12dd",
        "outputId": "667a9eec-8924-428c-c989-7af239dedb3f"
      },
      "source": [
        "my_list = ['Santiago', 'Acosta', 5,6,8,0]\n",
        "my_list[4] = 'ta'\n",
        "print(my_list)"
      ],
      "execution_count": 56,
      "outputs": [
        {
          "output_type": "stream",
          "name": "stdout",
          "text": [
            "['Santiago', 'Acosta', 5, 6, 'ta', 0]\n"
          ]
        }
      ]
    },
    {
      "cell_type": "markdown",
      "metadata": {
        "id": "4YOXB5tG2KS3"
      },
      "source": [
        "A list can also be sliced with a colon:"
      ]
    },
    {
      "cell_type": "code",
      "metadata": {
        "colab": {
          "base_uri": "https://localhost:8080/"
        },
        "id": "6sQSBu_q2MBZ",
        "outputId": "2a988da8-ea3c-41d7-9323-1b997b7a250d"
      },
      "source": [
        "my_list = ['Quant','Connect',1,2,3]\n",
        "print(my_list[1:3])"
      ],
      "execution_count": 57,
      "outputs": [
        {
          "output_type": "stream",
          "name": "stdout",
          "text": [
            "['Connect', 1]\n"
          ]
        }
      ]
    },
    {
      "cell_type": "code",
      "metadata": {
        "colab": {
          "base_uri": "https://localhost:8080/"
        },
        "id": "9lRXpKXu2h4p",
        "outputId": "7e579543-35bd-4578-bc36-a70d455ead96"
      },
      "source": [
        "my_list = ['Santiago', 'Acosta', 5,6,8,0]\n",
        "print(my_list[1:4])"
      ],
      "execution_count": 58,
      "outputs": [
        {
          "output_type": "stream",
          "name": "stdout",
          "text": [
            "['Acosta', 5, 6]\n"
          ]
        }
      ]
    },
    {
      "cell_type": "markdown",
      "metadata": {
        "id": "fZW6PGkH2ndv"
      },
      "source": [
        "The slice starts from the first element indicated, but excludes the last element indicated. Here we select all elements starting from index 1, which refers to the second element:"
      ]
    },
    {
      "cell_type": "code",
      "metadata": {
        "colab": {
          "base_uri": "https://localhost:8080/"
        },
        "id": "H4ZYAZkA2vPe",
        "outputId": "c98c2a3e-fb13-468b-b61d-ea2b5cf309f7"
      },
      "source": [
        "my_list = ['Quant','Connect',1,2,3]\n",
        "print(my_list[1:])"
      ],
      "execution_count": 59,
      "outputs": [
        {
          "output_type": "stream",
          "name": "stdout",
          "text": [
            "['Connect', 1, 2, 3]\n"
          ]
        }
      ]
    },
    {
      "cell_type": "code",
      "metadata": {
        "colab": {
          "base_uri": "https://localhost:8080/"
        },
        "id": "ic_MSOM428Oy",
        "outputId": "250f1dd1-05a5-4ea8-e993-5be2d97d238b"
      },
      "source": [
        "my_list = ['Santiago', 'Acosta', 5,6,8,0]\n",
        "print(my_list[1:])"
      ],
      "execution_count": 60,
      "outputs": [
        {
          "output_type": "stream",
          "name": "stdout",
          "text": [
            "['Acosta', 5, 6, 8, 0]\n"
          ]
        }
      ]
    },
    {
      "cell_type": "markdown",
      "metadata": {
        "id": "vKYXeReB2_UK"
      },
      "source": [
        "And all elements up to but excluding index 3:"
      ]
    },
    {
      "cell_type": "code",
      "metadata": {
        "colab": {
          "base_uri": "https://localhost:8080/"
        },
        "id": "rlT9coJ23BuE",
        "outputId": "b58de0e5-8477-4633-a98f-aa69e1a93236"
      },
      "source": [
        "my_list = ['Quant','Connect',1,2,3]\n",
        "print(my_list[:3])"
      ],
      "execution_count": 61,
      "outputs": [
        {
          "output_type": "stream",
          "name": "stdout",
          "text": [
            "['Quant', 'Connect', 1]\n"
          ]
        }
      ]
    },
    {
      "cell_type": "code",
      "metadata": {
        "colab": {
          "base_uri": "https://localhost:8080/"
        },
        "id": "kHypV6NC3cJA",
        "outputId": "a5564f67-23e1-4846-fe72-020c98cfc7cb"
      },
      "source": [
        "my_list = ['Santiago', 'Acosta', 5,6,8,0]\n",
        "print(my_list[:4])"
      ],
      "execution_count": 62,
      "outputs": [
        {
          "output_type": "stream",
          "name": "stdout",
          "text": [
            "['Santiago', 'Acosta', 5, 6]\n"
          ]
        }
      ]
    },
    {
      "cell_type": "markdown",
      "metadata": {
        "id": "uvuLZDmO3gVU"
      },
      "source": [
        "If you wish to add or remove an element from a list, you can use the append() and remove() methods for lists as follows:"
      ]
    },
    {
      "cell_type": "code",
      "metadata": {
        "colab": {
          "base_uri": "https://localhost:8080/"
        },
        "id": "ViYdo8vG3irX",
        "outputId": "c58f7503-5052-444b-8a8b-ed68a5ce8920"
      },
      "source": [
        "my_list = ['Hello', 'Quant']\n",
        "my_list.append('Hello')\n",
        "print(my_list)\n",
        "my_list.remove('Hello')\n",
        "print(my_list)"
      ],
      "execution_count": 63,
      "outputs": [
        {
          "output_type": "stream",
          "name": "stdout",
          "text": [
            "['Hello', 'Quant', 'Hello']\n",
            "['Quant', 'Hello']\n"
          ]
        }
      ]
    },
    {
      "cell_type": "code",
      "metadata": {
        "colab": {
          "base_uri": "https://localhost:8080/"
        },
        "id": "AK2dwt3o3wC6",
        "outputId": "4b94d36e-2955-44dc-87fe-9b1c01f2116e"
      },
      "source": [
        "my_list = ['san', 'tia']\n",
        "my_list.append('go')\n",
        "print(my_list)\n",
        "my_list.remove('go')\n",
        "print(my_list)"
      ],
      "execution_count": 64,
      "outputs": [
        {
          "output_type": "stream",
          "name": "stdout",
          "text": [
            "['san', 'tia', 'go']\n",
            "['san', 'tia']\n"
          ]
        }
      ]
    },
    {
      "cell_type": "markdown",
      "metadata": {
        "id": "KaKT5O-o4JaC"
      },
      "source": [
        "When there are repeated instances of \"Hello\", the first one is removed.\n",
        "\n",
        "##**Tuple**\n",
        "A tuple is a data structure type similar to a list. The difference is that a tuple is immutable, which means you can't change the elements in it once it's defined. We create a tuple by putting comma-separated values between parentheses."
      ]
    },
    {
      "cell_type": "code",
      "metadata": {
        "colab": {
          "base_uri": "https://localhost:8080/"
        },
        "id": "8AHk5zDX4LLc",
        "outputId": "6a796890-1b9c-4a1d-d844-46f12013b3db"
      },
      "source": [
        "my_tuple = ('Welcome','to','QuantConnect')\n",
        "print(my_tuple[1:])"
      ],
      "execution_count": 65,
      "outputs": [
        {
          "output_type": "stream",
          "name": "stdout",
          "text": [
            "('to', 'QuantConnect')\n"
          ]
        }
      ]
    },
    {
      "cell_type": "code",
      "metadata": {
        "colab": {
          "base_uri": "https://localhost:8080/"
        },
        "id": "XsjCxzSe4hOm",
        "outputId": "d0a1eb05-2c0a-4048-88fb-7ae7200b5ced"
      },
      "source": [
        "my_tuple = ('Welcome','to','u nacional')\n",
        "print(my_tuple[1:])"
      ],
      "execution_count": 66,
      "outputs": [
        {
          "output_type": "stream",
          "name": "stdout",
          "text": [
            "('to', 'u nacional')\n"
          ]
        }
      ]
    },
    {
      "cell_type": "markdown",
      "metadata": {
        "id": "4pEuZycr4w7B"
      },
      "source": [
        "##**Set**\n",
        "A set is an unordered collection with no duplicate elements. The built-in function set() can be used to create sets."
      ]
    },
    {
      "cell_type": "code",
      "metadata": {
        "colab": {
          "base_uri": "https://localhost:8080/"
        },
        "id": "086BCZHK4yom",
        "outputId": "31007829-ea0e-4189-eba2-e2d13efb3ecb"
      },
      "source": [
        "stock_list = ['AAPL','GOOG','IBM','AAPL','IBM','FB','F','GOOG']\n",
        "stock_set = set(stock_list)\n",
        "print(stock_set)"
      ],
      "execution_count": 67,
      "outputs": [
        {
          "output_type": "stream",
          "name": "stdout",
          "text": [
            "{'IBM', 'AAPL', 'GOOG', 'FB', 'F'}\n"
          ]
        }
      ]
    },
    {
      "cell_type": "code",
      "metadata": {
        "colab": {
          "base_uri": "https://localhost:8080/"
        },
        "id": "kzrhlv5541XV",
        "outputId": "9dd6b61e-1c7c-4ef8-ad9d-c887cbc49818"
      },
      "source": [
        "stock_list = ['A','B','C','A','D','C','E','E']\n",
        "stock_set = set(stock_list)\n",
        "print(stock_set)"
      ],
      "execution_count": 68,
      "outputs": [
        {
          "output_type": "stream",
          "name": "stdout",
          "text": [
            "{'D', 'A', 'C', 'B', 'E'}\n"
          ]
        }
      ]
    },
    {
      "cell_type": "markdown",
      "metadata": {
        "id": "ITp8R9j55B43"
      },
      "source": [
        "Set is an easy way to remove duplicate elements from a list.\n",
        "\n",
        "##**Dictionary**\n",
        "A dictionary is one of the most important data structures in Python. Unlike sequences which are indexed by integers, dictionaries are indexed by keys which can be either strings or floats.\n",
        "\n",
        "A dictionary is an unordered collection of key : value pairs, with the requirement that the keys are unique. We create a dictionary by placing a comma-separated list of key : value pairs within the braces."
      ]
    },
    {
      "cell_type": "code",
      "metadata": {
        "colab": {
          "base_uri": "https://localhost:8080/"
        },
        "id": "iHo8y5H45EFT",
        "outputId": "f461f4dc-a1f5-42d9-93c4-2f0e4021f603"
      },
      "source": [
        "my_dic = {'AAPL': 'Apple', 'FB': 'FaceBook', 'GOOG': 'Alphabet'}\n",
        "print(my_dic['GOOG'])"
      ],
      "execution_count": 69,
      "outputs": [
        {
          "output_type": "stream",
          "name": "stdout",
          "text": [
            "Alphabet\n"
          ]
        }
      ]
    },
    {
      "cell_type": "code",
      "metadata": {
        "colab": {
          "base_uri": "https://localhost:8080/"
        },
        "id": "e3TAQw9P5W1Z",
        "outputId": "e990e12c-0010-461a-f993-73b2624f48b6"
      },
      "source": [
        "my_dic = {'A': 'B', 'C': 'D', 'E': 'F'}\n",
        "print(my_dic['A'])"
      ],
      "execution_count": 70,
      "outputs": [
        {
          "output_type": "stream",
          "name": "stdout",
          "text": [
            "B\n"
          ]
        }
      ]
    },
    {
      "cell_type": "markdown",
      "metadata": {
        "id": "9epKTfys5qAQ"
      },
      "source": [
        "After defining a dictionary, we can access any value by indicating its key in brackets."
      ]
    },
    {
      "cell_type": "code",
      "metadata": {
        "colab": {
          "base_uri": "https://localhost:8080/"
        },
        "id": "yyv6xT2t5rdR",
        "outputId": "6aec0a32-04f4-4dcf-ee3d-021762ae7448"
      },
      "source": [
        "my_dic = {'AAPL': 'Apple', 'FB': 'FaceBook', 'GOOG': 'Alphabet'}\n",
        "my_dic['GOOG'] = 'Alphabet Company'\n",
        "print(my_dic['GOOG'])"
      ],
      "execution_count": 71,
      "outputs": [
        {
          "output_type": "stream",
          "name": "stdout",
          "text": [
            "Alphabet Company\n"
          ]
        }
      ]
    },
    {
      "cell_type": "code",
      "metadata": {
        "colab": {
          "base_uri": "https://localhost:8080/"
        },
        "id": "uMhD5CyD6MM4",
        "outputId": "d71142af-b321-4538-f62b-85511d4b39f1"
      },
      "source": [
        "my_dic = {'A': 'B', 'C': 'D', 'E': 'F'}\n",
        "my_dic['A'] = 'SS'\n",
        "print(my_dic['A'])"
      ],
      "execution_count": 72,
      "outputs": [
        {
          "output_type": "stream",
          "name": "stdout",
          "text": [
            "SS\n"
          ]
        }
      ]
    },
    {
      "cell_type": "markdown",
      "metadata": {
        "id": "KC093E-D6Tg8"
      },
      "source": [
        "We can also change the value associated with a specified key:"
      ]
    },
    {
      "cell_type": "code",
      "metadata": {
        "colab": {
          "base_uri": "https://localhost:8080/"
        },
        "id": "nm74luQ66VkF",
        "outputId": "524d2448-e026-44f1-a5f0-afc1d395bd96"
      },
      "source": [
        "my_dic = {'AAPL': 'Apple', 'FB': 'FaceBook', 'GOOG': 'Alphabet'}\n",
        "print(my_dic.keys())"
      ],
      "execution_count": 73,
      "outputs": [
        {
          "output_type": "stream",
          "name": "stdout",
          "text": [
            "dict_keys(['AAPL', 'FB', 'GOOG'])\n"
          ]
        }
      ]
    },
    {
      "cell_type": "code",
      "metadata": {
        "colab": {
          "base_uri": "https://localhost:8080/"
        },
        "id": "pzb95PoH6df5",
        "outputId": "b2584533-91fc-42fd-9e61-6c8f32fe0d5c"
      },
      "source": [
        "my_dic = {'A': 'B', 'C': 'D', 'E': 'F'}\n",
        "print(my_dic.keys())"
      ],
      "execution_count": 74,
      "outputs": [
        {
          "output_type": "stream",
          "name": "stdout",
          "text": [
            "dict_keys(['A', 'C', 'E'])\n"
          ]
        }
      ]
    },
    {
      "cell_type": "markdown",
      "metadata": {
        "id": "aS2qA27g6xBy"
      },
      "source": [
        "The built-in method of the dictionary object dict.keys() returns a list of all the keys used in the dictionary.\n",
        "\n",
        "##**Common String Operations**\n",
        "A string is an immutable sequence of characters. It can be sliced by index just like a tuple:"
      ]
    },
    {
      "cell_type": "code",
      "metadata": {
        "colab": {
          "base_uri": "https://localhost:8080/"
        },
        "id": "Pnyaakw36y9N",
        "outputId": "e3efd32c-4944-4348-db82-92d534060e5b"
      },
      "source": [
        "my_str = 'Welcome to QuantConnect'\n",
        "print(my_str[8:])"
      ],
      "execution_count": 75,
      "outputs": [
        {
          "output_type": "stream",
          "name": "stdout",
          "text": [
            "to QuantConnect\n"
          ]
        }
      ]
    },
    {
      "cell_type": "code",
      "metadata": {
        "colab": {
          "base_uri": "https://localhost:8080/"
        },
        "id": "_rLnomOZ60g-",
        "outputId": "4940824f-2f61-45cf-b45b-2b20f3e73cc0"
      },
      "source": [
        "my_str = 'hola como estas?'\n",
        "print(my_str[5:])"
      ],
      "execution_count": 76,
      "outputs": [
        {
          "output_type": "stream",
          "name": "stdout",
          "text": [
            "como estas?\n"
          ]
        }
      ]
    },
    {
      "cell_type": "markdown",
      "metadata": {
        "id": "Gi8EDY587LSu"
      },
      "source": [
        "There are many methods associated with strings. We can use string.count() to count the occurrences of a character in a string, use string.find() to return the index of a specific character, and use string.replace() to replace characters"
      ]
    },
    {
      "cell_type": "code",
      "metadata": {
        "colab": {
          "base_uri": "https://localhost:8080/"
        },
        "id": "pZtZJ3nF7Ocy",
        "outputId": "e266d885-7c4e-4408-fc14-2225fa32afd4"
      },
      "source": [
        "print(\"Counting the number of e's in this sentence\".count('e'))\n",
        "print('The first time e appears in this sentence'.find('e'))\n",
        "print('all the a in this sentence now becomes e'.replace('a','e'))"
      ],
      "execution_count": 77,
      "outputs": [
        {
          "output_type": "stream",
          "name": "stdout",
          "text": [
            "6\n",
            "2\n",
            "ell the e in this sentence now becomes e\n"
          ]
        }
      ]
    },
    {
      "cell_type": "code",
      "metadata": {
        "colab": {
          "base_uri": "https://localhost:8080/"
        },
        "id": "bjsNL4km7iKd",
        "outputId": "f59b2c53-85e9-4822-cb05-272cbeacbec5"
      },
      "source": [
        "print(\"mi nombre es santiago acosta\".count('e'))\n",
        "print('mi nombre es santiago acosta'.find('o'))\n",
        "print('mi nombre es santiago acosta'.replace('a','e'))"
      ],
      "execution_count": 78,
      "outputs": [
        {
          "output_type": "stream",
          "name": "stdout",
          "text": [
            "2\n",
            "4\n",
            "mi nombre es sentiego ecoste\n"
          ]
        }
      ]
    },
    {
      "cell_type": "markdown",
      "metadata": {
        "id": "XrRPo4BB8C3g"
      },
      "source": [
        "\n",
        "The most commonly used method for strings is string.split(). This method will split the string by the indicated character and return a list"
      ]
    },
    {
      "cell_type": "code",
      "metadata": {
        "colab": {
          "base_uri": "https://localhost:8080/"
        },
        "id": "vvi7jRQC8Aji",
        "outputId": "97000f39-18c2-4ac4-f900-e7a73f19377f"
      },
      "source": [
        "Time = '2016-04-01 09:43:00'\n",
        "splited_list = Time.split(' ')\n",
        "date = splited_list[0]\n",
        "time = splited_list[1]\n",
        "print(date, time)\n",
        "hour = time.split(':')[0]\n",
        "print(hour)"
      ],
      "execution_count": 79,
      "outputs": [
        {
          "output_type": "stream",
          "name": "stdout",
          "text": [
            "2016-04-01 09:43:00\n",
            "09\n"
          ]
        }
      ]
    },
    {
      "cell_type": "code",
      "metadata": {
        "colab": {
          "base_uri": "https://localhost:8080/"
        },
        "id": "o5nbaW8r8WbH",
        "outputId": "5afaa78e-aef2-4568-ebf4-6f58aa91a991"
      },
      "source": [
        "Time = '2021-10-16 11:31:00'\n",
        "splited_list = Time.split(' ')\n",
        "date = splited_list[0]\n",
        "time = splited_list[1]\n",
        "print(date, time)\n",
        "hour = time.split(':')[0]\n",
        "print(hour)"
      ],
      "execution_count": 80,
      "outputs": [
        {
          "output_type": "stream",
          "name": "stdout",
          "text": [
            "2021-10-16 11:31:00\n",
            "11\n"
          ]
        }
      ]
    },
    {
      "cell_type": "markdown",
      "metadata": {
        "id": "XEjTFHrW8k1M"
      },
      "source": [
        "We can replace parts of a string by our variable. This is called string formatting."
      ]
    },
    {
      "cell_type": "code",
      "metadata": {
        "colab": {
          "base_uri": "https://localhost:8080/"
        },
        "id": "ZB6bSW7w8mhz",
        "outputId": "a417a26a-f08f-4f55-9e3a-62a3b48a87ad"
      },
      "source": [
        "my_time = 'Hour: {}, Minute: {}'.format(9, 43)\n",
        "print(my_time)"
      ],
      "execution_count": 81,
      "outputs": [
        {
          "output_type": "stream",
          "name": "stdout",
          "text": [
            "Hour: 9, Minute: 43\n"
          ]
        }
      ]
    },
    {
      "cell_type": "code",
      "metadata": {
        "colab": {
          "base_uri": "https://localhost:8080/"
        },
        "id": "KIOb3Haa8q7h",
        "outputId": "53b725b9-b88f-40ef-e377-e40226dc5796"
      },
      "source": [
        "my_time = 'Hour: {}, Minute: {}'.format(11, 31)\n",
        "print(my_time)"
      ],
      "execution_count": 82,
      "outputs": [
        {
          "output_type": "stream",
          "name": "stdout",
          "text": [
            "Hour: 11, Minute: 31\n"
          ]
        }
      ]
    },
    {
      "cell_type": "markdown",
      "metadata": {
        "id": "l8bxs6Gf876O"
      },
      "source": [
        "Another way to format a string is to use the % symbol."
      ]
    },
    {
      "cell_type": "code",
      "metadata": {
        "colab": {
          "base_uri": "https://localhost:8080/"
        },
        "id": "zukZl15r8-Tp",
        "outputId": "95b8ef2e-8088-4a5a-9029-a6fe5a56812a"
      },
      "source": [
        "print ('pi is %f' % 3.14)\n",
        "print('%s to %s' % ('Welcome', 'QuantConnect'))"
      ],
      "execution_count": 83,
      "outputs": [
        {
          "output_type": "stream",
          "name": "stdout",
          "text": [
            "pi is 3.140000\n",
            "Welcome to QuantConnect\n"
          ]
        }
      ]
    },
    {
      "cell_type": "code",
      "metadata": {
        "colab": {
          "base_uri": "https://localhost:8080/"
        },
        "id": "W34LyOn29aQO",
        "outputId": "f4e4a2da-3a86-4146-dec1-ee309e174dff"
      },
      "source": [
        "print ('3/2 es %f' % 1.5)\n",
        "print('%s soy %s' % ('hola', 'yo'))"
      ],
      "execution_count": 84,
      "outputs": [
        {
          "output_type": "stream",
          "name": "stdout",
          "text": [
            "3/2 es 1.500000\n",
            "hola soy yo\n"
          ]
        }
      ]
    },
    {
      "cell_type": "markdown",
      "metadata": {
        "id": "btZh0QIP-I1L"
      },
      "source": [
        "#**Summary**\n",
        "Weave seen the basic data types and data structures in Python. It's important to keep practicing to become familiar with these data structures. In the next tutorial, we will cover for and while loops and logical operations in Python."
      ]
    },
    {
      "cell_type": "markdown",
      "metadata": {
        "id": "ttDEudRJ-Nh7"
      },
      "source": [
        "#**02 Logical Operations and Loops**\n",
        "#**Introduction**\n",
        "We discussed the basic data types and data structures in Python in the last tutorial. This chapter covers logical operations and loops in Python, which are very common in programming.\n",
        "\n",
        "#**Logical Operations**\n",
        "Like most programming languages, Python has comparison operators:"
      ]
    },
    {
      "cell_type": "code",
      "metadata": {
        "colab": {
          "base_uri": "https://localhost:8080/"
        },
        "id": "TP8aa6Vc-POC",
        "outputId": "90d00ea6-dc09-4ba3-cd37-f9a313ccb362"
      },
      "source": [
        "print (1 == 0)    # 1 equals 0\n",
        "print (1 == 1)    # 1 equals 1\n",
        "print (1 != 0)    # 1 is not equal to 0\n",
        "print (5 >= 5)    # 5 is greater than or equal to 5\n",
        "print (5 >= 6)    # 5 is greater than or equal to 6"
      ],
      "execution_count": 85,
      "outputs": [
        {
          "output_type": "stream",
          "name": "stdout",
          "text": [
            "False\n",
            "True\n",
            "True\n",
            "True\n",
            "False\n"
          ]
        }
      ]
    },
    {
      "cell_type": "code",
      "metadata": {
        "colab": {
          "base_uri": "https://localhost:8080/"
        },
        "id": "NGQz5NYD-zAQ",
        "outputId": "7efda717-5c98-4f9a-d1f0-7f8072b34dbb"
      },
      "source": [
        "print (12 == 3)    \n",
        "print (999 == 999)    \n",
        "print (4 != 3)    \n",
        "print (78 >= 78)   \n",
        "print (4 >= 9)    "
      ],
      "execution_count": 86,
      "outputs": [
        {
          "output_type": "stream",
          "name": "stdout",
          "text": [
            "False\n",
            "True\n",
            "True\n",
            "True\n",
            "False\n"
          ]
        }
      ]
    },
    {
      "cell_type": "markdown",
      "metadata": {
        "id": "aj6z7kyK_GBO"
      },
      "source": [
        "Each statement above has a boolean value, which must be either True or False, but not both.\n",
        "\n",
        "We can combine simple statements P and Q to form complex statements using logical operators:\n",
        "\n",
        "\n",
        "\n",
        "The statement \"not P\" is true if P is false, and vice versa.\n",
        "\n",
        "*   The statement \"P and Q\" is true if both P and Q are true, otherwise it is false.\n",
        "*   The statement \"P or Q\" is false if both P and Q are false, otherwise it is true.\n",
        "*   The statement \"not P\" is true if P is false, and vice versa.\n",
        "\n",
        "\n"
      ]
    },
    {
      "cell_type": "code",
      "metadata": {
        "colab": {
          "base_uri": "https://localhost:8080/"
        },
        "id": "0vwCrkmE_IIB",
        "outputId": "6230dafa-584b-4fe4-f5d1-364869296f18"
      },
      "source": [
        "print (2 > 1 and 3 > 2)\n",
        "print (2 > 1 and 3 < 2)\n",
        "print (2 > 1 or  3 < 2)\n",
        "print (2 < 1 and 3 < 2)"
      ],
      "execution_count": 87,
      "outputs": [
        {
          "output_type": "stream",
          "name": "stdout",
          "text": [
            "True\n",
            "False\n",
            "True\n",
            "False\n"
          ]
        }
      ]
    },
    {
      "cell_type": "code",
      "metadata": {
        "colab": {
          "base_uri": "https://localhost:8080/"
        },
        "id": "Lm92GCK0_WtK",
        "outputId": "bd23841b-2a5a-4716-967e-78bf2f67f869"
      },
      "source": [
        "print (14 > 1 and 5 > 4)\n",
        "print (89 > 1 and 8 < 2)\n",
        "print (65 > 1 or  89 < 2)\n",
        "print (4 < 1 and 2 < 2)"
      ],
      "execution_count": 88,
      "outputs": [
        {
          "output_type": "stream",
          "name": "stdout",
          "text": [
            "True\n",
            "False\n",
            "True\n",
            "False\n"
          ]
        }
      ]
    },
    {
      "cell_type": "markdown",
      "metadata": {
        "id": "u1vrmMSA_k-8"
      },
      "source": [
        "When dealing with a very complex logical statement that involves in several statements, we can use brackets to separate and combine them."
      ]
    },
    {
      "cell_type": "code",
      "metadata": {
        "colab": {
          "base_uri": "https://localhost:8080/"
        },
        "id": "0bA0-Blw_mhJ",
        "outputId": "430f5aa5-fb38-4761-8c71-293254f4f471"
      },
      "source": [
        "print ((3 > 2 or 1 < 3) and (1!=3 and 4>3) and not ( 3 < 2 or 1 < 3 and (1!=3 and 4>3)))\n",
        "print (3 > 2 or 1 < 3 and (1!=3 and 4>3) and not ( 3 < 2 or 1 < 3 and (1!=3 and 4>3)))"
      ],
      "execution_count": 89,
      "outputs": [
        {
          "output_type": "stream",
          "name": "stdout",
          "text": [
            "False\n",
            "True\n"
          ]
        }
      ]
    },
    {
      "cell_type": "code",
      "metadata": {
        "colab": {
          "base_uri": "https://localhost:8080/"
        },
        "id": "eVuoEmRM_u0y",
        "outputId": "a97d619d-937c-4ebf-9ceb-a5fe94f5d362"
      },
      "source": [
        "print ((7 > 2 or 1 < 6) and (1!=4 and 6>3) and not ( 12 < 1 or 2 < 12 and (12!=45 and 45>33)))\n",
        "print (32 > 21 or 16 < 37 and (17!=35 and 46>35) and not ( 34 < 27 or 12 < 33 and (15!=37 and 42>31)))"
      ],
      "execution_count": 90,
      "outputs": [
        {
          "output_type": "stream",
          "name": "stdout",
          "text": [
            "False\n",
            "True\n"
          ]
        }
      ]
    },
    {
      "cell_type": "markdown",
      "metadata": {
        "id": "KeaDanFjAE80"
      },
      "source": [
        "Comparing the above two statements, we can see that it's wise to use brackets when we make a complex logical statement.\n",
        "\n",
        "##**If Statement**\n",
        "An if statement executes a segment of code only if its condition is true. A standard if statement consists of 3 segments: if, elif and else."
      ]
    },
    {
      "cell_type": "markdown",
      "metadata": {
        "id": "lwxwkD1LK_sy"
      },
      "source": [
        "\n",
        "An if statement doesn't necessarily has elif and else part. If it's not specified, the indented block of code will be executed when the condition is true, otherwise the whole if statement will be skipped."
      ]
    },
    {
      "cell_type": "markdown",
      "metadata": {
        "id": "I_yupcKPN_Qr"
      },
      "source": [
        "if statement1:\n",
        "    # if the statement1 is true, execute the code here.\n",
        "    # code.....\n",
        "    # code.....\n",
        "elif statement2:\n",
        "    # if the statement 1 is false, skip the codes above to this part.\n",
        "    # code......\n",
        "    # code......\n",
        "else:\n",
        "    # if none of the above statements is True, skip to this part\n",
        "    # code......"
      ]
    },
    {
      "cell_type": "code",
      "metadata": {
        "colab": {
          "base_uri": "https://localhost:8080/"
        },
        "id": "-djyH6UcACCf",
        "outputId": "9d6b444b-4b0e-4630-e63d-b1f0a6243fab"
      },
      "source": [
        "i = 0\n",
        "if i == 0: print ('i == 0 is True')"
      ],
      "execution_count": 91,
      "outputs": [
        {
          "output_type": "stream",
          "name": "stdout",
          "text": [
            "i == 0 is True\n"
          ]
        }
      ]
    },
    {
      "cell_type": "code",
      "metadata": {
        "colab": {
          "base_uri": "https://localhost:8080/"
        },
        "id": "zGCpgYEPATL0",
        "outputId": "978ec0ca-abd7-4df0-e9f4-cc446cd5721d"
      },
      "source": [
        "i = 7\n",
        "if i == 7: print ('i == 7 is True')"
      ],
      "execution_count": 92,
      "outputs": [
        {
          "output_type": "stream",
          "name": "stdout",
          "text": [
            "i == 7 is True\n"
          ]
        }
      ]
    },
    {
      "cell_type": "markdown",
      "metadata": {
        "id": "aBTVGzdhAb9R"
      },
      "source": [
        "As we mentioned above, we can write some complex statements here:"
      ]
    },
    {
      "cell_type": "code",
      "metadata": {
        "colab": {
          "base_uri": "https://localhost:8080/"
        },
        "id": "H6CCLw_2AarJ",
        "outputId": "4ef535a8-ec62-4cc2-a55c-6b563a3f7698"
      },
      "source": [
        "p = 1 > 0\n",
        "q = 2 > 3\n",
        "if p and q:\n",
        "    print ('p and q is true')\n",
        "elif p and not q:\n",
        "    print ('q is false')\n",
        "elif q and not p:\n",
        "    print ('p is false')\n",
        "else:\n",
        "    print ('None of p and q is true')"
      ],
      "execution_count": 93,
      "outputs": [
        {
          "output_type": "stream",
          "name": "stdout",
          "text": [
            "q is false\n"
          ]
        }
      ]
    },
    {
      "cell_type": "code",
      "metadata": {
        "colab": {
          "base_uri": "https://localhost:8080/"
        },
        "id": "g6lfipDcAp8d",
        "outputId": "37348492-4b16-4452-ce89-9085356ec8ec"
      },
      "source": [
        "p = 0 > 1\n",
        "q = 3 > 2\n",
        "if p and q:\n",
        "    print ('p and q is true')\n",
        "elif p and not q:\n",
        "    print ('q is false')\n",
        "elif q and not p:\n",
        "    print ('p is false')\n",
        "else:\n",
        "    print ('None of p and q is true')"
      ],
      "execution_count": 94,
      "outputs": [
        {
          "output_type": "stream",
          "name": "stdout",
          "text": [
            "p is false\n"
          ]
        }
      ]
    },
    {
      "cell_type": "markdown",
      "metadata": {
        "id": "EV2TB8RBBD6D"
      },
      "source": [
        "#**Loop Structure**\n",
        "Loops are an essential part of programming. The \"for\" and \"while\" loops run a block of code repeatedly.\n",
        "\n",
        "##**While Loop**\n",
        "A \"while\" loop will run repeatedly until a certain condition has been met."
      ]
    },
    {
      "cell_type": "code",
      "metadata": {
        "colab": {
          "base_uri": "https://localhost:8080/"
        },
        "id": "g-O6_u1HBGLh",
        "outputId": "97ddb061-9462-4b8e-e40f-a0faf342b294"
      },
      "source": [
        "i = 0\n",
        "while i < 5:\n",
        "    print (i)\n",
        "    i += 1"
      ],
      "execution_count": 95,
      "outputs": [
        {
          "output_type": "stream",
          "name": "stdout",
          "text": [
            "0\n",
            "1\n",
            "2\n",
            "3\n",
            "4\n"
          ]
        }
      ]
    },
    {
      "cell_type": "code",
      "metadata": {
        "colab": {
          "base_uri": "https://localhost:8080/"
        },
        "id": "YOP_7XmbBLye",
        "outputId": "710ce06b-2e67-485e-fa04-265b620ff6dc"
      },
      "source": [
        "i = 0\n",
        "while i < 7:\n",
        "    print (i)\n",
        "    i += 1"
      ],
      "execution_count": 96,
      "outputs": [
        {
          "output_type": "stream",
          "name": "stdout",
          "text": [
            "0\n",
            "1\n",
            "2\n",
            "3\n",
            "4\n",
            "5\n",
            "6\n"
          ]
        }
      ]
    },
    {
      "cell_type": "markdown",
      "metadata": {
        "id": "Xjg8_1mCBPj_"
      },
      "source": [
        "When making a while loop, we need to ensure that something changes from iteration to iteration so that the while loop will terminate, otherwise, it will run forever. Here we used i += 1 (short for i = i + 1) to make i larger after each iteration. This is the most commonly used method to control a while loop.\n",
        "\n",
        "##**For Loop**\n",
        "A \"for\" loop will iterate over a sequence of value and terminate when the sequence has ended."
      ]
    },
    {
      "cell_type": "code",
      "metadata": {
        "colab": {
          "base_uri": "https://localhost:8080/"
        },
        "id": "Hc7CDf-WBRc-",
        "outputId": "6a7f0b18-f9c6-4ec6-bbc2-0a19e214f011"
      },
      "source": [
        "for x in [1,2,3,4,5]: print (x)"
      ],
      "execution_count": 97,
      "outputs": [
        {
          "output_type": "stream",
          "name": "stdout",
          "text": [
            "1\n",
            "2\n",
            "3\n",
            "4\n",
            "5\n"
          ]
        }
      ]
    },
    {
      "cell_type": "code",
      "metadata": {
        "colab": {
          "base_uri": "https://localhost:8080/"
        },
        "id": "ZUe1f4wXBeUe",
        "outputId": "d5715e5b-2c5a-4651-839b-c02dae22bd54"
      },
      "source": [
        "for x in [1,2,34,46,5]: print (x)"
      ],
      "execution_count": 98,
      "outputs": [
        {
          "output_type": "stream",
          "name": "stdout",
          "text": [
            "1\n",
            "2\n",
            "34\n",
            "46\n",
            "5\n"
          ]
        }
      ]
    },
    {
      "cell_type": "markdown",
      "metadata": {
        "id": "o9nKexQJBhUA"
      },
      "source": [
        "We can also add if statements in a for loop. Here is a real example from our pairs trading algorithm:"
      ]
    },
    {
      "cell_type": "code",
      "metadata": {
        "colab": {
          "base_uri": "https://localhost:8080/"
        },
        "id": "kR8ddF4ABi-a",
        "outputId": "3e00e9ca-81be-4a7b-c3e7-b6375e45fdca"
      },
      "source": [
        "stocks = ['AAPL','GOOG','IBM','FB','F','V', 'G', 'GE']\n",
        "selected = ['AAPL','IBM']\n",
        "new_list = []\n",
        "for stock in stocks:\n",
        "    if stock not in selected:\n",
        "        new_list.append(stock)\n",
        "print (new_list)"
      ],
      "execution_count": 99,
      "outputs": [
        {
          "output_type": "stream",
          "name": "stdout",
          "text": [
            "['GOOG', 'FB', 'F', 'V', 'G', 'GE']\n"
          ]
        }
      ]
    },
    {
      "cell_type": "code",
      "metadata": {
        "colab": {
          "base_uri": "https://localhost:8080/"
        },
        "id": "Jqv-gCHBB30a",
        "outputId": "9a20dc1c-1318-495e-c710-0de9ce9ad35e"
      },
      "source": [
        "stocks = ['AAPL','GOOG','IBM','FB','F','V', 'G', 'GE']\n",
        "selected = ['AAPL','IBM','FB','F']\n",
        "new_list = []\n",
        "for stock in stocks:\n",
        "    if stock not in selected:\n",
        "        new_list.append(stock)\n",
        "print (new_list)"
      ],
      "execution_count": 100,
      "outputs": [
        {
          "output_type": "stream",
          "name": "stdout",
          "text": [
            "['GOOG', 'V', 'G', 'GE']\n"
          ]
        }
      ]
    },
    {
      "cell_type": "markdown",
      "metadata": {
        "id": "VNDTzhGqCDeI"
      },
      "source": [
        "Here we iterated all the elements in the list 'stocks'. Later in this chapter, we will introduce a smarter way to do this, which is just a one-line code.\n",
        "\n",
        "##**Break and continue**\n",
        "These are two commonly used commands in a for loop. If \"break\" is triggered while a loop is executing, the loop will terminate immediately:"
      ]
    },
    {
      "cell_type": "code",
      "metadata": {
        "colab": {
          "base_uri": "https://localhost:8080/"
        },
        "id": "UaD3mBGECGy4",
        "outputId": "1d6a91d7-6387-439e-b5b6-baf404940faf"
      },
      "source": [
        "stocks = ['AAPL','GOOG','IBM','FB','F','V', 'G', 'GE']\n",
        "for stock in stocks:\n",
        "    print (stock)\n",
        "    if stock == 'FB': break"
      ],
      "execution_count": 101,
      "outputs": [
        {
          "output_type": "stream",
          "name": "stdout",
          "text": [
            "AAPL\n",
            "GOOG\n",
            "IBM\n",
            "FB\n"
          ]
        }
      ]
    },
    {
      "cell_type": "code",
      "metadata": {
        "colab": {
          "base_uri": "https://localhost:8080/"
        },
        "id": "tBq3s9zFCUTz",
        "outputId": "e3e7363f-2ac0-4fdc-9456-eb4a5d04f835"
      },
      "source": [
        "stocks = ['AAPL','GOOG','IBM','FB','F','V', 'G', 'GE']\n",
        "for stock in stocks:\n",
        "    print (stock)\n",
        "    if stock == 'G': break"
      ],
      "execution_count": 102,
      "outputs": [
        {
          "output_type": "stream",
          "name": "stdout",
          "text": [
            "AAPL\n",
            "GOOG\n",
            "IBM\n",
            "FB\n",
            "F\n",
            "V\n",
            "G\n"
          ]
        }
      ]
    },
    {
      "cell_type": "markdown",
      "metadata": {
        "id": "YRuswmlSCY0F"
      },
      "source": [
        "The \"continue\" command tells the loop to end this iteration and skip to the next iteration:"
      ]
    },
    {
      "cell_type": "code",
      "metadata": {
        "colab": {
          "base_uri": "https://localhost:8080/"
        },
        "id": "NGCz4CD0CalQ",
        "outputId": "0839c044-cf54-4634-eb0c-7a2f0506c09b"
      },
      "source": [
        "stocks = ['AAPL','GOOG','IBM','FB','F','V', 'G', 'GE']\n",
        "for stock in stocks:\n",
        "    if stock == 'FB': continue\n",
        "    print (stock)"
      ],
      "execution_count": 103,
      "outputs": [
        {
          "output_type": "stream",
          "name": "stdout",
          "text": [
            "AAPL\n",
            "GOOG\n",
            "IBM\n",
            "F\n",
            "V\n",
            "G\n",
            "GE\n"
          ]
        }
      ]
    },
    {
      "cell_type": "code",
      "metadata": {
        "colab": {
          "base_uri": "https://localhost:8080/"
        },
        "id": "Q06RxTaECm1B",
        "outputId": "41476283-f666-4d97-e212-8c6498d0d552"
      },
      "source": [
        "stocks = ['AAPL','GOOG','IBM','FB','F','V', 'G', 'GE']\n",
        "for stock in stocks:\n",
        "    if stock == 'v': continue\n",
        "    print (stock)"
      ],
      "execution_count": 104,
      "outputs": [
        {
          "output_type": "stream",
          "name": "stdout",
          "text": [
            "AAPL\n",
            "GOOG\n",
            "IBM\n",
            "FB\n",
            "F\n",
            "V\n",
            "G\n",
            "GE\n"
          ]
        }
      ]
    },
    {
      "cell_type": "markdown",
      "metadata": {
        "id": "UqXWC6lEDDFc"
      },
      "source": [
        "#**List Comprehension**\n",
        "List comprehension is a Pythonic way to create lists. Common applications are to make new lists where each element is the result of some operations applied to each member of another sequence. For example, if we want to create a list of squares using for loop:"
      ]
    },
    {
      "cell_type": "code",
      "metadata": {
        "colab": {
          "base_uri": "https://localhost:8080/"
        },
        "id": "P7EZpBgqDE-q",
        "outputId": "22b73e7b-832e-4b20-c9e3-0ad91156a0d6"
      },
      "source": [
        "squares = []\n",
        "for i in [1,2,3,4,5]:\n",
        "    squares.append(i**2)\n",
        "print (squares)"
      ],
      "execution_count": 105,
      "outputs": [
        {
          "output_type": "stream",
          "name": "stdout",
          "text": [
            "[1, 4, 9, 16, 25]\n"
          ]
        }
      ]
    },
    {
      "cell_type": "code",
      "metadata": {
        "colab": {
          "base_uri": "https://localhost:8080/"
        },
        "id": "ol5hMCkEDOK5",
        "outputId": "329571eb-d09b-4694-cc09-64637e554e90"
      },
      "source": [
        "cubes = []\n",
        "for i in [1,2,3,4,5]:\n",
        "    cubes.append(i**3)\n",
        "print (cubes)"
      ],
      "execution_count": 106,
      "outputs": [
        {
          "output_type": "stream",
          "name": "stdout",
          "text": [
            "[1, 8, 27, 64, 125]\n"
          ]
        }
      ]
    },
    {
      "cell_type": "markdown",
      "metadata": {
        "id": "lM-qlEYJDWQ4"
      },
      "source": [
        "Using list comprehension:"
      ]
    },
    {
      "cell_type": "code",
      "metadata": {
        "colab": {
          "base_uri": "https://localhost:8080/"
        },
        "id": "cIN36grMDXvo",
        "outputId": "278557a0-218b-4aec-d27c-fdb18c8d4ca7"
      },
      "source": [
        "foo = [1,2,3,4,5]\n",
        "squares = [x**2 for x in foo]\n",
        "print (squares)"
      ],
      "execution_count": 107,
      "outputs": [
        {
          "output_type": "stream",
          "name": "stdout",
          "text": [
            "[1, 4, 9, 16, 25]\n"
          ]
        }
      ]
    },
    {
      "cell_type": "code",
      "metadata": {
        "colab": {
          "base_uri": "https://localhost:8080/"
        },
        "id": "MX6wOk9lDew_",
        "outputId": "f394d1c8-0fe4-4cb1-a329-2e193f0e2db5"
      },
      "source": [
        "foo = [1,2,3,4,5]\n",
        "cubes = [x**3 for x in foo]\n",
        "print (cubes)"
      ],
      "execution_count": 108,
      "outputs": [
        {
          "output_type": "stream",
          "name": "stdout",
          "text": [
            "[1, 8, 27, 64, 125]\n"
          ]
        }
      ]
    },
    {
      "cell_type": "markdown",
      "metadata": {
        "id": "S4HLhJNHDllA"
      },
      "source": [
        "Recall the example above where we used a for loop to select stocks. Here we use list comprehension:"
      ]
    },
    {
      "cell_type": "code",
      "metadata": {
        "colab": {
          "base_uri": "https://localhost:8080/"
        },
        "id": "1ZeMbllIDpZh",
        "outputId": "6f02234a-b581-470b-e091-45f277284113"
      },
      "source": [
        "stocks = ['AAPL','GOOG','IBM','FB','F','V', 'G', 'GE']\n",
        "selected = ['AAPL','IBM']\n",
        "new_list = [x for x in stocks if x not in selected]\n",
        "print (new_list)"
      ],
      "execution_count": 109,
      "outputs": [
        {
          "output_type": "stream",
          "name": "stdout",
          "text": [
            "['GOOG', 'FB', 'F', 'V', 'G', 'GE']\n"
          ]
        }
      ]
    },
    {
      "cell_type": "code",
      "metadata": {
        "colab": {
          "base_uri": "https://localhost:8080/"
        },
        "id": "ZiTZZm4CDzQo",
        "outputId": "902ea094-d58e-428e-f1a6-bb7a246d375b"
      },
      "source": [
        "stocks = ['AAPL','GOOG','IBM','FB','F','V', 'G', 'GE']\n",
        "selected = ['AAPL','IBM','GOOG','FB']\n",
        "new_list = [x for x in stocks if x not in selected]\n",
        "print (new_list)"
      ],
      "execution_count": 110,
      "outputs": [
        {
          "output_type": "stream",
          "name": "stdout",
          "text": [
            "['F', 'V', 'G', 'GE']\n"
          ]
        }
      ]
    },
    {
      "cell_type": "markdown",
      "metadata": {
        "id": "xHRfhJrrEBtT"
      },
      "source": [
        " A list comprehension consists of square brackets containing an expression followed by a \"for\" clause, and possibly \"for\" or \"if\" clauses. For example:"
      ]
    },
    {
      "cell_type": "code",
      "metadata": {
        "colab": {
          "base_uri": "https://localhost:8080/"
        },
        "id": "5OdFkiZkEDQx",
        "outputId": "1315cb66-81b0-427e-8265-4c3638a19340"
      },
      "source": [
        "print ([(x, y) for x in [1,2,3] for y in [3,1,4] if x != y])\n",
        "print ([str(x) + ' vs ' + str(y) for x in ['AAPL','GOOG','IBM','FB']\n",
        "                                for y in ['F','V','G','GE'] if x != y])"
      ],
      "execution_count": 111,
      "outputs": [
        {
          "output_type": "stream",
          "name": "stdout",
          "text": [
            "[(1, 3), (1, 4), (2, 3), (2, 1), (2, 4), (3, 1), (3, 4)]\n",
            "['AAPL vs F', 'AAPL vs V', 'AAPL vs G', 'AAPL vs GE', 'GOOG vs F', 'GOOG vs V', 'GOOG vs G', 'GOOG vs GE', 'IBM vs F', 'IBM vs V', 'IBM vs G', 'IBM vs GE', 'FB vs F', 'FB vs V', 'FB vs G', 'FB vs GE']\n"
          ]
        }
      ]
    },
    {
      "cell_type": "code",
      "metadata": {
        "colab": {
          "base_uri": "https://localhost:8080/"
        },
        "id": "36dwJ2pTESIv",
        "outputId": "9af48f1e-af90-499f-a54d-934bc3e18497"
      },
      "source": [
        "print ([(x, y) for x in [1,2,3,6,8,9] for y in [3,1,4,5,6,9,8] if x != y])\n",
        "print ([str(x) + ' vs ' + str(y) for x in ['AAPL','GOOG','IBM','FB','H']\n",
        "                                for y in ['F','V','G','GE','j'] if x != y])"
      ],
      "execution_count": 112,
      "outputs": [
        {
          "output_type": "stream",
          "name": "stdout",
          "text": [
            "[(1, 3), (1, 4), (1, 5), (1, 6), (1, 9), (1, 8), (2, 3), (2, 1), (2, 4), (2, 5), (2, 6), (2, 9), (2, 8), (3, 1), (3, 4), (3, 5), (3, 6), (3, 9), (3, 8), (6, 3), (6, 1), (6, 4), (6, 5), (6, 9), (6, 8), (8, 3), (8, 1), (8, 4), (8, 5), (8, 6), (8, 9), (9, 3), (9, 1), (9, 4), (9, 5), (9, 6), (9, 8)]\n",
            "['AAPL vs F', 'AAPL vs V', 'AAPL vs G', 'AAPL vs GE', 'AAPL vs j', 'GOOG vs F', 'GOOG vs V', 'GOOG vs G', 'GOOG vs GE', 'GOOG vs j', 'IBM vs F', 'IBM vs V', 'IBM vs G', 'IBM vs GE', 'IBM vs j', 'FB vs F', 'FB vs V', 'FB vs G', 'FB vs GE', 'FB vs j', 'H vs F', 'H vs V', 'H vs G', 'H vs GE', 'H vs j']\n"
          ]
        }
      ]
    },
    {
      "cell_type": "markdown",
      "metadata": {
        "id": "I-_0Wbo4Epj2"
      },
      "source": [
        "List comprehension is an elegant way to organize one or more for loops when creating a list.\n",
        "\n",
        "#**Summary**\n",
        "This chapter has introduced logical operations, loops, and list comprehension. In the next chapter, we will introduce functions and object-oriented programming, which will enable us to make our codes clean and versatile."
      ]
    },
    {
      "cell_type": "markdown",
      "metadata": {
        "id": "Qv1caupEEqqF"
      },
      "source": [
        "#**03 Functions and Objective-Oriented Programming**\n",
        "#**Introduction**\n",
        "In the last tutorial we introduced logical operations, loops and list comprehension. We will introduce functions and object-oriented programming in this chapter, which will enable us to build complex algorithms in more flexible ways.\n",
        "\n",
        "#**Functions**\n",
        "A function is a reusable block of code. We can use a function to output a value, or do anything else we want. We can easily define our own function by using the keyword \"def\"."
      ]
    },
    {
      "cell_type": "code",
      "metadata": {
        "colab": {
          "base_uri": "https://localhost:8080/"
        },
        "id": "nb9U7ReXEsZn",
        "outputId": "5f4a1974-5f95-4a33-e12a-1dd1927ecf24"
      },
      "source": [
        "def product(x,y):\n",
        "    return x*y\n",
        "print (product(2,3))\n",
        "print (product(5,10))"
      ],
      "execution_count": 113,
      "outputs": [
        {
          "output_type": "stream",
          "name": "stdout",
          "text": [
            "6\n",
            "50\n"
          ]
        }
      ]
    },
    {
      "cell_type": "code",
      "metadata": {
        "colab": {
          "base_uri": "https://localhost:8080/"
        },
        "id": "JNK97ThGE7F7",
        "outputId": "f40f7e29-2a53-4046-dcdc-6a69d4ceaba3"
      },
      "source": [
        "def product(x,y):\n",
        "    return x**y\n",
        "print (product(2,4))\n",
        "print (product(5,8))"
      ],
      "execution_count": 114,
      "outputs": [
        {
          "output_type": "stream",
          "name": "stdout",
          "text": [
            "16\n",
            "390625\n"
          ]
        }
      ]
    },
    {
      "cell_type": "markdown",
      "metadata": {
        "id": "goSWAFeTFC2V"
      },
      "source": [
        "The keyword \"def\" is followed by the function name and the parenthesized list of formal parameters. The statements that form the body of the function start at the next line, and must be indented. The product() function above has \"x\" and \"y\" as its parameters. A function doesn't necessarily have parameters:"
      ]
    },
    {
      "cell_type": "code",
      "metadata": {
        "colab": {
          "base_uri": "https://localhost:8080/"
        },
        "id": "i6c1ZyWeFFQd",
        "outputId": "68760ee6-a6c9-486d-84aa-0ec3a8e6185d"
      },
      "source": [
        "def say_hi():\n",
        "    print ('Welcome to QuantConnect')\n",
        "say_hi()"
      ],
      "execution_count": 115,
      "outputs": [
        {
          "output_type": "stream",
          "name": "stdout",
          "text": [
            "Welcome to QuantConnect\n"
          ]
        }
      ]
    },
    {
      "cell_type": "code",
      "metadata": {
        "colab": {
          "base_uri": "https://localhost:8080/"
        },
        "id": "KYjmG-RTFnT8",
        "outputId": "1cd77258-7dab-4111-e8b2-7162a59bbe25"
      },
      "source": [
        "def say_burrito():\n",
        "    print ('burrito burrito')\n",
        "say_burrito()"
      ],
      "execution_count": 116,
      "outputs": [
        {
          "output_type": "stream",
          "name": "stdout",
          "text": [
            "burrito burrito\n"
          ]
        }
      ]
    },
    {
      "cell_type": "markdown",
      "metadata": {
        "id": "fThDFhv0Fvlb"
      },
      "source": [
        "##**Built-in Function**\n",
        "**range()** is a function that creates a list containing an arithmetic sequence. It's often used in for loops. The arguments must be integers. If the \"step\" argument is omitted, it defaults to 1."
      ]
    },
    {
      "cell_type": "code",
      "metadata": {
        "id": "NGRTRI1uFxP8",
        "colab": {
          "base_uri": "https://localhost:8080/"
        },
        "outputId": "1c9c0adc-cd5e-47b7-eeda-9299b3b4f058"
      },
      "source": [
        "print (range(0,10))\n",
        "print (range(1, 11))\n",
        "print (range(1, 11, 2))"
      ],
      "execution_count": 117,
      "outputs": [
        {
          "output_type": "stream",
          "name": "stdout",
          "text": [
            "range(0, 10)\n",
            "range(1, 11)\n",
            "range(1, 11, 2)\n"
          ]
        }
      ]
    },
    {
      "cell_type": "code",
      "metadata": {
        "id": "zQGA6Ss9RTjB"
      },
      "source": [
        ""
      ],
      "execution_count": 117,
      "outputs": []
    },
    {
      "cell_type": "code",
      "metadata": {
        "id": "bj8ZpHmhGEKt",
        "colab": {
          "base_uri": "https://localhost:8080/"
        },
        "outputId": "ea76803b-c4a3-4536-dad0-b2a3c5657e70"
      },
      "source": [
        "print (range(10))\n",
        "print (range(1, 12))\n",
        "print (range(1, 14, 2))"
      ],
      "execution_count": 118,
      "outputs": [
        {
          "output_type": "stream",
          "name": "stdout",
          "text": [
            "range(0, 10)\n",
            "range(1, 12)\n",
            "range(1, 14, 2)\n"
          ]
        }
      ]
    },
    {
      "cell_type": "markdown",
      "metadata": {
        "id": "_cuTrYNIHHIT"
      },
      "source": [
        "**len()** is another function used together with range() to create a for loop. This function returns the length of an object. The argument must be a sequence or a collection."
      ]
    },
    {
      "cell_type": "code",
      "metadata": {
        "id": "LX9z2sZFHItm",
        "colab": {
          "base_uri": "https://localhost:8080/"
        },
        "outputId": "eb039988-d938-4422-d1b4-eac6b0b93be8"
      },
      "source": [
        "tickers = ['AAPL', 'GOOGL', 'IBM', 'FB', 'F', 'V', 'G', 'GE']\n",
        "print (\"The number of tickers is {}\".format(len(tickers)))\n",
        "for k in range(len(tickers)):\n",
        "    print (k + 1, tickers[k])"
      ],
      "execution_count": 119,
      "outputs": [
        {
          "output_type": "stream",
          "name": "stdout",
          "text": [
            "The number of tickers is 8\n",
            "1 AAPL\n",
            "2 GOOGL\n",
            "3 IBM\n",
            "4 FB\n",
            "5 F\n",
            "6 V\n",
            "7 G\n",
            "8 GE\n"
          ]
        }
      ]
    },
    {
      "cell_type": "code",
      "metadata": {
        "id": "Z63xA1OCHdYX",
        "colab": {
          "base_uri": "https://localhost:8080/"
        },
        "outputId": "ef2fdf29-4ece-4979-96dd-2333f13f40a5"
      },
      "source": [
        "tickersS = ['AAPL', 'GOOGL', 'IBM', 'FB', 'F', 'V', 'G', 'GE', 'ultimo']\n",
        "print (\"The number of tickers is {}\".format(len(tickersS)))\n",
        "for k in range(len(tickersS)):\n",
        "    print (k + 1, tickersS[k])"
      ],
      "execution_count": 120,
      "outputs": [
        {
          "output_type": "stream",
          "name": "stdout",
          "text": [
            "The number of tickers is 9\n",
            "1 AAPL\n",
            "2 GOOGL\n",
            "3 IBM\n",
            "4 FB\n",
            "5 F\n",
            "6 V\n",
            "7 G\n",
            "8 GE\n",
            "9 ultimo\n"
          ]
        }
      ]
    },
    {
      "cell_type": "markdown",
      "metadata": {
        "id": "GjQ9M52zHwx0"
      },
      "source": [
        "Note: If you want to print only the tickers without those numbers, then simply write \"for ticker in tickers: print ticker\"\n",
        "\n",
        "**map()** is a function that applies a specific function to every item of a sequence or collection, and returns a list of the results."
      ]
    },
    {
      "cell_type": "code",
      "metadata": {
        "id": "UyI3zzreHyOx",
        "colab": {
          "base_uri": "https://localhost:8080/"
        },
        "outputId": "17725ddb-068c-45bc-fb16-7f96951ccfa4"
      },
      "source": [
        "x = ['AAPL','GOOG','IBM','FB','F','V', 'G', 'GE']\n",
        "print (list(map(len,x)))"
      ],
      "execution_count": 121,
      "outputs": [
        {
          "output_type": "stream",
          "name": "stdout",
          "text": [
            "[4, 4, 3, 2, 1, 1, 1, 2]\n"
          ]
        }
      ]
    },
    {
      "cell_type": "code",
      "metadata": {
        "colab": {
          "base_uri": "https://localhost:8080/"
        },
        "id": "iXBRsG5Rnrb9",
        "outputId": "d979c632-1ba4-47ff-d76a-8478f78066a7"
      },
      "source": [
        "x = ['AAPL','GOOG','IBM','FBDDD','F','VXYS', 'GSS', 'GE']\n",
        "print (list(map(len,x)))"
      ],
      "execution_count": 122,
      "outputs": [
        {
          "output_type": "stream",
          "name": "stdout",
          "text": [
            "[4, 4, 3, 5, 1, 4, 3, 2]\n"
          ]
        }
      ]
    },
    {
      "cell_type": "markdown",
      "metadata": {
        "id": "lOBljBExKqab"
      },
      "source": [
        "The **lambda** operator is a way to create small anonymous functions. These functions are just needed where they have been created. For example:\n"
      ]
    },
    {
      "cell_type": "code",
      "metadata": {
        "id": "OfJ3mqV8KssX",
        "colab": {
          "base_uri": "https://localhost:8080/"
        },
        "outputId": "5edbc8cb-df5d-49ed-bf52-d9ddd029f2f8"
      },
      "source": [
        "print (list(map(lambda x: x**2, range(10))))"
      ],
      "execution_count": 123,
      "outputs": [
        {
          "output_type": "stream",
          "name": "stdout",
          "text": [
            "[0, 1, 4, 9, 16, 25, 36, 49, 64, 81]\n"
          ]
        }
      ]
    },
    {
      "cell_type": "code",
      "metadata": {
        "colab": {
          "base_uri": "https://localhost:8080/"
        },
        "id": "sQPsmkGNnNaI",
        "outputId": "868f8369-12fc-4ce5-81e7-94905f613ffd"
      },
      "source": [
        "print (list(map(lambda x: x**2, range(14))))"
      ],
      "execution_count": 124,
      "outputs": [
        {
          "output_type": "stream",
          "name": "stdout",
          "text": [
            "[0, 1, 4, 9, 16, 25, 36, 49, 64, 81, 100, 121, 144, 169]\n"
          ]
        }
      ]
    },
    {
      "cell_type": "markdown",
      "metadata": {
        "id": "LrlOF_69MF7S"
      },
      "source": [
        "map() can be applied to more than one list. The lists have to have the same length."
      ]
    },
    {
      "cell_type": "code",
      "metadata": {
        "id": "kACf5lmiMIG3",
        "colab": {
          "base_uri": "https://localhost:8080/"
        },
        "outputId": "2a0a7f9f-11b5-4a7c-b0de-196ce8ce198c"
      },
      "source": [
        "list(map(lambda x, y: x+y, [1,2,3,4,5], [5,4,3,2,1]))"
      ],
      "execution_count": 125,
      "outputs": [
        {
          "output_type": "execute_result",
          "data": {
            "text/plain": [
              "[6, 6, 6, 6, 6]"
            ]
          },
          "metadata": {},
          "execution_count": 125
        }
      ]
    },
    {
      "cell_type": "code",
      "metadata": {
        "colab": {
          "base_uri": "https://localhost:8080/"
        },
        "id": "c0O7gO-7n7ME",
        "outputId": "1141dfe6-3679-4306-ad16-05e3e1ad8b62"
      },
      "source": [
        "list(map(lambda x, y: x+y, [1,2,9,4,5], [5,4,3,6,12]))"
      ],
      "execution_count": 126,
      "outputs": [
        {
          "output_type": "execute_result",
          "data": {
            "text/plain": [
              "[6, 6, 12, 10, 17]"
            ]
          },
          "metadata": {},
          "execution_count": 126
        }
      ]
    },
    {
      "cell_type": "markdown",
      "metadata": {
        "id": "zM4NKs9AMfCj"
      },
      "source": [
        "**sorted()** takes a list or set and returns a new sorted list"
      ]
    },
    {
      "cell_type": "code",
      "metadata": {
        "id": "W4tjCao2Mgbr",
        "colab": {
          "base_uri": "https://localhost:8080/"
        },
        "outputId": "a04987a1-33c3-42f1-f918-d0b7b5574bfa"
      },
      "source": [
        "sorted([5,2,3,4,1])"
      ],
      "execution_count": 127,
      "outputs": [
        {
          "output_type": "execute_result",
          "data": {
            "text/plain": [
              "[1, 2, 3, 4, 5]"
            ]
          },
          "metadata": {},
          "execution_count": 127
        }
      ]
    },
    {
      "cell_type": "code",
      "metadata": {
        "id": "WJyqlhA5Mkk7",
        "colab": {
          "base_uri": "https://localhost:8080/"
        },
        "outputId": "efafb29e-f171-4e48-f53a-05b41e92bc2e"
      },
      "source": [
        "sorted([5,2,3,4,1,8,19])"
      ],
      "execution_count": 128,
      "outputs": [
        {
          "output_type": "execute_result",
          "data": {
            "text/plain": [
              "[1, 2, 3, 4, 5, 8, 19]"
            ]
          },
          "metadata": {},
          "execution_count": 128
        }
      ]
    },
    {
      "cell_type": "markdown",
      "metadata": {
        "id": "zhDLgG3mMnIt"
      },
      "source": [
        "We can add a \"key\" parameter to specify a function to be called on each list element prior to making comparisons. For example:"
      ]
    },
    {
      "cell_type": "code",
      "metadata": {
        "id": "4RDDQEmkMotg",
        "colab": {
          "base_uri": "https://localhost:8080/"
        },
        "outputId": "0f2f0a8f-cc23-4c25-ac1b-dc28222fcf0c"
      },
      "source": [
        "price_list = [('AAPL', 144.09), ('GOOGL', 911.71), ('MSFT', 69), ('FB', 150), ('WMT', 75.32)]\n",
        "sorted(price_list, key = lambda x: x[1])"
      ],
      "execution_count": 129,
      "outputs": [
        {
          "output_type": "execute_result",
          "data": {
            "text/plain": [
              "[('MSFT', 69),\n",
              " ('WMT', 75.32),\n",
              " ('AAPL', 144.09),\n",
              " ('FB', 150),\n",
              " ('GOOGL', 911.71)]"
            ]
          },
          "metadata": {},
          "execution_count": 129
        }
      ]
    },
    {
      "cell_type": "code",
      "metadata": {
        "id": "lA-oRDp8MwHK",
        "colab": {
          "base_uri": "https://localhost:8080/"
        },
        "outputId": "c8d47c8c-8252-4092-d136-34a3b508409d"
      },
      "source": [
        "price_list = [('AAPL', 144.09), ('GOOGL', 911.71), ('MSFT', 69000000), ('FB', 150), ('WMT', 75.32)]\n",
        "sorted(price_list, key = lambda x: x[1])"
      ],
      "execution_count": 130,
      "outputs": [
        {
          "output_type": "execute_result",
          "data": {
            "text/plain": [
              "[('WMT', 75.32),\n",
              " ('AAPL', 144.09),\n",
              " ('FB', 150),\n",
              " ('GOOGL', 911.71),\n",
              " ('MSFT', 69000000)]"
            ]
          },
          "metadata": {},
          "execution_count": 130
        }
      ]
    },
    {
      "cell_type": "markdown",
      "metadata": {
        "id": "ZzS3zfJndrdY"
      },
      "source": [
        "By default the values are sorted by ascending order. We can change it to descending by adding an optional parameter \"reverse'."
      ]
    },
    {
      "cell_type": "code",
      "metadata": {
        "id": "dnIa5zZ_dzPN",
        "colab": {
          "base_uri": "https://localhost:8080/"
        },
        "outputId": "41a0a797-0a92-488a-ca6c-042fcaaf265f"
      },
      "source": [
        "price_list = [('AAPL', 144.09), ('GOOGL', 911.71), ('MSFT', 69), ('FB', 150), ('WMT', 75.32)]\n",
        "sorted(price_list, key = lambda x: x[1])"
      ],
      "execution_count": 131,
      "outputs": [
        {
          "output_type": "execute_result",
          "data": {
            "text/plain": [
              "[('MSFT', 69),\n",
              " ('WMT', 75.32),\n",
              " ('AAPL', 144.09),\n",
              " ('FB', 150),\n",
              " ('GOOGL', 911.71)]"
            ]
          },
          "metadata": {},
          "execution_count": 131
        }
      ]
    },
    {
      "cell_type": "code",
      "metadata": {
        "id": "EtxY-ZjBeBKI",
        "colab": {
          "base_uri": "https://localhost:8080/"
        },
        "outputId": "fc106e5e-9d36-43ad-c082-e0087d7a4e85"
      },
      "source": [
        "price_list = [('AAPL', 144.09), ('GOOGL', 911.71), ('slp', 692), ('AXS', 150000), ('WMT', 75.32)]\n",
        "sorted(price_list, key = lambda x: x[1])"
      ],
      "execution_count": 132,
      "outputs": [
        {
          "output_type": "execute_result",
          "data": {
            "text/plain": [
              "[('WMT', 75.32),\n",
              " ('AAPL', 144.09),\n",
              " ('slp', 692),\n",
              " ('GOOGL', 911.71),\n",
              " ('AXS', 150000)]"
            ]
          },
          "metadata": {},
          "execution_count": 132
        }
      ]
    },
    {
      "cell_type": "markdown",
      "metadata": {
        "id": "PMVoW5K4FQet"
      },
      "source": [
        "Lists also have a function list.sort(). This function takes the same \"key\" and \"reverse\" arguments as sorted(), but it doesn't return a new list."
      ]
    },
    {
      "cell_type": "code",
      "metadata": {
        "colab": {
          "base_uri": "https://localhost:8080/"
        },
        "id": "_NaBsVG6FSQV",
        "outputId": "fbd60842-db41-4c2f-8b0f-43d45f833043"
      },
      "source": [
        "price_list = [('AAPL', 144.09), ('GOOGL', 911.71), ('MSFT', 69), ('FB', 150), ('WMT', 75.32)]\n",
        "sorted(price_list, key = lambda x: x[1], reverse = True)"
      ],
      "execution_count": 133,
      "outputs": [
        {
          "output_type": "execute_result",
          "data": {
            "text/plain": [
              "[('GOOGL', 911.71),\n",
              " ('FB', 150),\n",
              " ('AAPL', 144.09),\n",
              " ('WMT', 75.32),\n",
              " ('MSFT', 69)]"
            ]
          },
          "metadata": {},
          "execution_count": 133
        }
      ]
    },
    {
      "cell_type": "code",
      "metadata": {
        "colab": {
          "base_uri": "https://localhost:8080/"
        },
        "id": "sS83TSwqFXlv",
        "outputId": "394051e0-18c3-4ba2-e917-b7e406215925"
      },
      "source": [
        "price_list = [('AAPL', 144.09), ('GOOGL', 911.71), ('slp', 692), ('FB', 150), ('AXS', 150000)]\n",
        "sorted(price_list, key = lambda x: x[1], reverse = True)"
      ],
      "execution_count": 134,
      "outputs": [
        {
          "output_type": "execute_result",
          "data": {
            "text/plain": [
              "[('AXS', 150000),\n",
              " ('GOOGL', 911.71),\n",
              " ('slp', 692),\n",
              " ('FB', 150),\n",
              " ('AAPL', 144.09)]"
            ]
          },
          "metadata": {},
          "execution_count": 134
        }
      ]
    },
    {
      "cell_type": "markdown",
      "metadata": {
        "id": "0-0ej2niGAI3"
      },
      "source": [
        "#**Object-Oriented Programming**\n",
        "Python is an object-oriented programming language. It's important to understand the concept of \"objects\" because almost every kind of data from QuantConnect API is an object.\n",
        "\n",
        "#Class\n",
        "A class is a type of data, just like a string, float, or list. When we create an object of that data type, we call it an instance of a class.\n",
        "\n",
        "In Python, everything is an object - everything is an instance of some class. The data stored inside an object are called attributes, and the functions which are associated with the object are called methods.\n",
        "\n",
        "For example, as mentioned above, a list is an object of the \"list\" class, and it has a method list.sort().\n",
        "\n",
        "We can create our own objects by defining a class. We would do this when it's helpful to group certain functions together. For example, we define a class named \"Stock\" here:"
      ]
    },
    {
      "cell_type": "code",
      "metadata": {
        "id": "kKAO3Nb4GE8E"
      },
      "source": [
        "class Stock:\n",
        "    def __init__(self, ticker, open, close, volume):\n",
        "        self.ticker = ticker\n",
        "        self.open = open\n",
        "        self.close = close\n",
        "        self.volume = volume\n",
        "        self.rate_return = float(close)/open - 1\n",
        "\n",
        "    def update(self, open, close):\n",
        "        self.open = open\n",
        "        self.close = close\n",
        "        self.rate_return = float(self.close)/self.open - 1\n",
        "\n",
        "    def print_return(self):\n",
        "        print (self.rate_return)\n",
        "\n",
        "     \n",
        "    "
      ],
      "execution_count": 135,
      "outputs": []
    },
    {
      "cell_type": "markdown",
      "metadata": {
        "id": "1YWv7zcRNnm8"
      },
      "source": [
        "The \"Stock\" class has attributes \"ticker\", \"open\", \"close\", \"volume\" and \"rate_return\". Inside the class body, the first method is called init, which is a special method. When we create a new instance of the class, the init method is immediately executed with all the parameters that we pass to the \"Stock\" object. The purpose of this method is to set up a new \"Stock\" object using data we have provided.\n",
        "\n",
        "Here we create two Stock objects named \"apple\" and \"google\""
      ]
    },
    {
      "cell_type": "code",
      "metadata": {
        "id": "ke0hnJsKIazF"
      },
      "source": [
        "apple  = Stock('AAPL', 143.69, 144.09, 20109375)\n",
        "google = Stock('GOOGL', 898.7, 911.7, 1561616)"
      ],
      "execution_count": 136,
      "outputs": []
    },
    {
      "cell_type": "markdown",
      "metadata": {
        "id": "ZKIB7yrgNqpA"
      },
      "source": [
        "Stock objects also have two other methods: update() and print_return(). We can access the attribues of a Stock object and call its methods:"
      ]
    },
    {
      "cell_type": "code",
      "metadata": {
        "colab": {
          "base_uri": "https://localhost:8080/"
        },
        "id": "lkpaWGQrIe0s",
        "outputId": "abd42a69-232a-4621-e6a6-e3f1c6074804"
      },
      "source": [
        "apple.ticker \n",
        "google.print_return() \n",
        "google.update(912.8,913.4)\n",
        "google.print_return()"
      ],
      "execution_count": 137,
      "outputs": [
        {
          "output_type": "stream",
          "name": "stdout",
          "text": [
            "0.014465338822744034\n",
            "0.0006573181419806673\n"
          ]
        }
      ]
    },
    {
      "cell_type": "code",
      "metadata": {
        "id": "E9RnTel9JmOe"
      },
      "source": [
        "slp  = Stock('SLP', 138.9, 166.09, 9898)\n",
        "AXS = Stock('AXS', 89767.7, 31132.7, 12356)"
      ],
      "execution_count": 138,
      "outputs": []
    },
    {
      "cell_type": "code",
      "metadata": {
        "colab": {
          "base_uri": "https://localhost:8080/"
        },
        "id": "Vuh-8AZcJ7Wh",
        "outputId": "f5c2e582-e001-449b-a7e5-97030e209da3"
      },
      "source": [
        "slp.ticker \n",
        "AXS.print_return() \n",
        "AXS.update(912.8,913.4)\n",
        "AXS.print_return()"
      ],
      "execution_count": 139,
      "outputs": [
        {
          "output_type": "stream",
          "name": "stdout",
          "text": [
            "-0.6531859455015556\n",
            "0.0006573181419806673\n"
          ]
        }
      ]
    },
    {
      "cell_type": "markdown",
      "metadata": {
        "id": "O6QQHt0eNvhf"
      },
      "source": [
        "By calling the update() function, we updated the open and close prices of a stock. Please note that when we use the attributes or call the methods inside a class, we need to specify them as self.attribute or self.method(), otherwise Python will deem them as global variables and thus raise an error.\n",
        "\n",
        "We can add an attribute to an object anywhere:"
      ]
    },
    {
      "cell_type": "markdown",
      "metadata": {
        "id": "OSi7VK0KKOZy"
      },
      "source": [
        "."
      ]
    },
    {
      "cell_type": "code",
      "metadata": {
        "colab": {
          "base_uri": "https://localhost:8080/",
          "height": 35
        },
        "id": "k_IhE_9qKSlK",
        "outputId": "391fff7c-fe44-4ea3-c38b-b05cf710b9a2"
      },
      "source": [
        "apple.ceo = 'Tim Cook'\n",
        "apple.ceo"
      ],
      "execution_count": 140,
      "outputs": [
        {
          "output_type": "execute_result",
          "data": {
            "application/vnd.google.colaboratory.intrinsic+json": {
              "type": "string"
            },
            "text/plain": [
              "'Tim Cook'"
            ]
          },
          "metadata": {},
          "execution_count": 140
        }
      ]
    },
    {
      "cell_type": "code",
      "metadata": {
        "colab": {
          "base_uri": "https://localhost:8080/",
          "height": 35
        },
        "id": "Rk-zhQ6TKcfv",
        "outputId": "e3cd7b3a-4efb-49a7-a4b7-e9c49050082e"
      },
      "source": [
        "slp.ceo ='uby'\n",
        "slp.ceo"
      ],
      "execution_count": 141,
      "outputs": [
        {
          "output_type": "execute_result",
          "data": {
            "application/vnd.google.colaboratory.intrinsic+json": {
              "type": "string"
            },
            "text/plain": [
              "'uby'"
            ]
          },
          "metadata": {},
          "execution_count": 141
        }
      ]
    },
    {
      "cell_type": "markdown",
      "metadata": {
        "id": "DfPDoDAYKvgu"
      },
      "source": [
        "We can check what names (i.e. attributes and methods) are defined on an object using the dir() function:"
      ]
    },
    {
      "cell_type": "code",
      "metadata": {
        "colab": {
          "base_uri": "https://localhost:8080/"
        },
        "id": "LeISAcK5KyCG",
        "outputId": "ceff5472-d47b-41bf-98e3-c52654cff59f"
      },
      "source": [
        "dir(apple)"
      ],
      "execution_count": 142,
      "outputs": [
        {
          "output_type": "execute_result",
          "data": {
            "text/plain": [
              "['__class__',\n",
              " '__delattr__',\n",
              " '__dict__',\n",
              " '__dir__',\n",
              " '__doc__',\n",
              " '__eq__',\n",
              " '__format__',\n",
              " '__ge__',\n",
              " '__getattribute__',\n",
              " '__gt__',\n",
              " '__hash__',\n",
              " '__init__',\n",
              " '__init_subclass__',\n",
              " '__le__',\n",
              " '__lt__',\n",
              " '__module__',\n",
              " '__ne__',\n",
              " '__new__',\n",
              " '__reduce__',\n",
              " '__reduce_ex__',\n",
              " '__repr__',\n",
              " '__setattr__',\n",
              " '__sizeof__',\n",
              " '__str__',\n",
              " '__subclasshook__',\n",
              " '__weakref__',\n",
              " 'ceo',\n",
              " 'close',\n",
              " 'open',\n",
              " 'print_return',\n",
              " 'rate_return',\n",
              " 'ticker',\n",
              " 'update',\n",
              " 'volume']"
            ]
          },
          "metadata": {},
          "execution_count": 142
        }
      ]
    },
    {
      "cell_type": "code",
      "metadata": {
        "colab": {
          "base_uri": "https://localhost:8080/"
        },
        "id": "TEbjYpJ4K3ku",
        "outputId": "38e7cdf3-e8dd-47a5-e598-1f2856f67d20"
      },
      "source": [
        "dir(slp)"
      ],
      "execution_count": 143,
      "outputs": [
        {
          "output_type": "execute_result",
          "data": {
            "text/plain": [
              "['__class__',\n",
              " '__delattr__',\n",
              " '__dict__',\n",
              " '__dir__',\n",
              " '__doc__',\n",
              " '__eq__',\n",
              " '__format__',\n",
              " '__ge__',\n",
              " '__getattribute__',\n",
              " '__gt__',\n",
              " '__hash__',\n",
              " '__init__',\n",
              " '__init_subclass__',\n",
              " '__le__',\n",
              " '__lt__',\n",
              " '__module__',\n",
              " '__ne__',\n",
              " '__new__',\n",
              " '__reduce__',\n",
              " '__reduce_ex__',\n",
              " '__repr__',\n",
              " '__setattr__',\n",
              " '__sizeof__',\n",
              " '__str__',\n",
              " '__subclasshook__',\n",
              " '__weakref__',\n",
              " 'ceo',\n",
              " 'close',\n",
              " 'open',\n",
              " 'print_return',\n",
              " 'rate_return',\n",
              " 'ticker',\n",
              " 'update',\n",
              " 'volume']"
            ]
          },
          "metadata": {},
          "execution_count": 143
        }
      ]
    },
    {
      "cell_type": "markdown",
      "metadata": {
        "id": "6SLGD9rSLA-I"
      },
      "source": [
        "##**Inheritance**\n",
        "Inheritance is a way of arranging classes in a hierarchy from the most general to the most specific. A \"child\" class is a more specific type of a \"parent\" class because a child class will inherit all the attribues and methods of its parent. For example, we define a class named \"Child\" which inherits \"Stock\":"
      ]
    },
    {
      "cell_type": "code",
      "metadata": {
        "id": "PP2W9xPALCrZ"
      },
      "source": [
        "class Child(Stock):\n",
        "    def __init__(self, name):\n",
        "        self.name = name"
      ],
      "execution_count": 144,
      "outputs": []
    },
    {
      "cell_type": "code",
      "metadata": {
        "colab": {
          "base_uri": "https://localhost:8080/"
        },
        "id": "g3sirC93LFZe",
        "outputId": "ec18fcfa-5937-4637-e08f-e91d44f108ce"
      },
      "source": [
        "aa = Child('AA')\n",
        "print (aa.name)\n",
        "aa.update(100, 102)\n",
        "print (aa.open)\n",
        "print (aa.close)\n",
        "print (aa.print_return())\n"
      ],
      "execution_count": 145,
      "outputs": [
        {
          "output_type": "stream",
          "name": "stdout",
          "text": [
            "AA\n",
            "100\n",
            "102\n",
            "0.020000000000000018\n",
            "None\n"
          ]
        }
      ]
    },
    {
      "cell_type": "code",
      "metadata": {
        "colab": {
          "base_uri": "https://localhost:8080/"
        },
        "id": "C2edlJCiLelJ",
        "outputId": "7f4f04ab-02c8-44e9-ef66-b0efc19e0e38"
      },
      "source": [
        "slp = Child('SLP')\n",
        "print (aa.name)\n",
        "aa.update(19, 10222)\n",
        "print (aa.open)\n",
        "print (aa.close)\n",
        "print (aa.print_return())"
      ],
      "execution_count": 146,
      "outputs": [
        {
          "output_type": "stream",
          "name": "stdout",
          "text": [
            "AA\n",
            "19\n",
            "10222\n",
            "537.0\n",
            "None\n"
          ]
        }
      ]
    },
    {
      "cell_type": "markdown",
      "metadata": {
        "id": "49ZBGEHDMMMz"
      },
      "source": [
        "As seen above, the new class Child has inherited the methods from Stock.\n",
        "\n",
        "#**Summary**\n",
        "In this chapter we have introduced functions and classes. When we write a QuantConnect algorithm, we would define our algorithm as a class (QCAlgorithm). This means our algorithm inherited the QC API methods from QCAlgorithm class.\n",
        "\n",
        "In the next chapter, we will introduce NumPy and Pandas, which enable us to conduct scientific calculations in Python."
      ]
    },
    {
      "cell_type": "markdown",
      "metadata": {
        "id": "y0z92QWMOb7Q"
      },
      "source": [
        "#**04 NumPy and Basic Pandas**\n",
        "#**Introduction**\n",
        "Now that we have introduced the fundamentals of Python, it's time to learn about NumPy and Pandas.\n",
        "\n",
        "#**NumPy**\n",
        "NumPy is the core library for scientific computing in Python. It provides a high-performance multidimensional array object, and tools for working with these arrays. It also has strong integration with Pandas, which is another powerful tool for manipulating financial data.\n",
        "\n",
        "Python packages like NumPy and Pandas contain classes and methods which we can use by importing the package:\n",
        "\n"
      ]
    },
    {
      "cell_type": "code",
      "metadata": {
        "id": "uWcKRdXOMdRP"
      },
      "source": [
        "import numpy as np"
      ],
      "execution_count": 147,
      "outputs": []
    },
    {
      "cell_type": "markdown",
      "metadata": {
        "id": "NDEjEXAIMhP9"
      },
      "source": [
        "#**Basic NumPy Arrays**\n",
        "A NumPy array is a grid of values, all of the same type, and is indexed by a tuple of nonnegative integers. Here we make an array by passing a list of Apple stock prices:"
      ]
    },
    {
      "cell_type": "code",
      "metadata": {
        "colab": {
          "base_uri": "https://localhost:8080/"
        },
        "id": "d6e5geX1Mj9K",
        "outputId": "2a453a36-2f5d-4817-c8c2-cc893b02b708"
      },
      "source": [
        "price_list = [143.73, 145.83, 143.68, 144.02, 143.5, 142.62]\n",
        "price_array = np.array(price_list)\n",
        "print (price_array, type(price_array))"
      ],
      "execution_count": 148,
      "outputs": [
        {
          "output_type": "stream",
          "name": "stdout",
          "text": [
            "[143.73 145.83 143.68 144.02 143.5  142.62] <class 'numpy.ndarray'>\n"
          ]
        }
      ]
    },
    {
      "cell_type": "code",
      "metadata": {
        "colab": {
          "base_uri": "https://localhost:8080/"
        },
        "id": "RHApv5g6M4ER",
        "outputId": "a67c15d8-ed88-4c80-f16a-981559500965"
      },
      "source": [
        "price_listS = [3234.73, 45.83, 4676.68, 1343.02, 68.5, 2323.62]\n",
        "price_arrayS = np.array(price_listS)\n",
        "print (price_arrayS, type(price_arrayS))"
      ],
      "execution_count": 149,
      "outputs": [
        {
          "output_type": "stream",
          "name": "stdout",
          "text": [
            "[3234.73   45.83 4676.68 1343.02   68.5  2323.62] <class 'numpy.ndarray'>\n"
          ]
        }
      ]
    },
    {
      "cell_type": "markdown",
      "metadata": {
        "id": "d17qSercMy8p"
      },
      "source": [
        "Notice that the type of array is \"ndarray\" which is a multi-dimensional array. If we pass np.array() a list of lists, it will create a 2-dimensional array."
      ]
    },
    {
      "cell_type": "code",
      "metadata": {
        "colab": {
          "base_uri": "https://localhost:8080/"
        },
        "id": "cEeI90ZFM0FN",
        "outputId": "8e7f1f5c-1945-4b4c-90e5-026b565a9c21"
      },
      "source": [
        "Ar = np.array([[1,3], [2,4]])\n",
        "print (Ar, type(Ar))"
      ],
      "execution_count": 150,
      "outputs": [
        {
          "output_type": "stream",
          "name": "stdout",
          "text": [
            "[[1 3]\n",
            " [2 4]] <class 'numpy.ndarray'>\n"
          ]
        }
      ]
    },
    {
      "cell_type": "code",
      "metadata": {
        "colab": {
          "base_uri": "https://localhost:8080/"
        },
        "id": "1pG0EsxKNbNz",
        "outputId": "9565eb31-0ba9-42b1-b4ae-b96c0ee5d997"
      },
      "source": [
        "Ars = np.array([[15,8], [5,43], [6,9]])\n",
        "print (Ars, type(Ars))"
      ],
      "execution_count": 151,
      "outputs": [
        {
          "output_type": "stream",
          "name": "stdout",
          "text": [
            "[[15  8]\n",
            " [ 5 43]\n",
            " [ 6  9]] <class 'numpy.ndarray'>\n"
          ]
        }
      ]
    },
    {
      "cell_type": "markdown",
      "metadata": {
        "id": "lAPxqtTONseO"
      },
      "source": [
        "We get the dimensions of an ndarray using the .shape attribute:"
      ]
    },
    {
      "cell_type": "code",
      "metadata": {
        "colab": {
          "base_uri": "https://localhost:8080/"
        },
        "id": "xvy5157JNvGD",
        "outputId": "15388b8e-306e-4446-d931-80ffb12f1bbf"
      },
      "source": [
        "print (Ar.shape)"
      ],
      "execution_count": 152,
      "outputs": [
        {
          "output_type": "stream",
          "name": "stdout",
          "text": [
            "(2, 2)\n"
          ]
        }
      ]
    },
    {
      "cell_type": "code",
      "metadata": {
        "colab": {
          "base_uri": "https://localhost:8080/"
        },
        "id": "nO5XWkW8N1aO",
        "outputId": "356ef103-6cb9-46a8-d9df-927bca723e46"
      },
      "source": [
        "print (Ars.shape)"
      ],
      "execution_count": 153,
      "outputs": [
        {
          "output_type": "stream",
          "name": "stdout",
          "text": [
            "(3, 2)\n"
          ]
        }
      ]
    },
    {
      "cell_type": "markdown",
      "metadata": {
        "id": "Rab47utOOSbd"
      },
      "source": [
        "If we create an 2-dimensional array (i.e. matrix), each row can be accessed by index:"
      ]
    },
    {
      "cell_type": "code",
      "metadata": {
        "colab": {
          "base_uri": "https://localhost:8080/"
        },
        "id": "u7k8EZn-OT_W",
        "outputId": "7b628ef6-8426-4985-e9a5-c5254777a6d1"
      },
      "source": [
        "print (Ar[0])\n",
        "print (Ar[1])"
      ],
      "execution_count": 154,
      "outputs": [
        {
          "output_type": "stream",
          "name": "stdout",
          "text": [
            "[1 3]\n",
            "[2 4]\n"
          ]
        }
      ]
    },
    {
      "cell_type": "code",
      "metadata": {
        "colab": {
          "base_uri": "https://localhost:8080/"
        },
        "id": "p7ulQfoWOekS",
        "outputId": "f123b30e-058a-48c2-ef3b-9e96ab550ee4"
      },
      "source": [
        "print (Ars[0])\n",
        "print (Ars[1])"
      ],
      "execution_count": 155,
      "outputs": [
        {
          "output_type": "stream",
          "name": "stdout",
          "text": [
            "[15  8]\n",
            "[ 5 43]\n"
          ]
        }
      ]
    },
    {
      "cell_type": "markdown",
      "metadata": {
        "id": "Y_ehc47tOhk-"
      },
      "source": [
        "f we want to access the matrix by column instead:"
      ]
    },
    {
      "cell_type": "code",
      "metadata": {
        "colab": {
          "base_uri": "https://localhost:8080/"
        },
        "id": "0otXa57OOlAg",
        "outputId": "8ad42d04-1407-4872-96c6-61fbc15ba478"
      },
      "source": [
        "print ('First column:', Ar[:,0])\n",
        "print ('Second column:', Ar[:,1])"
      ],
      "execution_count": 156,
      "outputs": [
        {
          "output_type": "stream",
          "name": "stdout",
          "text": [
            "First column: [1 2]\n",
            "Second column: [3 4]\n"
          ]
        }
      ]
    },
    {
      "cell_type": "code",
      "metadata": {
        "colab": {
          "base_uri": "https://localhost:8080/"
        },
        "id": "g1xw2C6xOvuQ",
        "outputId": "ba653ca6-d802-43d9-b3cb-ea7d519562da"
      },
      "source": [
        "print ('First column:', Ars[:,0])\n",
        "print ('Second column:', Ars[:,1])"
      ],
      "execution_count": 157,
      "outputs": [
        {
          "output_type": "stream",
          "name": "stdout",
          "text": [
            "First column: [15  5  6]\n",
            "Second column: [ 8 43  9]\n"
          ]
        }
      ]
    },
    {
      "cell_type": "markdown",
      "metadata": {
        "id": "NAMOyb5nPI9G"
      },
      "source": [
        "##**Array Functions**\n",
        "Some functions built in NumPy that allow us to perform calculations on arrays. For example, we can apply the natural logarithm to each element of an array:"
      ]
    },
    {
      "cell_type": "code",
      "metadata": {
        "colab": {
          "base_uri": "https://localhost:8080/"
        },
        "id": "xyGL_yNePKCR",
        "outputId": "d5e0a47c-eda7-4ff0-f1c5-8ee99be20887"
      },
      "source": [
        "np.log(price_array)"
      ],
      "execution_count": 158,
      "outputs": [
        {
          "output_type": "execute_result",
          "data": {
            "text/plain": [
              "array([4.96793654, 4.98244156, 4.9675886 , 4.96995218, 4.96633504,\n",
              "       4.96018375])"
            ]
          },
          "metadata": {},
          "execution_count": 158
        }
      ]
    },
    {
      "cell_type": "code",
      "metadata": {
        "colab": {
          "base_uri": "https://localhost:8080/"
        },
        "id": "8POO9Ie1PUri",
        "outputId": "ffd71cec-64fb-45b5-be67-e7e2424ca141"
      },
      "source": [
        "np.log(price_arrayS)"
      ],
      "execution_count": 159,
      "outputs": [
        {
          "output_type": "execute_result",
          "data": {
            "text/plain": [
              "array([8.08170074, 3.8249389 , 8.45034374, 7.20267609, 4.22683375,\n",
              "       7.75088159])"
            ]
          },
          "metadata": {},
          "execution_count": 159
        }
      ]
    },
    {
      "cell_type": "markdown",
      "metadata": {
        "id": "_ROzmYgQPe0D"
      },
      "source": [
        "Other functions return a single value:"
      ]
    },
    {
      "cell_type": "code",
      "metadata": {
        "colab": {
          "base_uri": "https://localhost:8080/"
        },
        "id": "ci417Fn9PgXP",
        "outputId": "90a3bcd4-895a-4959-e26e-390bc8032ff3"
      },
      "source": [
        "print (np.mean(price_array))\n",
        "print (np.std(price_array))\n",
        "print (np.sum(price_array))\n",
        "print (np.max(price_array))"
      ],
      "execution_count": 160,
      "outputs": [
        {
          "output_type": "stream",
          "name": "stdout",
          "text": [
            "143.89666666666668\n",
            "0.9673790478515796\n",
            "863.38\n",
            "145.83\n"
          ]
        }
      ]
    },
    {
      "cell_type": "code",
      "metadata": {
        "colab": {
          "base_uri": "https://localhost:8080/"
        },
        "id": "y4qwHysuP_Sh",
        "outputId": "c9549921-1f83-49ec-fca8-b68c4c80995a"
      },
      "source": [
        "print (np.mean(price_arrayS))\n",
        "print (np.std(price_arrayS))\n",
        "print (np.sum(price_arrayS))\n",
        "print (np.max(price_arrayS))"
      ],
      "execution_count": 161,
      "outputs": [
        {
          "output_type": "stream",
          "name": "stdout",
          "text": [
            "1948.7300000000002\n",
            "1671.2883045523095\n",
            "11692.380000000001\n",
            "4676.68\n"
          ]
        }
      ]
    },
    {
      "cell_type": "markdown",
      "metadata": {
        "id": "jIWsaLIRQKkG"
      },
      "source": [
        "The functions above return the mean, standard deviation, total and maximum value of an array.\n",
        "\n",
        "#**Pandas**\n",
        "Pandas is one of the most powerful tools for dealing with financial data.\n",
        "\n",
        "First we need to import Pandas:"
      ]
    },
    {
      "cell_type": "code",
      "metadata": {
        "id": "QGIDnldhRmDE"
      },
      "source": [
        "import pandas as pd"
      ],
      "execution_count": 162,
      "outputs": []
    },
    {
      "cell_type": "markdown",
      "metadata": {
        "id": "OKk0RE2eRpkV"
      },
      "source": [
        "##**Series**\n",
        "Series is a one-dimensional labeled array capable of holding any data type (integers, strings, float, Python object, etc.)\n",
        "\n",
        "We create a Series by calling pd.Series(data), where data can be a dictionary, an array or just a scalar value."
      ]
    },
    {
      "cell_type": "code",
      "metadata": {
        "colab": {
          "base_uri": "https://localhost:8080/"
        },
        "id": "kZptOnrERqny",
        "outputId": "2704109c-8092-4e32-bd17-f7734ee8dcf4"
      },
      "source": [
        "price = [143.73, 145.83, 143.68, 144.02, 143.5, 142.62]\n",
        "s = pd.Series(price)\n",
        "print (s)"
      ],
      "execution_count": 163,
      "outputs": [
        {
          "output_type": "stream",
          "name": "stdout",
          "text": [
            "0    143.73\n",
            "1    145.83\n",
            "2    143.68\n",
            "3    144.02\n",
            "4    143.50\n",
            "5    142.62\n",
            "dtype: float64\n"
          ]
        }
      ]
    },
    {
      "cell_type": "code",
      "metadata": {
        "colab": {
          "base_uri": "https://localhost:8080/"
        },
        "id": "KuiBNdx6Rx6R",
        "outputId": "fcd78fb3-16c3-47b4-e5f1-c263afeec409"
      },
      "source": [
        "priceS = [134.73, 2435.83, 43443.68, 674.02, 12343.5, 7642.62]\n",
        "sS = pd.Series(priceS)\n",
        "print (sS)"
      ],
      "execution_count": 164,
      "outputs": [
        {
          "output_type": "stream",
          "name": "stdout",
          "text": [
            "0      134.73\n",
            "1     2435.83\n",
            "2    43443.68\n",
            "3      674.02\n",
            "4    12343.50\n",
            "5     7642.62\n",
            "dtype: float64\n"
          ]
        }
      ]
    },
    {
      "cell_type": "markdown",
      "metadata": {
        "id": "1SyNf5_hSA_8"
      },
      "source": [
        "We can customize the indices of a new Series:"
      ]
    },
    {
      "cell_type": "code",
      "metadata": {
        "colab": {
          "base_uri": "https://localhost:8080/"
        },
        "id": "7ALVuGb2SGF0",
        "outputId": "63d04fe5-54e4-46a0-b533-3f9b36810457"
      },
      "source": [
        "s = pd.Series(price, index = ['a', 'b', 'c', 'd', 'e', 'f'])\n",
        "print (s)"
      ],
      "execution_count": 165,
      "outputs": [
        {
          "output_type": "stream",
          "name": "stdout",
          "text": [
            "a    143.73\n",
            "b    145.83\n",
            "c    143.68\n",
            "d    144.02\n",
            "e    143.50\n",
            "f    142.62\n",
            "dtype: float64\n"
          ]
        }
      ]
    },
    {
      "cell_type": "code",
      "metadata": {
        "colab": {
          "base_uri": "https://localhost:8080/"
        },
        "id": "OjPJSsChSN2h",
        "outputId": "261f4c14-ffc3-4472-f0aa-f0878fece717"
      },
      "source": [
        "sS = pd.Series(priceS, index = ['G', 'H', 'I', 'J', 'K', 'fL'])\n",
        "print (sS)\n"
      ],
      "execution_count": 166,
      "outputs": [
        {
          "output_type": "stream",
          "name": "stdout",
          "text": [
            "G       134.73\n",
            "H      2435.83\n",
            "I     43443.68\n",
            "J       674.02\n",
            "K     12343.50\n",
            "fL     7642.62\n",
            "dtype: float64\n"
          ]
        }
      ]
    },
    {
      "cell_type": "markdown",
      "metadata": {
        "id": "lBn_ApnqS3ak"
      },
      "source": [
        "\n",
        "Or we can change the indices of an existing Series:"
      ]
    },
    {
      "cell_type": "code",
      "metadata": {
        "colab": {
          "base_uri": "https://localhost:8080/"
        },
        "id": "gl2kZdPOTBDG",
        "outputId": "931e1df8-fefb-434d-b4fa-5e1ae26d36e7"
      },
      "source": [
        "s.index = [6,5,4,3,2,1]\n",
        "print (s)"
      ],
      "execution_count": 167,
      "outputs": [
        {
          "output_type": "stream",
          "name": "stdout",
          "text": [
            "6    143.73\n",
            "5    145.83\n",
            "4    143.68\n",
            "3    144.02\n",
            "2    143.50\n",
            "1    142.62\n",
            "dtype: float64\n"
          ]
        }
      ]
    },
    {
      "cell_type": "code",
      "metadata": {
        "colab": {
          "base_uri": "https://localhost:8080/"
        },
        "id": "gusMIQ1VTLcb",
        "outputId": "56e9526d-e265-463e-81f8-d9fd7b4f8173"
      },
      "source": [
        "sS.index = [1,2,3,4,5,6]\n",
        "print (sS)"
      ],
      "execution_count": 168,
      "outputs": [
        {
          "output_type": "stream",
          "name": "stdout",
          "text": [
            "1      134.73\n",
            "2     2435.83\n",
            "3    43443.68\n",
            "4      674.02\n",
            "5    12343.50\n",
            "6     7642.62\n",
            "dtype: float64\n"
          ]
        }
      ]
    },
    {
      "cell_type": "markdown",
      "metadata": {
        "id": "fyILc_nSTZ8A"
      },
      "source": [
        "Series is like a list since it can be sliced by index:\n"
      ]
    },
    {
      "cell_type": "code",
      "metadata": {
        "colab": {
          "base_uri": "https://localhost:8080/"
        },
        "id": "yU_onKgUTbkV",
        "outputId": "f2d04f64-637b-435f-ec6d-ec756a08d1ce"
      },
      "source": [
        "print (s[1:])\n",
        "print (s[:-2])"
      ],
      "execution_count": 169,
      "outputs": [
        {
          "output_type": "stream",
          "name": "stdout",
          "text": [
            "5    145.83\n",
            "4    143.68\n",
            "3    144.02\n",
            "2    143.50\n",
            "1    142.62\n",
            "dtype: float64\n",
            "6    143.73\n",
            "5    145.83\n",
            "4    143.68\n",
            "3    144.02\n",
            "dtype: float64\n"
          ]
        }
      ]
    },
    {
      "cell_type": "code",
      "metadata": {
        "colab": {
          "base_uri": "https://localhost:8080/"
        },
        "id": "ImgKboSgTndX",
        "outputId": "4bfcc177-0b77-4250-e8de-edde63f91154"
      },
      "source": [
        "print (sS[1:])\n",
        "print (sS[:-2])"
      ],
      "execution_count": 170,
      "outputs": [
        {
          "output_type": "stream",
          "name": "stdout",
          "text": [
            "2     2435.83\n",
            "3    43443.68\n",
            "4      674.02\n",
            "5    12343.50\n",
            "6     7642.62\n",
            "dtype: float64\n",
            "1      134.73\n",
            "2     2435.83\n",
            "3    43443.68\n",
            "4      674.02\n",
            "dtype: float64\n"
          ]
        }
      ]
    },
    {
      "cell_type": "markdown",
      "metadata": {
        "id": "ac8pDKYUTzLm"
      },
      "source": [
        "Series is also like a dictionary whose values can be set or fetched by index label:"
      ]
    },
    {
      "cell_type": "code",
      "metadata": {
        "colab": {
          "base_uri": "https://localhost:8080/"
        },
        "id": "4d_bQTYlT0MM",
        "outputId": "15480ab3-ac79-4ebf-db0b-6b1da0539cc4"
      },
      "source": [
        "print (s[4])\n",
        "s[4] = 0\n",
        "print (s)"
      ],
      "execution_count": 171,
      "outputs": [
        {
          "output_type": "stream",
          "name": "stdout",
          "text": [
            "143.68\n",
            "6    143.73\n",
            "5    145.83\n",
            "4      0.00\n",
            "3    144.02\n",
            "2    143.50\n",
            "1    142.62\n",
            "dtype: float64\n"
          ]
        }
      ]
    },
    {
      "cell_type": "code",
      "metadata": {
        "colab": {
          "base_uri": "https://localhost:8080/"
        },
        "id": "UwlaQTfNUAFV",
        "outputId": "9e6d9cba-ad82-4dae-ee93-7bfa22bffbe5"
      },
      "source": [
        "print (sS[4])\n",
        "sS[4] = 0\n",
        "print (sS)"
      ],
      "execution_count": 172,
      "outputs": [
        {
          "output_type": "stream",
          "name": "stdout",
          "text": [
            "674.02\n",
            "1      134.73\n",
            "2     2435.83\n",
            "3    43443.68\n",
            "4        0.00\n",
            "5    12343.50\n",
            "6     7642.62\n",
            "dtype: float64\n"
          ]
        }
      ]
    },
    {
      "cell_type": "markdown",
      "metadata": {
        "id": "nzTnqSJDUGt3"
      },
      "source": [
        "Series can also have a name attribute, which will be used when we make up a Pandas DataFrame using several series."
      ]
    },
    {
      "cell_type": "code",
      "metadata": {
        "colab": {
          "base_uri": "https://localhost:8080/"
        },
        "id": "O_h_xCHsUIkO",
        "outputId": "cf100110-d344-40d7-84ef-947096318bb7"
      },
      "source": [
        "s = pd.Series(price, name = 'Apple Prices')\n",
        "print (s)\n",
        "print (s.name)"
      ],
      "execution_count": 173,
      "outputs": [
        {
          "output_type": "stream",
          "name": "stdout",
          "text": [
            "0    143.73\n",
            "1    145.83\n",
            "2    143.68\n",
            "3    144.02\n",
            "4    143.50\n",
            "5    142.62\n",
            "Name: Apple Prices, dtype: float64\n",
            "Apple Prices\n"
          ]
        }
      ]
    },
    {
      "cell_type": "code",
      "metadata": {
        "colab": {
          "base_uri": "https://localhost:8080/"
        },
        "id": "tt0kDqeWUSL4",
        "outputId": "7c79838e-7181-4444-ff2c-6f22beb3927a"
      },
      "source": [
        "sS = pd.Series(priceS, name = 'slp Prices')\n",
        "print (sS)\n",
        "print (sS.name)"
      ],
      "execution_count": 174,
      "outputs": [
        {
          "output_type": "stream",
          "name": "stdout",
          "text": [
            "0      134.73\n",
            "1     2435.83\n",
            "2    43443.68\n",
            "3      674.02\n",
            "4    12343.50\n",
            "5     7642.62\n",
            "Name: slp Prices, dtype: float64\n",
            "slp Prices\n"
          ]
        }
      ]
    },
    {
      "cell_type": "markdown",
      "metadata": {
        "id": "4ZcoD5WnUY7I"
      },
      "source": [
        "We can get the statistical summaries of a Series:"
      ]
    },
    {
      "cell_type": "code",
      "metadata": {
        "colab": {
          "base_uri": "https://localhost:8080/"
        },
        "id": "uYLAr2GiUf3C",
        "outputId": "b170ac82-0dc0-46da-815f-07e9f2954c0f"
      },
      "source": [
        "print (s.describe())"
      ],
      "execution_count": 175,
      "outputs": [
        {
          "output_type": "stream",
          "name": "stdout",
          "text": [
            "count      6.000000\n",
            "mean     143.896667\n",
            "std        1.059711\n",
            "min      142.620000\n",
            "25%      143.545000\n",
            "50%      143.705000\n",
            "75%      143.947500\n",
            "max      145.830000\n",
            "Name: Apple Prices, dtype: float64\n"
          ]
        }
      ]
    },
    {
      "cell_type": "code",
      "metadata": {
        "colab": {
          "base_uri": "https://localhost:8080/"
        },
        "id": "p9znsdvQUi8B",
        "outputId": "2fa694e9-6a09-4bb9-cb72-ec91cd279dff"
      },
      "source": [
        "print (sS.describe())"
      ],
      "execution_count": 176,
      "outputs": [
        {
          "output_type": "stream",
          "name": "stdout",
          "text": [
            "count        6.000000\n",
            "mean     11112.396667\n",
            "std      16514.348486\n",
            "min        134.730000\n",
            "25%       1114.472500\n",
            "50%       5039.225000\n",
            "75%      11168.280000\n",
            "max      43443.680000\n",
            "Name: slp Prices, dtype: float64\n"
          ]
        }
      ]
    },
    {
      "cell_type": "markdown",
      "metadata": {
        "id": "VFbR_4x9UyCH"
      },
      "source": [
        "##**Time Index**\n",
        "Pandas has a built-in function specifically for creating date indices: pd.date_range(). We use it to create a new index for our Series:"
      ]
    },
    {
      "cell_type": "code",
      "metadata": {
        "colab": {
          "base_uri": "https://localhost:8080/"
        },
        "id": "4aF9DWh2UzPB",
        "outputId": "aaf6e229-e5b7-4e51-ba25-468996eb9283"
      },
      "source": [
        "time_index = pd.date_range('2017-01-01', periods = len(s), freq = 'D')\n",
        "print (time_index)\n",
        "s.index = time_index\n",
        "print (s)"
      ],
      "execution_count": 177,
      "outputs": [
        {
          "output_type": "stream",
          "name": "stdout",
          "text": [
            "DatetimeIndex(['2017-01-01', '2017-01-02', '2017-01-03', '2017-01-04',\n",
            "               '2017-01-05', '2017-01-06'],\n",
            "              dtype='datetime64[ns]', freq='D')\n",
            "2017-01-01    143.73\n",
            "2017-01-02    145.83\n",
            "2017-01-03    143.68\n",
            "2017-01-04    144.02\n",
            "2017-01-05    143.50\n",
            "2017-01-06    142.62\n",
            "Freq: D, Name: Apple Prices, dtype: float64\n"
          ]
        }
      ]
    },
    {
      "cell_type": "code",
      "metadata": {
        "colab": {
          "base_uri": "https://localhost:8080/"
        },
        "id": "w1hwOg0DVCx2",
        "outputId": "83706951-8221-4ef0-f500-bf8a23b540a1"
      },
      "source": [
        "time_indexS = pd.date_range('2021-10-16', periods = len(s), freq = 'D')\n",
        "print (time_indexS)\n",
        "sS.index = time_indexS\n",
        "print (sS)"
      ],
      "execution_count": 178,
      "outputs": [
        {
          "output_type": "stream",
          "name": "stdout",
          "text": [
            "DatetimeIndex(['2021-10-16', '2021-10-17', '2021-10-18', '2021-10-19',\n",
            "               '2021-10-20', '2021-10-21'],\n",
            "              dtype='datetime64[ns]', freq='D')\n",
            "2021-10-16      134.73\n",
            "2021-10-17     2435.83\n",
            "2021-10-18    43443.68\n",
            "2021-10-19      674.02\n",
            "2021-10-20    12343.50\n",
            "2021-10-21     7642.62\n",
            "Freq: D, Name: slp Prices, dtype: float64\n"
          ]
        }
      ]
    },
    {
      "cell_type": "markdown",
      "metadata": {
        "id": "OZ2zTRoWVRfZ"
      },
      "source": [
        "Series are usually accessed using the iloc[] and loc[] methods. iloc[] is used to access elements by integer index, and loc[] is used to access the index of the series.\n",
        "\n",
        "iloc[] is necessary when the index of a series are integers, take our previous defined series as example:"
      ]
    },
    {
      "cell_type": "code",
      "metadata": {
        "colab": {
          "base_uri": "https://localhost:8080/"
        },
        "id": "aVm1pkwqVUWt",
        "outputId": "109ae488-3f6d-4e86-c629-f36da93da2f3"
      },
      "source": [
        "s.index = [6,5,4,3,2,1]\n",
        "print (s)\n",
        "print (s[1])"
      ],
      "execution_count": 179,
      "outputs": [
        {
          "output_type": "stream",
          "name": "stdout",
          "text": [
            "6    143.73\n",
            "5    145.83\n",
            "4    143.68\n",
            "3    144.02\n",
            "2    143.50\n",
            "1    142.62\n",
            "Name: Apple Prices, dtype: float64\n",
            "142.62\n"
          ]
        }
      ]
    },
    {
      "cell_type": "code",
      "metadata": {
        "colab": {
          "base_uri": "https://localhost:8080/"
        },
        "id": "BUwlEKXZVhPy",
        "outputId": "b73ce795-c807-495e-f25a-7e414a0f085e"
      },
      "source": [
        "sS.index = [1,2,3,4,5,6]\n",
        "print (sS)\n",
        "print (sS[1])"
      ],
      "execution_count": 180,
      "outputs": [
        {
          "output_type": "stream",
          "name": "stdout",
          "text": [
            "1      134.73\n",
            "2     2435.83\n",
            "3    43443.68\n",
            "4      674.02\n",
            "5    12343.50\n",
            "6     7642.62\n",
            "Name: slp Prices, dtype: float64\n",
            "134.73\n"
          ]
        }
      ]
    },
    {
      "cell_type": "markdown",
      "metadata": {
        "id": "0uIfBDqqVsVw"
      },
      "source": [
        "If we intended to take the second element of the series, we would make a mistake here, because the index are integers. In order to access to the element we want, we use iloc[] here:"
      ]
    },
    {
      "cell_type": "code",
      "metadata": {
        "colab": {
          "base_uri": "https://localhost:8080/"
        },
        "id": "WXtqH965Vv-Z",
        "outputId": "3dac2ea0-467f-437b-b5ab-2d7c05bfcbe0"
      },
      "source": [
        "print (s.iloc[1])"
      ],
      "execution_count": 181,
      "outputs": [
        {
          "output_type": "stream",
          "name": "stdout",
          "text": [
            "145.83\n"
          ]
        }
      ]
    },
    {
      "cell_type": "code",
      "metadata": {
        "colab": {
          "base_uri": "https://localhost:8080/"
        },
        "id": "9jRtCcGqV11W",
        "outputId": "47b6e121-4241-42d3-bb42-7255fc0ebcc5"
      },
      "source": [
        "print (sS.iloc[1])"
      ],
      "execution_count": 182,
      "outputs": [
        {
          "output_type": "stream",
          "name": "stdout",
          "text": [
            "2435.83\n"
          ]
        }
      ]
    },
    {
      "cell_type": "markdown",
      "metadata": {
        "id": "hdJOkD_0Wdz2"
      },
      "source": [
        "While working with time series data, we often use time as the index. Pandas provides us with various methods to access the data by time index"
      ]
    },
    {
      "cell_type": "code",
      "metadata": {
        "colab": {
          "base_uri": "https://localhost:8080/"
        },
        "id": "FB-xfsfvWe_Y",
        "outputId": "b700f10f-551e-43c9-d7ba-9f01a6636772"
      },
      "source": [
        "s.index = time_index\n",
        "print (s['2017-01-03'])"
      ],
      "execution_count": 183,
      "outputs": [
        {
          "output_type": "stream",
          "name": "stdout",
          "text": [
            "143.68\n"
          ]
        }
      ]
    },
    {
      "cell_type": "code",
      "metadata": {
        "colab": {
          "base_uri": "https://localhost:8080/"
        },
        "id": "0SNOa0g8W6RG",
        "outputId": "8a4b82f6-7158-46f9-caf7-9470eda4bb55"
      },
      "source": [
        "sS.index = time_indexS\n",
        "print (sS['2021-10-16'])"
      ],
      "execution_count": 184,
      "outputs": [
        {
          "output_type": "stream",
          "name": "stdout",
          "text": [
            "134.73\n"
          ]
        }
      ]
    },
    {
      "cell_type": "markdown",
      "metadata": {
        "id": "rnQcNxtVXK6l"
      },
      "source": [
        "We can even access to a range of dates:"
      ]
    },
    {
      "cell_type": "code",
      "metadata": {
        "colab": {
          "base_uri": "https://localhost:8080/"
        },
        "id": "63IvXEA2XOWi",
        "outputId": "0843ca3c-ebb1-4ef7-a2a8-7962a7f83944"
      },
      "source": [
        "print (s['2017-01-02':'2017-01-05'])"
      ],
      "execution_count": 185,
      "outputs": [
        {
          "output_type": "stream",
          "name": "stdout",
          "text": [
            "2017-01-02    145.83\n",
            "2017-01-03    143.68\n",
            "2017-01-04    144.02\n",
            "2017-01-05    143.50\n",
            "Freq: D, Name: Apple Prices, dtype: float64\n"
          ]
        }
      ]
    },
    {
      "cell_type": "code",
      "metadata": {
        "colab": {
          "base_uri": "https://localhost:8080/"
        },
        "id": "IRLvgc3lXXEj",
        "outputId": "4632e2f5-c1ae-488e-acd5-0e090bec0af0"
      },
      "source": [
        "print (sS['2021-10-16':'2021-10-19'])"
      ],
      "execution_count": 186,
      "outputs": [
        {
          "output_type": "stream",
          "name": "stdout",
          "text": [
            "2021-10-16      134.73\n",
            "2021-10-17     2435.83\n",
            "2021-10-18    43443.68\n",
            "2021-10-19      674.02\n",
            "Freq: D, Name: slp Prices, dtype: float64\n"
          ]
        }
      ]
    },
    {
      "cell_type": "markdown",
      "metadata": {
        "id": "t543tjVTXlLF"
      },
      "source": [
        "Series[] provides us a very flexible way to index data. We can add any condition in the square brackets:"
      ]
    },
    {
      "cell_type": "code",
      "metadata": {
        "colab": {
          "base_uri": "https://localhost:8080/"
        },
        "id": "TZJaA7xYXnYt",
        "outputId": "38b48d9f-f983-4bc9-e5b3-99a9d3aa03a7"
      },
      "source": [
        "print (s[s < np.mean(s)])\n",
        "print (s[(s > np.mean(s)) & (s < np.mean(s) + 1.64*np.std(s))])"
      ],
      "execution_count": 187,
      "outputs": [
        {
          "output_type": "stream",
          "name": "stdout",
          "text": [
            "2017-01-01    143.73\n",
            "2017-01-03    143.68\n",
            "2017-01-05    143.50\n",
            "2017-01-06    142.62\n",
            "Name: Apple Prices, dtype: float64\n",
            "2017-01-04    144.02\n",
            "Freq: D, Name: Apple Prices, dtype: float64\n"
          ]
        }
      ]
    },
    {
      "cell_type": "code",
      "metadata": {
        "colab": {
          "base_uri": "https://localhost:8080/"
        },
        "id": "T9rfr7pKXxNl",
        "outputId": "d8195c08-c464-4136-ae82-4fba5441fdf6"
      },
      "source": [
        "print (sS[sS < np.mean(sS)])\n",
        "print (sS[(sS > np.mean(sS)) & (sS < np.mean(sS) + 1.64*np.std(sS))])"
      ],
      "execution_count": 188,
      "outputs": [
        {
          "output_type": "stream",
          "name": "stdout",
          "text": [
            "2021-10-16     134.73\n",
            "2021-10-17    2435.83\n",
            "2021-10-19     674.02\n",
            "2021-10-21    7642.62\n",
            "Name: slp Prices, dtype: float64\n",
            "2021-10-20    12343.5\n",
            "Freq: D, Name: slp Prices, dtype: float64\n"
          ]
        }
      ]
    },
    {
      "cell_type": "markdown",
      "metadata": {
        "id": "LOffR0cAQlko"
      },
      "source": [
        "As demonstrated, we can use logical operators like & (and), | (or) and ~ (not) to group multiple conditions.\n",
        "\n",
        "#**Summary**\n",
        "Here we have introduced NumPy and Pandas for scientific computing in Python. In the next chapter, we will dive into Pandas to learn resampling and manipulating Pandas DataFrame, which are commonly used in financial data analysis."
      ]
    },
    {
      "cell_type": "code",
      "metadata": {
        "colab": {
          "base_uri": "https://localhost:8080/"
        },
        "id": "8ot7gCcUnRHH",
        "outputId": "537643ba-fca1-4e96-90f6-6003a86c8211"
      },
      "source": [
        "!pip install yfinance"
      ],
      "execution_count": 189,
      "outputs": [
        {
          "output_type": "stream",
          "name": "stdout",
          "text": [
            "Requirement already satisfied: yfinance in /usr/local/lib/python3.7/dist-packages (0.1.64)\n",
            "Requirement already satisfied: numpy>=1.15 in /usr/local/lib/python3.7/dist-packages (from yfinance) (1.19.5)\n",
            "Requirement already satisfied: lxml>=4.5.1 in /usr/local/lib/python3.7/dist-packages (from yfinance) (4.6.3)\n",
            "Requirement already satisfied: requests>=2.20 in /usr/local/lib/python3.7/dist-packages (from yfinance) (2.23.0)\n",
            "Requirement already satisfied: pandas>=0.24 in /usr/local/lib/python3.7/dist-packages (from yfinance) (1.1.5)\n",
            "Requirement already satisfied: multitasking>=0.0.7 in /usr/local/lib/python3.7/dist-packages (from yfinance) (0.0.9)\n",
            "Requirement already satisfied: pytz>=2017.2 in /usr/local/lib/python3.7/dist-packages (from pandas>=0.24->yfinance) (2018.9)\n",
            "Requirement already satisfied: python-dateutil>=2.7.3 in /usr/local/lib/python3.7/dist-packages (from pandas>=0.24->yfinance) (2.8.2)\n",
            "Requirement already satisfied: six>=1.5 in /usr/local/lib/python3.7/dist-packages (from python-dateutil>=2.7.3->pandas>=0.24->yfinance) (1.15.0)\n",
            "Requirement already satisfied: urllib3!=1.25.0,!=1.25.1,<1.26,>=1.21.1 in /usr/local/lib/python3.7/dist-packages (from requests>=2.20->yfinance) (1.24.3)\n",
            "Requirement already satisfied: certifi>=2017.4.17 in /usr/local/lib/python3.7/dist-packages (from requests>=2.20->yfinance) (2021.5.30)\n",
            "Requirement already satisfied: idna<3,>=2.5 in /usr/local/lib/python3.7/dist-packages (from requests>=2.20->yfinance) (2.10)\n",
            "Requirement already satisfied: chardet<4,>=3.0.2 in /usr/local/lib/python3.7/dist-packages (from requests>=2.20->yfinance) (3.0.4)\n"
          ]
        }
      ]
    },
    {
      "cell_type": "markdown",
      "metadata": {
        "id": "X9LbqTGTp7Li"
      },
      "source": [
        "#**05 Pandas-Resampling and DataFrame**\n",
        "#**Introduction**\n",
        "In the last chapter we had a glimpse of Pandas. In this chapter we will learn about resampling methods and the DataFrame object, which is a powerful tool for financial data analysis.\n",
        "\n",
        "# **Fetching Data**\n",
        "Here we use the QuantBook API to retrieve data."
      ]
    },
    {
      "cell_type": "code",
      "metadata": {
        "colab": {
          "base_uri": "https://localhost:8080/",
          "height": 492
        },
        "id": "ZhFv47dsnZqF",
        "outputId": "f4430bf4-74bc-4dc8-b8f0-0cc820e11434"
      },
      "source": [
        "\n",
        "import yfinance as yf\n",
        "\n",
        "msft = yf.Ticker(\"MSFT\")\n",
        "\n",
        "# get stock info\n",
        "print(msft.info)\n",
        "\n",
        "# get historical market data\n",
        "data = msft.history(start=\"2018-01-01\",  end=\"2019-01-01\")\n",
        "data"
      ],
      "execution_count": 190,
      "outputs": [
        {
          "output_type": "stream",
          "name": "stdout",
          "text": [
            "{'zip': '98052-6399', 'sector': 'Technology', 'fullTimeEmployees': 181000, 'longBusinessSummary': 'Microsoft Corporation develops, licenses, and supports software, services, devices, and solutions worldwide. Its Productivity and Business Processes segment offers Office, Exchange, SharePoint, Microsoft Teams, Office 365 Security and Compliance, and Skype for Business, as well as related Client Access Licenses (CAL); Skype, Outlook.com, OneDrive, and LinkedIn; and Dynamics 365, a set of cloud-based and on-premises business solutions for organizations and enterprise divisions. Its Intelligent Cloud segment licenses SQL, Windows Servers, Visual Studio, System Center, and related CALs; GitHub that provides a collaboration platform and code hosting service for developers; and Azure, a cloud platform. It also offers support services and Microsoft consulting services to assist customers in developing, deploying, and managing Microsoft server and desktop solutions; and training and certification on Microsoft products. Its More Personal Computing segment provides Windows original equipment manufacturer (OEM) licensing and other non-volume licensing of the Windows operating system; Windows Commercial, such as volume licensing of the Windows operating system, Windows cloud services, and other Windows commercial offerings; patent licensing; Windows Internet of Things; and MSN advertising. It also offers Surface, PC accessories, PCs, tablets, gaming and entertainment consoles, and other devices; Gaming, including Xbox hardware, and Xbox content and services; video games and third-party video game royalties; and Search, including Bing and Microsoft advertising. It sells its products through OEMs, distributors, and resellers; and directly through digital marketplaces, online stores, and retail stores. It has collaborations with Dynatrace, Inc., Morgan Stanley, Micro Focus, WPP plc, ACI Worldwide, Inc., and iCIMS, Inc., as well as strategic relationships with Avaya Holdings Corp. and wejo Limited. Microsoft Corporation was founded in 1975 and is based in Redmond, Washington.', 'city': 'Redmond', 'phone': '425 882 8080', 'state': 'WA', 'country': 'United States', 'companyOfficers': [], 'website': 'http://www.microsoft.com', 'maxAge': 1, 'address1': 'One Microsoft Way', 'industry': 'Software—Infrastructure', 'ebitdaMargins': 0.48080003, 'profitMargins': 0.36451998, 'grossMargins': 0.68926, 'operatingCashflow': 76740001792, 'revenueGrowth': 0.213, 'operatingMargins': 0.41595, 'ebitda': 80815996928, 'targetLowPrice': 280, 'recommendationKey': 'buy', 'grossProfits': 115856000000, 'freeCashflow': 41337249792, 'targetMedianPrice': 338, 'currentPrice': 309.16, 'earningsGrowth': 0.486, 'currentRatio': 2.08, 'returnOnAssets': 0.13761, 'numberOfAnalystOpinions': 37, 'targetMeanPrice': 337.04, 'debtToEquity': 57.947, 'returnOnEquity': 0.47079, 'targetHighPrice': 384, 'totalCash': 130256003072, 'totalDebt': 82277998592, 'totalRevenue': 168087994368, 'totalCashPerShare': 17.333, 'financialCurrency': 'USD', 'revenuePerShare': 22.272, 'quickRatio': 1.898, 'recommendationMean': 1.7, 'exchange': 'NMS', 'shortName': 'Microsoft Corporation', 'longName': 'Microsoft Corporation', 'exchangeTimezoneName': 'America/New_York', 'exchangeTimezoneShortName': 'EDT', 'isEsgPopulated': False, 'gmtOffSetMilliseconds': '-14400000', 'quoteType': 'EQUITY', 'symbol': 'MSFT', 'messageBoardId': 'finmb_21835', 'market': 'us_market', 'annualHoldingsTurnover': None, 'enterpriseToRevenue': 13.537, 'beta3Year': None, 'enterpriseToEbitda': 28.154, '52WeekChange': 0.47162986, 'morningStarRiskRating': None, 'forwardEps': 10.13, 'revenueQuarterlyGrowth': None, 'sharesOutstanding': 7507899904, 'fundInceptionDate': None, 'annualReportExpenseRatio': None, 'totalAssets': None, 'bookValue': 18.884, 'sharesShort': 47171313, 'sharesPercentSharesOut': 0.0063, 'fundFamily': None, 'lastFiscalYearEnd': 1625011200, 'heldPercentInstitutions': 0.71783996, 'netIncomeToCommon': 61270999040, 'trailingEps': 8.05, 'lastDividendValue': 0.56, 'SandP52WeekChange': 0.33635402, 'priceToBook': 16.37153, 'heldPercentInsiders': 0.0008, 'nextFiscalYearEnd': 1688083200, 'yield': None, 'mostRecentQuarter': 1625011200, 'shortRatio': 1.99, 'sharesShortPreviousMonthDate': 1630368000, 'floatShares': 7507075761, 'beta': 0.802645, 'enterpriseValue': 2275325771776, 'priceHint': 2, 'threeYearAverageReturn': None, 'lastSplitDate': 1045526400, 'lastSplitFactor': '2:1', 'legalType': None, 'lastDividendDate': 1629244800, 'morningStarOverallRating': None, 'earningsQuarterlyGrowth': 0.469, 'priceToSalesTrailing12Months': 13.80909, 'dateShortInterest': 1632960000, 'pegRatio': 2.28, 'ytdReturn': None, 'forwardPE': 30.519249, 'lastCapGain': None, 'shortPercentOfFloat': 0.0063, 'sharesShortPriorMonth': 45696881, 'impliedSharesOutstanding': None, 'category': None, 'fiveYearAverageReturn': None, 'previousClose': 310.76, 'regularMarketOpen': 310.4, 'twoHundredDayAverage': 276.41827, 'trailingAnnualDividendYield': 0.0072081345, 'payoutRatio': 0.272, 'volume24Hr': None, 'regularMarketDayHigh': 311.09, 'navPrice': None, 'averageDailyVolume10Day': 19447016, 'regularMarketPreviousClose': 310.76, 'fiftyDayAverage': 297.27206, 'trailingAnnualDividendRate': 2.24, 'open': 310.4, 'toCurrency': None, 'averageVolume10days': 19447016, 'expireDate': None, 'algorithm': None, 'dividendRate': 2.48, 'exDividendDate': 1637107200, 'circulatingSupply': None, 'startDate': None, 'regularMarketDayLow': 307.8, 'currency': 'USD', 'trailingPE': 38.40497, 'regularMarketVolume': 17449332, 'lastMarket': None, 'maxSupply': None, 'openInterest': None, 'marketCap': 2321142251520, 'volumeAllCurrencies': None, 'strikePrice': None, 'averageVolume': 22355900, 'dayLow': 307.8, 'ask': 309, 'askSize': 900, 'volume': 17449332, 'fiftyTwoWeekHigh': 311.09, 'fromCurrency': None, 'fiveYearAvgDividendYield': 1.48, 'fiftyTwoWeekLow': 199.62, 'bid': 308.91, 'tradeable': False, 'dividendYield': 0.008, 'bidSize': 800, 'dayHigh': 311.09, 'regularMarketPrice': 309.16, 'preMarketPrice': None, 'logo_url': 'https://logo.clearbit.com/microsoft.com'}\n"
          ]
        },
        {
          "output_type": "execute_result",
          "data": {
            "text/html": [
              "<div>\n",
              "<style scoped>\n",
              "    .dataframe tbody tr th:only-of-type {\n",
              "        vertical-align: middle;\n",
              "    }\n",
              "\n",
              "    .dataframe tbody tr th {\n",
              "        vertical-align: top;\n",
              "    }\n",
              "\n",
              "    .dataframe thead th {\n",
              "        text-align: right;\n",
              "    }\n",
              "</style>\n",
              "<table border=\"1\" class=\"dataframe\">\n",
              "  <thead>\n",
              "    <tr style=\"text-align: right;\">\n",
              "      <th></th>\n",
              "      <th>Open</th>\n",
              "      <th>High</th>\n",
              "      <th>Low</th>\n",
              "      <th>Close</th>\n",
              "      <th>Volume</th>\n",
              "      <th>Dividends</th>\n",
              "      <th>Stock Splits</th>\n",
              "    </tr>\n",
              "    <tr>\n",
              "      <th>Date</th>\n",
              "      <th></th>\n",
              "      <th></th>\n",
              "      <th></th>\n",
              "      <th></th>\n",
              "      <th></th>\n",
              "      <th></th>\n",
              "      <th></th>\n",
              "    </tr>\n",
              "  </thead>\n",
              "  <tbody>\n",
              "    <tr>\n",
              "      <th>2018-01-02</th>\n",
              "      <td>82.019707</td>\n",
              "      <td>82.191118</td>\n",
              "      <td>81.419775</td>\n",
              "      <td>81.848297</td>\n",
              "      <td>22483800</td>\n",
              "      <td>0.0</td>\n",
              "      <td>0</td>\n",
              "    </tr>\n",
              "    <tr>\n",
              "      <th>2018-01-03</th>\n",
              "      <td>81.953026</td>\n",
              "      <td>82.381555</td>\n",
              "      <td>81.867324</td>\n",
              "      <td>82.229187</td>\n",
              "      <td>26061400</td>\n",
              "      <td>0.0</td>\n",
              "      <td>0</td>\n",
              "    </tr>\n",
              "    <tr>\n",
              "      <th>2018-01-04</th>\n",
              "      <td>82.457730</td>\n",
              "      <td>83.476675</td>\n",
              "      <td>82.438688</td>\n",
              "      <td>82.952919</td>\n",
              "      <td>21912000</td>\n",
              "      <td>0.0</td>\n",
              "      <td>0</td>\n",
              "    </tr>\n",
              "    <tr>\n",
              "      <th>2018-01-05</th>\n",
              "      <td>83.476686</td>\n",
              "      <td>84.190894</td>\n",
              "      <td>83.257659</td>\n",
              "      <td>83.981392</td>\n",
              "      <td>23407100</td>\n",
              "      <td>0.0</td>\n",
              "      <td>0</td>\n",
              "    </tr>\n",
              "    <tr>\n",
              "      <th>2018-01-08</th>\n",
              "      <td>83.990909</td>\n",
              "      <td>84.352779</td>\n",
              "      <td>83.419544</td>\n",
              "      <td>84.067093</td>\n",
              "      <td>22113000</td>\n",
              "      <td>0.0</td>\n",
              "      <td>0</td>\n",
              "    </tr>\n",
              "    <tr>\n",
              "      <th>...</th>\n",
              "      <td>...</td>\n",
              "      <td>...</td>\n",
              "      <td>...</td>\n",
              "      <td>...</td>\n",
              "      <td>...</td>\n",
              "      <td>...</td>\n",
              "      <td>...</td>\n",
              "    </tr>\n",
              "    <tr>\n",
              "      <th>2018-12-24</th>\n",
              "      <td>94.628787</td>\n",
              "      <td>94.909729</td>\n",
              "      <td>91.044366</td>\n",
              "      <td>91.189674</td>\n",
              "      <td>43935200</td>\n",
              "      <td>0.0</td>\n",
              "      <td>0</td>\n",
              "    </tr>\n",
              "    <tr>\n",
              "      <th>2018-12-26</th>\n",
              "      <td>92.168121</td>\n",
              "      <td>97.544760</td>\n",
              "      <td>91.024981</td>\n",
              "      <td>97.418816</td>\n",
              "      <td>51634800</td>\n",
              "      <td>0.0</td>\n",
              "      <td>0</td>\n",
              "    </tr>\n",
              "    <tr>\n",
              "      <th>2018-12-27</th>\n",
              "      <td>96.198168</td>\n",
              "      <td>98.029129</td>\n",
              "      <td>93.388754</td>\n",
              "      <td>98.019440</td>\n",
              "      <td>49498500</td>\n",
              "      <td>0.0</td>\n",
              "      <td>0</td>\n",
              "    </tr>\n",
              "    <tr>\n",
              "      <th>2018-12-28</th>\n",
              "      <td>98.901014</td>\n",
              "      <td>99.211025</td>\n",
              "      <td>96.411293</td>\n",
              "      <td>97.254120</td>\n",
              "      <td>38196300</td>\n",
              "      <td>0.0</td>\n",
              "      <td>0</td>\n",
              "    </tr>\n",
              "    <tr>\n",
              "      <th>2018-12-31</th>\n",
              "      <td>98.126010</td>\n",
              "      <td>99.201338</td>\n",
              "      <td>97.302563</td>\n",
              "      <td>98.397263</td>\n",
              "      <td>33173800</td>\n",
              "      <td>0.0</td>\n",
              "      <td>0</td>\n",
              "    </tr>\n",
              "  </tbody>\n",
              "</table>\n",
              "<p>251 rows × 7 columns</p>\n",
              "</div>"
            ],
            "text/plain": [
              "                 Open       High        Low  ...    Volume  Dividends  Stock Splits\n",
              "Date                                         ...                                   \n",
              "2018-01-02  82.019707  82.191118  81.419775  ...  22483800        0.0             0\n",
              "2018-01-03  81.953026  82.381555  81.867324  ...  26061400        0.0             0\n",
              "2018-01-04  82.457730  83.476675  82.438688  ...  21912000        0.0             0\n",
              "2018-01-05  83.476686  84.190894  83.257659  ...  23407100        0.0             0\n",
              "2018-01-08  83.990909  84.352779  83.419544  ...  22113000        0.0             0\n",
              "...               ...        ...        ...  ...       ...        ...           ...\n",
              "2018-12-24  94.628787  94.909729  91.044366  ...  43935200        0.0             0\n",
              "2018-12-26  92.168121  97.544760  91.024981  ...  51634800        0.0             0\n",
              "2018-12-27  96.198168  98.029129  93.388754  ...  49498500        0.0             0\n",
              "2018-12-28  98.901014  99.211025  96.411293  ...  38196300        0.0             0\n",
              "2018-12-31  98.126010  99.201338  97.302563  ...  33173800        0.0             0\n",
              "\n",
              "[251 rows x 7 columns]"
            ]
          },
          "metadata": {},
          "execution_count": 190
        }
      ]
    },
    {
      "cell_type": "code",
      "metadata": {
        "colab": {
          "base_uri": "https://localhost:8080/",
          "height": 492
        },
        "id": "GqPIX3GDoJyy",
        "outputId": "30c6c584-28b5-411d-b020-2cc308937349"
      },
      "source": [
        "msftS = yf.Ticker(\"MSFT\")\n",
        "\n",
        "# get stock info\n",
        "print(msftS.info)\n",
        "\n",
        "# get historical market data\n",
        "dataS = msftS.history(start=\"2019-01-01\",  end=\"2020-01-01\")\n",
        "data"
      ],
      "execution_count": 191,
      "outputs": [
        {
          "output_type": "stream",
          "name": "stdout",
          "text": [
            "{'zip': '98052-6399', 'sector': 'Technology', 'fullTimeEmployees': 181000, 'longBusinessSummary': 'Microsoft Corporation develops, licenses, and supports software, services, devices, and solutions worldwide. Its Productivity and Business Processes segment offers Office, Exchange, SharePoint, Microsoft Teams, Office 365 Security and Compliance, and Skype for Business, as well as related Client Access Licenses (CAL); Skype, Outlook.com, OneDrive, and LinkedIn; and Dynamics 365, a set of cloud-based and on-premises business solutions for organizations and enterprise divisions. Its Intelligent Cloud segment licenses SQL, Windows Servers, Visual Studio, System Center, and related CALs; GitHub that provides a collaboration platform and code hosting service for developers; and Azure, a cloud platform. It also offers support services and Microsoft consulting services to assist customers in developing, deploying, and managing Microsoft server and desktop solutions; and training and certification on Microsoft products. Its More Personal Computing segment provides Windows original equipment manufacturer (OEM) licensing and other non-volume licensing of the Windows operating system; Windows Commercial, such as volume licensing of the Windows operating system, Windows cloud services, and other Windows commercial offerings; patent licensing; Windows Internet of Things; and MSN advertising. It also offers Surface, PC accessories, PCs, tablets, gaming and entertainment consoles, and other devices; Gaming, including Xbox hardware, and Xbox content and services; video games and third-party video game royalties; and Search, including Bing and Microsoft advertising. It sells its products through OEMs, distributors, and resellers; and directly through digital marketplaces, online stores, and retail stores. It has collaborations with Dynatrace, Inc., Morgan Stanley, Micro Focus, WPP plc, ACI Worldwide, Inc., and iCIMS, Inc., as well as strategic relationships with Avaya Holdings Corp. and wejo Limited. Microsoft Corporation was founded in 1975 and is based in Redmond, Washington.', 'city': 'Redmond', 'phone': '425 882 8080', 'state': 'WA', 'country': 'United States', 'companyOfficers': [], 'website': 'http://www.microsoft.com', 'maxAge': 1, 'address1': 'One Microsoft Way', 'industry': 'Software—Infrastructure', 'ebitdaMargins': 0.48080003, 'profitMargins': 0.36451998, 'grossMargins': 0.68926, 'operatingCashflow': 76740001792, 'revenueGrowth': 0.213, 'operatingMargins': 0.41595, 'ebitda': 80815996928, 'targetLowPrice': 280, 'recommendationKey': 'buy', 'grossProfits': 115856000000, 'freeCashflow': 41337249792, 'targetMedianPrice': 338, 'currentPrice': 309.16, 'earningsGrowth': 0.486, 'currentRatio': 2.08, 'returnOnAssets': 0.13761, 'numberOfAnalystOpinions': 37, 'targetMeanPrice': 337.04, 'debtToEquity': 57.947, 'returnOnEquity': 0.47079, 'targetHighPrice': 384, 'totalCash': 130256003072, 'totalDebt': 82277998592, 'totalRevenue': 168087994368, 'totalCashPerShare': 17.333, 'financialCurrency': 'USD', 'revenuePerShare': 22.272, 'quickRatio': 1.898, 'recommendationMean': 1.7, 'exchange': 'NMS', 'shortName': 'Microsoft Corporation', 'longName': 'Microsoft Corporation', 'exchangeTimezoneName': 'America/New_York', 'exchangeTimezoneShortName': 'EDT', 'isEsgPopulated': False, 'gmtOffSetMilliseconds': '-14400000', 'quoteType': 'EQUITY', 'symbol': 'MSFT', 'messageBoardId': 'finmb_21835', 'market': 'us_market', 'annualHoldingsTurnover': None, 'enterpriseToRevenue': 13.537, 'beta3Year': None, 'enterpriseToEbitda': 28.154, '52WeekChange': 0.47162986, 'morningStarRiskRating': None, 'forwardEps': 10.13, 'revenueQuarterlyGrowth': None, 'sharesOutstanding': 7507899904, 'fundInceptionDate': None, 'annualReportExpenseRatio': None, 'totalAssets': None, 'bookValue': 18.884, 'sharesShort': 47171313, 'sharesPercentSharesOut': 0.0063, 'fundFamily': None, 'lastFiscalYearEnd': 1625011200, 'heldPercentInstitutions': 0.71783996, 'netIncomeToCommon': 61270999040, 'trailingEps': 8.05, 'lastDividendValue': 0.56, 'SandP52WeekChange': 0.33635402, 'priceToBook': 16.37153, 'heldPercentInsiders': 0.0008, 'nextFiscalYearEnd': 1688083200, 'yield': None, 'mostRecentQuarter': 1625011200, 'shortRatio': 1.99, 'sharesShortPreviousMonthDate': 1630368000, 'floatShares': 7507075761, 'beta': 0.802645, 'enterpriseValue': 2275325771776, 'priceHint': 2, 'threeYearAverageReturn': None, 'lastSplitDate': 1045526400, 'lastSplitFactor': '2:1', 'legalType': None, 'lastDividendDate': 1629244800, 'morningStarOverallRating': None, 'earningsQuarterlyGrowth': 0.469, 'priceToSalesTrailing12Months': 13.80909, 'dateShortInterest': 1632960000, 'pegRatio': 2.28, 'ytdReturn': None, 'forwardPE': 30.519249, 'lastCapGain': None, 'shortPercentOfFloat': 0.0063, 'sharesShortPriorMonth': 45696881, 'impliedSharesOutstanding': None, 'category': None, 'fiveYearAverageReturn': None, 'previousClose': 310.76, 'regularMarketOpen': 310.4, 'twoHundredDayAverage': 276.41827, 'trailingAnnualDividendYield': 0.0072081345, 'payoutRatio': 0.272, 'volume24Hr': None, 'regularMarketDayHigh': 311.09, 'navPrice': None, 'averageDailyVolume10Day': 19447016, 'regularMarketPreviousClose': 310.76, 'fiftyDayAverage': 297.27206, 'trailingAnnualDividendRate': 2.24, 'open': 310.4, 'toCurrency': None, 'averageVolume10days': 19447016, 'expireDate': None, 'algorithm': None, 'dividendRate': 2.48, 'exDividendDate': 1637107200, 'circulatingSupply': None, 'startDate': None, 'regularMarketDayLow': 307.8, 'currency': 'USD', 'trailingPE': 38.40497, 'regularMarketVolume': 17449332, 'lastMarket': None, 'maxSupply': None, 'openInterest': None, 'marketCap': 2321142251520, 'volumeAllCurrencies': None, 'strikePrice': None, 'averageVolume': 22355900, 'dayLow': 307.8, 'ask': 309, 'askSize': 900, 'volume': 17449332, 'fiftyTwoWeekHigh': 311.09, 'fromCurrency': None, 'fiveYearAvgDividendYield': 1.48, 'fiftyTwoWeekLow': 199.62, 'bid': 308.91, 'tradeable': False, 'dividendYield': 0.008, 'bidSize': 800, 'dayHigh': 311.09, 'regularMarketPrice': 309.16, 'preMarketPrice': None, 'logo_url': 'https://logo.clearbit.com/microsoft.com'}\n"
          ]
        },
        {
          "output_type": "execute_result",
          "data": {
            "text/html": [
              "<div>\n",
              "<style scoped>\n",
              "    .dataframe tbody tr th:only-of-type {\n",
              "        vertical-align: middle;\n",
              "    }\n",
              "\n",
              "    .dataframe tbody tr th {\n",
              "        vertical-align: top;\n",
              "    }\n",
              "\n",
              "    .dataframe thead th {\n",
              "        text-align: right;\n",
              "    }\n",
              "</style>\n",
              "<table border=\"1\" class=\"dataframe\">\n",
              "  <thead>\n",
              "    <tr style=\"text-align: right;\">\n",
              "      <th></th>\n",
              "      <th>Open</th>\n",
              "      <th>High</th>\n",
              "      <th>Low</th>\n",
              "      <th>Close</th>\n",
              "      <th>Volume</th>\n",
              "      <th>Dividends</th>\n",
              "      <th>Stock Splits</th>\n",
              "    </tr>\n",
              "    <tr>\n",
              "      <th>Date</th>\n",
              "      <th></th>\n",
              "      <th></th>\n",
              "      <th></th>\n",
              "      <th></th>\n",
              "      <th></th>\n",
              "      <th></th>\n",
              "      <th></th>\n",
              "    </tr>\n",
              "  </thead>\n",
              "  <tbody>\n",
              "    <tr>\n",
              "      <th>2018-01-02</th>\n",
              "      <td>82.019707</td>\n",
              "      <td>82.191118</td>\n",
              "      <td>81.419775</td>\n",
              "      <td>81.848297</td>\n",
              "      <td>22483800</td>\n",
              "      <td>0.0</td>\n",
              "      <td>0</td>\n",
              "    </tr>\n",
              "    <tr>\n",
              "      <th>2018-01-03</th>\n",
              "      <td>81.953026</td>\n",
              "      <td>82.381555</td>\n",
              "      <td>81.867324</td>\n",
              "      <td>82.229187</td>\n",
              "      <td>26061400</td>\n",
              "      <td>0.0</td>\n",
              "      <td>0</td>\n",
              "    </tr>\n",
              "    <tr>\n",
              "      <th>2018-01-04</th>\n",
              "      <td>82.457730</td>\n",
              "      <td>83.476675</td>\n",
              "      <td>82.438688</td>\n",
              "      <td>82.952919</td>\n",
              "      <td>21912000</td>\n",
              "      <td>0.0</td>\n",
              "      <td>0</td>\n",
              "    </tr>\n",
              "    <tr>\n",
              "      <th>2018-01-05</th>\n",
              "      <td>83.476686</td>\n",
              "      <td>84.190894</td>\n",
              "      <td>83.257659</td>\n",
              "      <td>83.981392</td>\n",
              "      <td>23407100</td>\n",
              "      <td>0.0</td>\n",
              "      <td>0</td>\n",
              "    </tr>\n",
              "    <tr>\n",
              "      <th>2018-01-08</th>\n",
              "      <td>83.990909</td>\n",
              "      <td>84.352779</td>\n",
              "      <td>83.419544</td>\n",
              "      <td>84.067093</td>\n",
              "      <td>22113000</td>\n",
              "      <td>0.0</td>\n",
              "      <td>0</td>\n",
              "    </tr>\n",
              "    <tr>\n",
              "      <th>...</th>\n",
              "      <td>...</td>\n",
              "      <td>...</td>\n",
              "      <td>...</td>\n",
              "      <td>...</td>\n",
              "      <td>...</td>\n",
              "      <td>...</td>\n",
              "      <td>...</td>\n",
              "    </tr>\n",
              "    <tr>\n",
              "      <th>2018-12-24</th>\n",
              "      <td>94.628787</td>\n",
              "      <td>94.909729</td>\n",
              "      <td>91.044366</td>\n",
              "      <td>91.189674</td>\n",
              "      <td>43935200</td>\n",
              "      <td>0.0</td>\n",
              "      <td>0</td>\n",
              "    </tr>\n",
              "    <tr>\n",
              "      <th>2018-12-26</th>\n",
              "      <td>92.168121</td>\n",
              "      <td>97.544760</td>\n",
              "      <td>91.024981</td>\n",
              "      <td>97.418816</td>\n",
              "      <td>51634800</td>\n",
              "      <td>0.0</td>\n",
              "      <td>0</td>\n",
              "    </tr>\n",
              "    <tr>\n",
              "      <th>2018-12-27</th>\n",
              "      <td>96.198168</td>\n",
              "      <td>98.029129</td>\n",
              "      <td>93.388754</td>\n",
              "      <td>98.019440</td>\n",
              "      <td>49498500</td>\n",
              "      <td>0.0</td>\n",
              "      <td>0</td>\n",
              "    </tr>\n",
              "    <tr>\n",
              "      <th>2018-12-28</th>\n",
              "      <td>98.901014</td>\n",
              "      <td>99.211025</td>\n",
              "      <td>96.411293</td>\n",
              "      <td>97.254120</td>\n",
              "      <td>38196300</td>\n",
              "      <td>0.0</td>\n",
              "      <td>0</td>\n",
              "    </tr>\n",
              "    <tr>\n",
              "      <th>2018-12-31</th>\n",
              "      <td>98.126010</td>\n",
              "      <td>99.201338</td>\n",
              "      <td>97.302563</td>\n",
              "      <td>98.397263</td>\n",
              "      <td>33173800</td>\n",
              "      <td>0.0</td>\n",
              "      <td>0</td>\n",
              "    </tr>\n",
              "  </tbody>\n",
              "</table>\n",
              "<p>251 rows × 7 columns</p>\n",
              "</div>"
            ],
            "text/plain": [
              "                 Open       High        Low  ...    Volume  Dividends  Stock Splits\n",
              "Date                                         ...                                   \n",
              "2018-01-02  82.019707  82.191118  81.419775  ...  22483800        0.0             0\n",
              "2018-01-03  81.953026  82.381555  81.867324  ...  26061400        0.0             0\n",
              "2018-01-04  82.457730  83.476675  82.438688  ...  21912000        0.0             0\n",
              "2018-01-05  83.476686  84.190894  83.257659  ...  23407100        0.0             0\n",
              "2018-01-08  83.990909  84.352779  83.419544  ...  22113000        0.0             0\n",
              "...               ...        ...        ...  ...       ...        ...           ...\n",
              "2018-12-24  94.628787  94.909729  91.044366  ...  43935200        0.0             0\n",
              "2018-12-26  92.168121  97.544760  91.024981  ...  51634800        0.0             0\n",
              "2018-12-27  96.198168  98.029129  93.388754  ...  49498500        0.0             0\n",
              "2018-12-28  98.901014  99.211025  96.411293  ...  38196300        0.0             0\n",
              "2018-12-31  98.126010  99.201338  97.302563  ...  33173800        0.0             0\n",
              "\n",
              "[251 rows x 7 columns]"
            ]
          },
          "metadata": {},
          "execution_count": 191
        }
      ]
    },
    {
      "cell_type": "markdown",
      "metadata": {
        "id": "mdm8ep02qLRq"
      },
      "source": [
        "#**Resampling**\n",
        "**series.resample(freq)** is a class called \"DatetimeIndexResampler\" which groups data in a Series object into regular time intervals. The argument \"freq\" determines the length of each interval.\n",
        "\n",
        "**series.resample.mean()** is a complete statement that groups data into intervals, and then compute the mean of each interval. For example, if we want to aggregate the daily data into monthly data by mean:"
      ]
    },
    {
      "cell_type": "code",
      "metadata": {
        "colab": {
          "base_uri": "https://localhost:8080/"
        },
        "id": "pFFfC73QpqVM",
        "outputId": "e920f37a-c2d2-49a4-f840-bc56c5207197"
      },
      "source": [
        "by_month = data.resample('M').mean()\n",
        "print(by_month)"
      ],
      "execution_count": 192,
      "outputs": [
        {
          "output_type": "stream",
          "name": "stdout",
          "text": [
            "                  Open        High  ...  Dividends  Stock Splits\n",
            "Date                                ...                         \n",
            "2018-01-31   85.673269   86.331249  ...   0.000000           0.0\n",
            "2018-02-28   87.292100   88.559519  ...   0.022105           0.0\n",
            "2018-03-31   89.198370   90.138264  ...   0.000000           0.0\n",
            "2018-04-30   89.485851   90.386108  ...   0.000000           0.0\n",
            "2018-05-31   92.655920   93.521271  ...   0.019091           0.0\n",
            "2018-06-30   96.729498   97.370553  ...   0.000000           0.0\n",
            "2018-07-31  100.496214  101.332195  ...   0.000000           0.0\n",
            "2018-08-31  104.440216  105.162139  ...   0.018261           0.0\n",
            "2018-09-30  108.109373  108.947556  ...   0.000000           0.0\n",
            "2018-10-31  105.905083  107.101180  ...   0.000000           0.0\n",
            "2018-11-30  103.709790  104.887954  ...   0.021905           0.0\n",
            "2018-12-31  101.743065  103.210996  ...   0.000000           0.0\n",
            "\n",
            "[12 rows x 7 columns]\n"
          ]
        }
      ]
    },
    {
      "cell_type": "code",
      "metadata": {
        "colab": {
          "base_uri": "https://localhost:8080/"
        },
        "id": "H2clkK1rqT4q",
        "outputId": "0dae4d62-8d71-4f73-cd81-853c4b104661"
      },
      "source": [
        "by_monthS = dataS.resample('M').mean()\n",
        "print(by_monthS)"
      ],
      "execution_count": 193,
      "outputs": [
        {
          "output_type": "stream",
          "name": "stdout",
          "text": [
            "                  Open        High  ...  Dividends  Stock Splits\n",
            "Date                                ...                         \n",
            "2019-01-31  100.704306  101.698902  ...   0.000000           0.0\n",
            "2019-02-28  104.320236  105.233063  ...   0.024211           0.0\n",
            "2019-03-31  111.896050  112.764248  ...   0.000000           0.0\n",
            "2019-04-30  119.283607  119.899315  ...   0.000000           0.0\n",
            "2019-05-31  123.018715  124.194438  ...   0.020909           0.0\n",
            "2019-06-30  128.936794  129.979698  ...   0.000000           0.0\n",
            "2019-07-31  135.058173  135.760367  ...   0.000000           0.0\n",
            "2019-08-31  133.558049  134.642876  ...   0.020909           0.0\n",
            "2019-09-30  135.557211  136.273410  ...   0.000000           0.0\n",
            "2019-10-31  136.700302  137.551834  ...   0.000000           0.0\n",
            "2019-11-30  145.036413  145.722410  ...   0.025500           0.0\n",
            "2019-12-31  151.377177  152.152880  ...   0.000000           0.0\n",
            "\n",
            "[12 rows x 7 columns]\n"
          ]
        }
      ]
    },
    {
      "cell_type": "code",
      "metadata": {
        "colab": {
          "base_uri": "https://localhost:8080/",
          "height": 457
        },
        "id": "hSZIEP5UqhBW",
        "outputId": "276a3fa2-717c-484e-c6ce-5d75728fce7c"
      },
      "source": [
        "data.resample('M').max()"
      ],
      "execution_count": 194,
      "outputs": [
        {
          "output_type": "execute_result",
          "data": {
            "text/html": [
              "<div>\n",
              "<style scoped>\n",
              "    .dataframe tbody tr th:only-of-type {\n",
              "        vertical-align: middle;\n",
              "    }\n",
              "\n",
              "    .dataframe tbody tr th {\n",
              "        vertical-align: top;\n",
              "    }\n",
              "\n",
              "    .dataframe thead th {\n",
              "        text-align: right;\n",
              "    }\n",
              "</style>\n",
              "<table border=\"1\" class=\"dataframe\">\n",
              "  <thead>\n",
              "    <tr style=\"text-align: right;\">\n",
              "      <th></th>\n",
              "      <th>Open</th>\n",
              "      <th>High</th>\n",
              "      <th>Low</th>\n",
              "      <th>Close</th>\n",
              "      <th>Volume</th>\n",
              "      <th>Dividends</th>\n",
              "      <th>Stock Splits</th>\n",
              "    </tr>\n",
              "    <tr>\n",
              "      <th>Date</th>\n",
              "      <th></th>\n",
              "      <th></th>\n",
              "      <th></th>\n",
              "      <th></th>\n",
              "      <th></th>\n",
              "      <th></th>\n",
              "      <th></th>\n",
              "    </tr>\n",
              "  </thead>\n",
              "  <tbody>\n",
              "    <tr>\n",
              "      <th>2018-01-31</th>\n",
              "      <td>90.599723</td>\n",
              "      <td>90.894927</td>\n",
              "      <td>89.247490</td>\n",
              "      <td>90.475929</td>\n",
              "      <td>48756300</td>\n",
              "      <td>0.00</td>\n",
              "      <td>0</td>\n",
              "    </tr>\n",
              "    <tr>\n",
              "      <th>2018-02-28</th>\n",
              "      <td>91.599351</td>\n",
              "      <td>91.695025</td>\n",
              "      <td>90.173793</td>\n",
              "      <td>91.293190</td>\n",
              "      <td>67998600</td>\n",
              "      <td>0.42</td>\n",
              "      <td>0</td>\n",
              "    </tr>\n",
              "    <tr>\n",
              "      <th>2018-03-31</th>\n",
              "      <td>92.804871</td>\n",
              "      <td>93.034490</td>\n",
              "      <td>91.886392</td>\n",
              "      <td>92.584816</td>\n",
              "      <td>56569000</td>\n",
              "      <td>0.00</td>\n",
              "      <td>0</td>\n",
              "    </tr>\n",
              "    <tr>\n",
              "      <th>2018-04-30</th>\n",
              "      <td>93.378919</td>\n",
              "      <td>93.665948</td>\n",
              "      <td>91.388880</td>\n",
              "      <td>92.269096</td>\n",
              "      <td>48515400</td>\n",
              "      <td>0.00</td>\n",
              "      <td>0</td>\n",
              "    </tr>\n",
              "    <tr>\n",
              "      <th>2018-05-31</th>\n",
              "      <td>95.407590</td>\n",
              "      <td>96.080216</td>\n",
              "      <td>94.754179</td>\n",
              "      <td>95.080849</td>\n",
              "      <td>34140900</td>\n",
              "      <td>0.42</td>\n",
              "      <td>0</td>\n",
              "    </tr>\n",
              "    <tr>\n",
              "      <th>2018-06-30</th>\n",
              "      <td>98.636196</td>\n",
              "      <td>98.674633</td>\n",
              "      <td>97.915511</td>\n",
              "      <td>98.482437</td>\n",
              "      <td>65738600</td>\n",
              "      <td>0.00</td>\n",
              "      <td>0</td>\n",
              "    </tr>\n",
              "    <tr>\n",
              "      <th>2018-07-31</th>\n",
              "      <td>106.409850</td>\n",
              "      <td>106.803825</td>\n",
              "      <td>105.218338</td>\n",
              "      <td>106.496338</td>\n",
              "      <td>56004000</td>\n",
              "      <td>0.00</td>\n",
              "      <td>0</td>\n",
              "    </tr>\n",
              "    <tr>\n",
              "      <th>2018-08-31</th>\n",
              "      <td>107.735725</td>\n",
              "      <td>108.787131</td>\n",
              "      <td>107.571738</td>\n",
              "      <td>108.353065</td>\n",
              "      <td>29982800</td>\n",
              "      <td>0.42</td>\n",
              "      <td>0</td>\n",
              "    </tr>\n",
              "    <tr>\n",
              "      <th>2018-09-30</th>\n",
              "      <td>110.735602</td>\n",
              "      <td>111.208254</td>\n",
              "      <td>110.156842</td>\n",
              "      <td>110.610214</td>\n",
              "      <td>71229700</td>\n",
              "      <td>0.00</td>\n",
              "      <td>0</td>\n",
              "    </tr>\n",
              "    <tr>\n",
              "      <th>2018-10-31</th>\n",
              "      <td>111.333655</td>\n",
              "      <td>112.066750</td>\n",
              "      <td>110.861005</td>\n",
              "      <td>111.516930</td>\n",
              "      <td>65350900</td>\n",
              "      <td>0.00</td>\n",
              "      <td>0</td>\n",
              "    </tr>\n",
              "    <tr>\n",
              "      <th>2018-11-30</th>\n",
              "      <td>107.841835</td>\n",
              "      <td>108.266240</td>\n",
              "      <td>106.983345</td>\n",
              "      <td>107.996155</td>\n",
              "      <td>64052500</td>\n",
              "      <td>0.46</td>\n",
              "      <td>0</td>\n",
              "    </tr>\n",
              "    <tr>\n",
              "      <th>2018-12-31</th>\n",
              "      <td>109.470232</td>\n",
              "      <td>109.877110</td>\n",
              "      <td>107.271143</td>\n",
              "      <td>108.588654</td>\n",
              "      <td>111242100</td>\n",
              "      <td>0.00</td>\n",
              "      <td>0</td>\n",
              "    </tr>\n",
              "  </tbody>\n",
              "</table>\n",
              "</div>"
            ],
            "text/plain": [
              "                  Open        High  ...  Dividends  Stock Splits\n",
              "Date                                ...                         \n",
              "2018-01-31   90.599723   90.894927  ...       0.00             0\n",
              "2018-02-28   91.599351   91.695025  ...       0.42             0\n",
              "2018-03-31   92.804871   93.034490  ...       0.00             0\n",
              "2018-04-30   93.378919   93.665948  ...       0.00             0\n",
              "2018-05-31   95.407590   96.080216  ...       0.42             0\n",
              "2018-06-30   98.636196   98.674633  ...       0.00             0\n",
              "2018-07-31  106.409850  106.803825  ...       0.00             0\n",
              "2018-08-31  107.735725  108.787131  ...       0.42             0\n",
              "2018-09-30  110.735602  111.208254  ...       0.00             0\n",
              "2018-10-31  111.333655  112.066750  ...       0.00             0\n",
              "2018-11-30  107.841835  108.266240  ...       0.46             0\n",
              "2018-12-31  109.470232  109.877110  ...       0.00             0\n",
              "\n",
              "[12 rows x 7 columns]"
            ]
          },
          "metadata": {},
          "execution_count": 194
        }
      ]
    },
    {
      "cell_type": "code",
      "metadata": {
        "colab": {
          "base_uri": "https://localhost:8080/",
          "height": 457
        },
        "id": "ddEf5h1aqkXU",
        "outputId": "2aab764a-99c8-4c9c-e2d4-cd90d1926a84"
      },
      "source": [
        "dataS.resample('M').max()"
      ],
      "execution_count": 195,
      "outputs": [
        {
          "output_type": "execute_result",
          "data": {
            "text/html": [
              "<div>\n",
              "<style scoped>\n",
              "    .dataframe tbody tr th:only-of-type {\n",
              "        vertical-align: middle;\n",
              "    }\n",
              "\n",
              "    .dataframe tbody tr th {\n",
              "        vertical-align: top;\n",
              "    }\n",
              "\n",
              "    .dataframe thead th {\n",
              "        text-align: right;\n",
              "    }\n",
              "</style>\n",
              "<table border=\"1\" class=\"dataframe\">\n",
              "  <thead>\n",
              "    <tr style=\"text-align: right;\">\n",
              "      <th></th>\n",
              "      <th>Open</th>\n",
              "      <th>High</th>\n",
              "      <th>Low</th>\n",
              "      <th>Close</th>\n",
              "      <th>Volume</th>\n",
              "      <th>Dividends</th>\n",
              "      <th>Stock Splits</th>\n",
              "    </tr>\n",
              "    <tr>\n",
              "      <th>Date</th>\n",
              "      <th></th>\n",
              "      <th></th>\n",
              "      <th></th>\n",
              "      <th></th>\n",
              "      <th></th>\n",
              "      <th></th>\n",
              "      <th></th>\n",
              "    </tr>\n",
              "  </thead>\n",
              "  <tbody>\n",
              "    <tr>\n",
              "      <th>2019-01-31</th>\n",
              "      <td>104.103276</td>\n",
              "      <td>104.529534</td>\n",
              "      <td>102.882625</td>\n",
              "      <td>104.345467</td>\n",
              "      <td>55636400</td>\n",
              "      <td>0.00</td>\n",
              "      <td>0</td>\n",
              "    </tr>\n",
              "    <tr>\n",
              "      <th>2019-02-28</th>\n",
              "      <td>109.003750</td>\n",
              "      <td>110.171228</td>\n",
              "      <td>108.702153</td>\n",
              "      <td>109.315079</td>\n",
              "      <td>35535700</td>\n",
              "      <td>0.46</td>\n",
              "      <td>0</td>\n",
              "    </tr>\n",
              "    <tr>\n",
              "      <th>2019-03-31</th>\n",
              "      <td>116.261601</td>\n",
              "      <td>117.545821</td>\n",
              "      <td>113.916899</td>\n",
              "      <td>116.962082</td>\n",
              "      <td>54681100</td>\n",
              "      <td>0.00</td>\n",
              "      <td>0</td>\n",
              "    </tr>\n",
              "    <tr>\n",
              "      <th>2019-04-30</th>\n",
              "      <td>126.535421</td>\n",
              "      <td>127.809918</td>\n",
              "      <td>125.883590</td>\n",
              "      <td>127.060806</td>\n",
              "      <td>38033900</td>\n",
              "      <td>0.00</td>\n",
              "      <td>0</td>\n",
              "    </tr>\n",
              "    <tr>\n",
              "      <th>2019-05-31</th>\n",
              "      <td>126.992677</td>\n",
              "      <td>127.394416</td>\n",
              "      <td>124.914093</td>\n",
              "      <td>125.900360</td>\n",
              "      <td>36017700</td>\n",
              "      <td>0.46</td>\n",
              "      <td>0</td>\n",
              "    </tr>\n",
              "    <tr>\n",
              "      <th>2019-06-30</th>\n",
              "      <td>134.220139</td>\n",
              "      <td>135.147830</td>\n",
              "      <td>133.780734</td>\n",
              "      <td>134.542404</td>\n",
              "      <td>37983600</td>\n",
              "      <td>0.00</td>\n",
              "      <td>0</td>\n",
              "    </tr>\n",
              "    <tr>\n",
              "      <th>2019-07-31</th>\n",
              "      <td>138.175006</td>\n",
              "      <td>138.350729</td>\n",
              "      <td>137.003168</td>\n",
              "      <td>138.018723</td>\n",
              "      <td>48992400</td>\n",
              "      <td>0.00</td>\n",
              "      <td>0</td>\n",
              "    </tr>\n",
              "    <tr>\n",
              "      <th>2019-08-31</th>\n",
              "      <td>136.332662</td>\n",
              "      <td>137.628141</td>\n",
              "      <td>135.205967</td>\n",
              "      <td>135.979965</td>\n",
              "      <td>42749600</td>\n",
              "      <td>0.46</td>\n",
              "      <td>0</td>\n",
              "    </tr>\n",
              "    <tr>\n",
              "      <th>2019-09-30</th>\n",
              "      <td>138.155026</td>\n",
              "      <td>139.487489</td>\n",
              "      <td>137.234068</td>\n",
              "      <td>138.213821</td>\n",
              "      <td>39167300</td>\n",
              "      <td>0.00</td>\n",
              "      <td>0</td>\n",
              "    </tr>\n",
              "    <tr>\n",
              "      <th>2019-10-31</th>\n",
              "      <td>141.966245</td>\n",
              "      <td>142.720661</td>\n",
              "      <td>140.604390</td>\n",
              "      <td>141.682129</td>\n",
              "      <td>37029300</td>\n",
              "      <td>0.00</td>\n",
              "      <td>0</td>\n",
              "    </tr>\n",
              "    <tr>\n",
              "      <th>2019-11-30</th>\n",
              "      <td>149.753661</td>\n",
              "      <td>149.920784</td>\n",
              "      <td>148.957363</td>\n",
              "      <td>149.743835</td>\n",
              "      <td>33128400</td>\n",
              "      <td>0.51</td>\n",
              "      <td>0</td>\n",
              "    </tr>\n",
              "    <tr>\n",
              "      <th>2019-12-31</th>\n",
              "      <td>156.753264</td>\n",
              "      <td>156.851579</td>\n",
              "      <td>155.544071</td>\n",
              "      <td>156.271561</td>\n",
              "      <td>53477500</td>\n",
              "      <td>0.00</td>\n",
              "      <td>0</td>\n",
              "    </tr>\n",
              "  </tbody>\n",
              "</table>\n",
              "</div>"
            ],
            "text/plain": [
              "                  Open        High  ...  Dividends  Stock Splits\n",
              "Date                                ...                         \n",
              "2019-01-31  104.103276  104.529534  ...       0.00             0\n",
              "2019-02-28  109.003750  110.171228  ...       0.46             0\n",
              "2019-03-31  116.261601  117.545821  ...       0.00             0\n",
              "2019-04-30  126.535421  127.809918  ...       0.00             0\n",
              "2019-05-31  126.992677  127.394416  ...       0.46             0\n",
              "2019-06-30  134.220139  135.147830  ...       0.00             0\n",
              "2019-07-31  138.175006  138.350729  ...       0.00             0\n",
              "2019-08-31  136.332662  137.628141  ...       0.46             0\n",
              "2019-09-30  138.155026  139.487489  ...       0.00             0\n",
              "2019-10-31  141.966245  142.720661  ...       0.00             0\n",
              "2019-11-30  149.753661  149.920784  ...       0.51             0\n",
              "2019-12-31  156.753264  156.851579  ...       0.00             0\n",
              "\n",
              "[12 rows x 7 columns]"
            ]
          },
          "metadata": {},
          "execution_count": 195
        }
      ]
    },
    {
      "cell_type": "markdown",
      "metadata": {
        "id": "FCJNrOVcr1SH"
      },
      "source": [
        "We can choose almost any frequency by using the format 'nf', where 'n' is an integer and 'f' is M for month, W for week and D for day."
      ]
    },
    {
      "cell_type": "code",
      "metadata": {
        "colab": {
          "base_uri": "https://localhost:8080/"
        },
        "id": "LvT76BDVqqLC",
        "outputId": "2df6dfaf-e74a-4362-99fe-a70a0c54be55"
      },
      "source": [
        "three_day = data.resample('3D').mean()\n",
        "two_week = data.resample('2W').mean()\n",
        "two_month = data.resample('2M').mean()\n",
        "\n",
        "\n",
        "print(three_day)\n",
        "print(two_week)\n",
        "print(two_month) "
      ],
      "execution_count": 196,
      "outputs": [
        {
          "output_type": "stream",
          "name": "stdout",
          "text": [
            "                 Open        High  ...  Dividends  Stock Splits\n",
            "Date                               ...                         \n",
            "2018-01-02  82.143488   82.683116  ...        0.0           0.0\n",
            "2018-01-05  83.476686   84.190894  ...        0.0           0.0\n",
            "2018-01-08  84.025829   84.276599  ...        0.0           0.0\n",
            "2018-01-11  84.181360   84.709875  ...        0.0           0.0\n",
            "2018-01-14  85.800229   86.457303  ...        0.0           0.0\n",
            "...               ...         ...  ...        ...           ...\n",
            "2018-12-19  99.566233  101.458548  ...        0.0           0.0\n",
            "2018-12-22  94.628787   94.909729  ...        0.0           0.0\n",
            "2018-12-25  94.183145   97.786944  ...        0.0           0.0\n",
            "2018-12-28  98.901014   99.211025  ...        0.0           0.0\n",
            "2018-12-31  98.126010   99.201338  ...        0.0           0.0\n",
            "\n",
            "[122 rows x 7 columns]\n",
            "                  Open        High  ...  Dividends  Stock Splits\n",
            "Date                                ...                         \n",
            "2018-01-07   82.476787   83.060060  ...   0.000000           0.0\n",
            "2018-01-21   84.713585   85.256384  ...   0.000000           0.0\n",
            "2018-02-04   88.624699   89.437944  ...   0.000000           0.0\n",
            "2018-02-18   85.235401   86.999370  ...   0.042000           0.0\n",
            "2018-03-04   89.366938   90.140843  ...   0.000000           0.0\n",
            "2018-03-18   90.530668   91.289372  ...   0.000000           0.0\n",
            "2018-04-01   87.812754   88.934279  ...   0.000000           0.0\n",
            "2018-04-15   87.423141   88.719538  ...   0.000000           0.0\n",
            "2018-04-29   91.280762   91.868208  ...   0.000000           0.0\n",
            "2018-05-13   91.187957   92.117920  ...   0.000000           0.0\n",
            "2018-05-27   93.482678   94.205662  ...   0.042000           0.0\n",
            "2018-06-10   96.538227   97.201247  ...   0.000000           0.0\n",
            "2018-06-24   97.099723   97.672415  ...   0.000000           0.0\n",
            "2018-07-08   95.308281   96.225404  ...   0.000000           0.0\n",
            "2018-07-22  100.019884  100.797249  ...   0.000000           0.0\n",
            "2018-08-05  103.456056  104.366025  ...   0.000000           0.0\n",
            "2018-08-19  104.578135  105.069747  ...   0.042000           0.0\n",
            "2018-09-02  104.959610  105.805561  ...   0.000000           0.0\n",
            "2018-09-16  106.426015  107.352026  ...   0.000000           0.0\n",
            "2018-09-30  109.624396  110.383532  ...   0.000000           0.0\n",
            "2018-10-14  108.141810  109.231803  ...   0.000000           0.0\n",
            "2018-10-28  104.841932  106.116162  ...   0.000000           0.0\n",
            "2018-11-11  103.846471  104.980832  ...   0.000000           0.0\n",
            "2018-11-25  102.478633  103.600521  ...   0.051111           0.0\n",
            "2018-12-09  105.392807  106.793208  ...   0.000000           0.0\n",
            "2018-12-23  102.767354  104.125558  ...   0.000000           0.0\n",
            "2019-01-06   96.004420   97.779196  ...   0.000000           0.0\n",
            "\n",
            "[27 rows x 7 columns]\n",
            "                  Open        High  ...  Dividends  Stock Splits\n",
            "Date                                ...                         \n",
            "2018-01-31   85.673269   86.331249  ...   0.000000           0.0\n",
            "2018-03-31   88.292892   89.388361  ...   0.010500           0.0\n",
            "2018-05-31   91.107747   91.990145  ...   0.009767           0.0\n",
            "2018-07-31   98.612856   99.351374  ...   0.000000           0.0\n",
            "2018-09-30  106.100073  106.874589  ...   0.010000           0.0\n",
            "2018-11-30  104.857329  106.044868  ...   0.010455           0.0\n",
            "2019-01-31  101.743065  103.210996  ...   0.000000           0.0\n",
            "\n",
            "[7 rows x 7 columns]\n"
          ]
        }
      ]
    },
    {
      "cell_type": "code",
      "metadata": {
        "colab": {
          "base_uri": "https://localhost:8080/"
        },
        "id": "1omZTej1q_sv",
        "outputId": "a79fb15a-c060-4845-88ea-cb0be3758eba"
      },
      "source": [
        "three_dayS = dataS.resample('3D').mean()\n",
        "two_weekS = dataS.resample('2W').mean()\n",
        "two_monthS = dataS.resample('2M').mean()\n",
        "\n",
        "\n",
        "print(three_dayS)\n",
        "print(two_weekS)\n",
        "print(two_monthS) "
      ],
      "execution_count": 197,
      "outputs": [
        {
          "output_type": "stream",
          "name": "stdout",
          "text": [
            "                  Open        High  ...  Dividends  Stock Splits\n",
            "Date                                ...                         \n",
            "2019-01-02   96.672867   98.313306  ...        0.0           0.0\n",
            "2019-01-05   98.465077  100.044158  ...        0.0           0.0\n",
            "2019-01-08  100.144274  100.945117  ...        0.0           0.0\n",
            "2019-01-11   99.966669  100.208860  ...        0.0           0.0\n",
            "2019-01-14   99.998948  101.455322  ...        0.0           0.0\n",
            "...                ...         ...  ...        ...           ...\n",
            "2019-12-19  153.042098  154.472492  ...        0.0           0.0\n",
            "2019-12-22  155.131166  155.244227  ...        0.0           0.0\n",
            "2019-12-25  155.824258  156.448521  ...        0.0           0.0\n",
            "2019-12-28  156.301044  156.330536  ...        0.0           0.0\n",
            "2019-12-31  154.118588  155.101675  ...        0.0           0.0\n",
            "\n",
            "[122 rows x 7 columns]\n",
            "                  Open        High  ...  Dividends  Stock Splits\n",
            "Date                                ...                         \n",
            "2019-01-06   96.672867   98.313306  ...   0.000000           0.0\n",
            "2019-01-20  100.468481  101.528308  ...   0.000000           0.0\n",
            "2019-02-03  102.291692  102.922464  ...   0.000000           0.0\n",
            "2019-02-17  102.647229  103.515240  ...   0.000000           0.0\n",
            "2019-03-03  107.211632  108.153863  ...   0.051111           0.0\n",
            "2019-03-17  109.501881  110.419326  ...   0.000000           0.0\n",
            "2019-03-31  114.496752  115.389875  ...   0.000000           0.0\n",
            "2019-04-14  116.430879  116.866741  ...   0.000000           0.0\n",
            "2019-04-28  120.886112  121.711996  ...   0.000000           0.0\n",
            "2019-05-12  123.857030  124.997267  ...   0.000000           0.0\n",
            "2019-05-26  123.045601  124.418297  ...   0.046000           0.0\n",
            "2019-06-09  122.340471  123.420048  ...   0.000000           0.0\n",
            "2019-06-23  130.633459  131.570901  ...   0.000000           0.0\n",
            "2019-07-07  132.674037  133.390137  ...   0.000000           0.0\n",
            "2019-07-21  134.605872  135.226926  ...   0.000000           0.0\n",
            "2019-08-04  136.117499  137.168219  ...   0.000000           0.0\n",
            "2019-08-18  132.433227  133.742494  ...   0.046000           0.0\n",
            "2019-09-01  134.531897  135.202046  ...   0.000000           0.0\n",
            "2019-09-15  135.094936  135.515139  ...   0.000000           0.0\n",
            "2019-09-29  136.003485  136.943068  ...   0.000000           0.0\n",
            "2019-10-13  134.809170  135.811454  ...   0.000000           0.0\n",
            "2019-10-27  136.605052  137.362401  ...   0.000000           0.0\n",
            "2019-11-10  141.393101  142.057376  ...   0.000000           0.0\n",
            "2019-11-24  145.647255  146.395196  ...   0.051000           0.0\n",
            "2019-12-08  148.147965  148.795707  ...   0.000000           0.0\n",
            "2019-12-22  150.880294  151.950877  ...   0.000000           0.0\n",
            "2020-01-05  155.388414  155.802951  ...   0.000000           0.0\n",
            "\n",
            "[27 rows x 7 columns]\n",
            "                  Open        High  ...  Dividends  Stock Splits\n",
            "Date                                ...                         \n",
            "2019-01-31  100.704306  101.698902  ...   0.000000           0.0\n",
            "2019-03-31  108.297538  109.186935  ...   0.011500           0.0\n",
            "2019-05-31  121.194592  122.096820  ...   0.010698           0.0\n",
            "2019-07-31  132.143230  133.007667  ...   0.000000           0.0\n",
            "2019-09-30  134.510031  135.419321  ...   0.010952           0.0\n",
            "2019-11-30  140.577563  141.352102  ...   0.011860           0.0\n",
            "2020-01-31  151.377177  152.152880  ...   0.000000           0.0\n",
            "\n",
            "[7 rows x 7 columns]\n"
          ]
        }
      ]
    },
    {
      "cell_type": "markdown",
      "metadata": {
        "id": "rQsXjfXnr5tF"
      },
      "source": [
        "\n",
        "Besides the mean() method, other methods can also be used with the resampler"
      ]
    },
    {
      "cell_type": "code",
      "metadata": {
        "colab": {
          "base_uri": "https://localhost:8080/"
        },
        "id": "_QejbEQorGJV",
        "outputId": "092941ed-5cad-47cb-9261-c3a306a58791"
      },
      "source": [
        "std = data.resample('W').std()\n",
        "max = data.resample('W').max()\n",
        "min = data.resample('W').min()\n",
        "\n",
        "print(std)\n",
        "print(max)\n",
        "print(min)\n"
      ],
      "execution_count": 198,
      "outputs": [
        {
          "output_type": "stream",
          "name": "stdout",
          "text": [
            "                Open      High       Low  ...        Volume  Dividends  Stock Splits\n",
            "Date                                      ...                                       \n",
            "2018-01-07  0.703185  0.943006  0.793016  ...  1.836591e+06   0.000000           0.0\n",
            "2018-01-14  0.333927  0.632573  0.449957  ...  2.669655e+06   0.000000           0.0\n",
            "2018-01-21  0.467296  0.207819  0.760284  ...  6.866705e+06   0.000000           0.0\n",
            "2018-01-28  1.145455  0.920314  1.004813  ...  4.146669e+06   0.000000           0.0\n",
            "2018-02-04  0.757188  0.990030  0.964733  ...  7.487110e+06   0.000000           0.0\n",
            "2018-02-11  1.944573  1.604971  2.173235  ...  1.056767e+07   0.000000           0.0\n",
            "2018-02-18  1.821807  1.767518  1.882816  ...  4.161049e+06   0.187830           0.0\n",
            "2018-02-25  0.904336  0.546521  0.548865  ...  2.737245e+06   0.000000           0.0\n",
            "2018-03-04  1.489061  1.070099  1.460020  ...  4.093301e+06   0.000000           0.0\n",
            "2018-03-11  1.095241  0.981669  1.077883  ...  5.763332e+06   0.000000           0.0\n",
            "2018-03-18  1.340987  1.146521  1.149527  ...  9.171835e+06   0.000000           0.0\n",
            "2018-03-25  1.638393  1.534584  2.327955  ...  9.015458e+06   0.000000           0.0\n",
            "2018-04-01  2.286877  1.667030  0.885344  ...  5.009548e+06   0.000000           0.0\n",
            "2018-04-08  1.692917  1.253791  1.576423  ...  6.794869e+06   0.000000           0.0\n",
            "2018-04-15  1.039729  0.485999  0.724935  ...  3.080836e+06   0.000000           0.0\n",
            "2018-04-22  0.939994  0.897586  0.850172  ...  4.472303e+06   0.000000           0.0\n",
            "2018-04-29  1.753022  1.641126  1.597504  ...  9.836365e+06   0.000000           0.0\n",
            "2018-05-06  1.390239  0.541566  0.287661  ...  6.980976e+06   0.000000           0.0\n",
            "2018-05-13  1.073339  0.735340  1.035125  ...  3.855717e+06   0.000000           0.0\n",
            "2018-05-20  0.565629  0.462034  0.452383  ...  3.081847e+06   0.187830           0.0\n",
            "2018-05-27  0.816783  0.430835  0.551591  ...  4.162846e+06   0.000000           0.0\n",
            "2018-06-03  0.696158  0.840722  0.809745  ...  4.900777e+06   0.000000           0.0\n",
            "2018-06-10  0.675116  0.358933  0.626682  ...  3.141967e+06   0.000000           0.0\n",
            "2018-06-17  0.311034  0.265815  0.329174  ...  1.898866e+07   0.000000           0.0\n",
            "2018-06-24  0.962811  0.814086  0.788231  ...  6.432967e+06   0.000000           0.0\n",
            "2018-07-01  0.958648  0.402124  0.659584  ...  3.717724e+06   0.000000           0.0\n",
            "2018-07-08  0.972406  0.659090  0.661325  ...  2.306816e+06   0.000000           0.0\n",
            "2018-07-15  1.206111  1.448999  1.184757  ...  3.025526e+06   0.000000           0.0\n",
            "2018-07-22  1.320200  1.062877  0.794923  ...  1.373915e+07   0.000000           0.0\n",
            "2018-07-29  1.709749  1.280741  1.328222  ...  3.869586e+06   0.000000           0.0\n",
            "2018-08-05  0.906950  0.724714  0.793937  ...  5.858583e+06   0.000000           0.0\n",
            "2018-08-12  0.636210  0.650251  0.726151  ...  2.544655e+06   0.000000           0.0\n",
            "2018-08-19  0.525267  0.538782  0.439046  ...  5.328709e+06   0.187830           0.0\n",
            "2018-08-26  0.691956  0.511397  0.715601  ...  2.287459e+06   0.000000           0.0\n",
            "2018-09-02  1.029903  1.330507  1.206031  ...  1.825507e+06   0.000000           0.0\n",
            "2018-09-09  1.499428  1.596636  1.304939  ...  5.019779e+06   0.000000           0.0\n",
            "2018-09-16  1.932801  1.648844  1.775568  ...  3.207349e+06   0.000000           0.0\n",
            "2018-09-23  0.784272  0.737657  0.876649  ...  2.200322e+07   0.000000           0.0\n",
            "2018-09-30  0.702848  0.201341  0.728134  ...  3.335335e+06   0.000000           0.0\n",
            "2018-10-07  1.083735  1.170261  1.920889  ...  7.637913e+06   0.000000           0.0\n",
            "2018-10-14  2.537617  1.474455  2.562160  ...  1.746064e+07   0.000000           0.0\n",
            "2018-10-21  1.103591  0.864037  0.968986  ...  2.585278e+06   0.000000           0.0\n",
            "2018-10-28  1.396207  0.771662  2.331717  ...  1.539347e+07   0.000000           0.0\n",
            "2018-11-04  1.633039  1.607647  2.405142  ...  1.304274e+07   0.000000           0.0\n",
            "2018-11-11  2.202589  2.001813  2.049715  ...  5.499846e+06   0.000000           0.0\n",
            "2018-11-18  1.434678  0.633424  1.157934  ...  2.771663e+06   0.205718           0.0\n",
            "2018-11-25  2.883340  2.407150  1.705473  ...  2.165005e+07   0.000000           0.0\n",
            "2018-12-02  2.471197  2.223787  2.094235  ...  7.495545e+06   0.000000           0.0\n",
            "2018-12-09  3.197186  2.085688  2.887531  ...  6.152820e+06   0.000000           0.0\n",
            "2018-12-16  2.281563  1.359597  2.104929  ...  6.012106e+06   0.000000           0.0\n",
            "2018-12-23  1.320548  1.440212  2.076323  ...  2.395179e+07   0.000000           0.0\n",
            "2018-12-30  2.823241  1.816203  2.550098  ...  6.028169e+06   0.000000           0.0\n",
            "2019-01-06       NaN       NaN       NaN  ...           NaN        NaN           NaN\n",
            "\n",
            "[53 rows x 7 columns]\n",
            "                  Open        High  ...  Dividends  Stock Splits\n",
            "Date                                ...                         \n",
            "2018-01-07   83.476686   84.190894  ...       0.00             0\n",
            "2018-01-14   84.438470   85.495499  ...       0.00             0\n",
            "2018-01-21   85.838335   86.457303  ...       0.00             0\n",
            "2018-01-28   88.676130   89.571266  ...       0.00             0\n",
            "2018-02-04   90.599723   91.485347  ...       0.00             0\n",
            "2018-02-11   86.238298   88.790403  ...       0.00             0\n",
            "2018-02-18   88.451661   89.456253  ...       0.42             0\n",
            "2018-02-25   89.551915   90.001589  ...       0.00             0\n",
            "2018-03-04   91.599351   91.695025  ...       0.00             0\n",
            "2018-03-11   91.168815   92.364754  ...       0.00             0\n",
            "2018-03-18   92.804871   93.034490  ...       0.00             0\n",
            "2018-03-25   89.685872   89.982469  ...       0.00             0\n",
            "2018-04-01   90.833963   91.025310  ...       0.00             0\n",
            "2018-04-08   88.442076   89.044827  ...       0.00             0\n",
            "2018-04-15   89.982455   90.106830  ...       0.00             0\n",
            "2018-04-22   92.269084   92.871834  ...       0.00             0\n",
            "2018-04-29   93.378919   93.665948  ...       0.00             0\n",
            "2018-05-06   92.163833   92.230805  ...       0.00             0\n",
            "2018-05-13   93.570267   93.713763  ...       0.00             0\n",
            "2018-05-20   93.685078   94.421781  ...       0.42             0\n",
            "2018-05-27   94.869479   95.109698  ...       0.00             0\n",
            "2018-06-03   95.407590   96.916178  ...       0.00             0\n",
            "2018-06-10   98.636196   98.674633  ...       0.00             0\n",
            "2018-06-17   97.742562   98.040456  ...       0.00             0\n",
            "2018-06-24   98.088496   98.511274  ...       0.00             0\n",
            "2018-07-01   96.089817   96.195516  ...       0.00             0\n",
            "2018-07-08   96.551041   97.463899  ...       0.00             0\n",
            "2018-07-15  100.288930  101.470831  ...       0.00             0\n",
            "2018-07-22  103.853862  103.969165  ...       0.00             0\n",
            "2018-07-29  106.409850  106.803825  ...       0.00             0\n",
            "2018-08-05  103.584816  103.863479  ...       0.00             0\n",
            "2018-08-12  105.420120  105.852529  ...       0.00             0\n",
            "2018-08-19  104.968499  105.458582  ...       0.42             0\n",
            "2018-08-26  103.858044  104.716534  ...       0.00             0\n",
            "2018-09-02  107.735725  108.787131  ...       0.00             0\n",
            "2018-09-09  107.079788  107.996154  ...       0.00             0\n",
            "2018-09-16  109.346599  109.703505  ...       0.00             0\n",
            "2018-09-23  109.963925  111.208254  ...       0.00             0\n",
            "2018-09-30  110.735602  111.024976  ...       0.00             0\n",
            "2018-10-07  111.333655  112.066750  ...       0.00             0\n",
            "2018-10-14  107.706789  109.076506  ...       0.00             0\n",
            "2018-10-21  107.726072  107.851467  ...       0.00             0\n",
            "2018-10-28  105.449620  106.626428  ...       0.00             0\n",
            "2018-11-04  104.282467  104.851575  ...       0.00             0\n",
            "2018-11-11  107.841835  108.266240  ...       0.00             0\n",
            "2018-11-18  105.546080  106.066962  ...       0.46             0\n",
            "2018-11-25  104.887969  105.168911  ...       0.00             0\n",
            "2018-12-02  107.242065  107.852388  ...       0.00             0\n",
            "2018-12-09  109.470232  109.877110  ...       0.00             0\n",
            "2018-12-16  107.426135  107.794262  ...       0.00             0\n",
            "2018-12-23  102.117304  103.541376  ...       0.00             0\n",
            "2018-12-30   98.901014   99.211025  ...       0.00             0\n",
            "2019-01-06   98.126010   99.201338  ...       0.00             0\n",
            "\n",
            "[53 rows x 7 columns]\n",
            "                  Open        High  ...  Dividends  Stock Splits\n",
            "Date                                ...                         \n",
            "2018-01-07   81.953026   82.191118  ...        0.0             0\n",
            "2018-01-14   83.667151   83.924250  ...        0.0             0\n",
            "2018-01-21   84.828913   85.971644  ...        0.0             0\n",
            "2018-01-28   85.705022   87.247715  ...        0.0             0\n",
            "2018-02-04   88.847520   89.190341  ...        0.0             0\n",
            "2018-02-11   82.181576   84.686064  ...        0.0             0\n",
            "2018-02-18   84.505138   85.495508  ...        0.0             0\n",
            "2018-02-25   87.523592   88.719553  ...        0.0             0\n",
            "2018-03-04   87.619270   89.121369  ...        0.0             0\n",
            "2018-03-11   88.346400   89.877201  ...        0.0             0\n",
            "2018-03-18   89.484929   90.489521  ...        0.0             0\n",
            "2018-03-25   85.629231   86.547712  ...        0.0             0\n",
            "2018-04-01   85.935382   87.284405  ...        0.0             0\n",
            "2018-04-08   84.050589   86.155446  ...        0.0             0\n",
            "2018-04-15   87.102634   89.140511  ...        0.0             0\n",
            "2018-04-22   90.001586   90.566073  ...        0.0             0\n",
            "2018-04-29   89.264877   89.264877  ...        0.0             0\n",
            "2018-05-06   88.939600   90.824401  ...        0.0             0\n",
            "2018-05-13   91.054010   92.001190  ...        0.0             0\n",
            "2018-05-20   92.255820   93.139844  ...        0.0             0\n",
            "2018-05-27   92.928452   94.177633  ...        0.0             0\n",
            "2018-06-03   94.014262   95.013597  ...        0.0             0\n",
            "2018-06-10   97.137196   97.877069  ...        0.0             0\n",
            "2018-06-17   97.060310   97.483112  ...        0.0             0\n",
            "2018-06-24   95.753505   96.829704  ...        0.0             0\n",
            "2018-07-01   93.572254   95.234611  ...        0.0             0\n",
            "2018-07-08   94.264100   96.012932  ...        0.0             0\n",
            "2018-07-15   97.194846   98.251846  ...        0.0             0\n",
            "2018-07-22  100.519552  101.192178  ...        0.0             0\n",
            "2018-07-29  102.143471  103.911520  ...        0.0             0\n",
            "2018-08-05  101.278668  102.287596  ...        0.0             0\n",
            "2018-08-12  103.892298  104.180563  ...        0.0             0\n",
            "2018-08-19  103.559013  104.079895  ...        0.0             0\n",
            "2018-08-26  102.102485  103.539731  ...        0.0             0\n",
            "2018-09-02  105.401378  105.758281  ...        0.0             0\n",
            "2018-09-09  104.398210  104.870860  ...        0.0             0\n",
            "2018-09-16  104.986625  105.758304  ...        0.0             0\n",
            "2018-09-23  108.218020  109.308009  ...        0.0             0\n",
            "2018-09-30  109.028277  110.513755  ...        0.0             0\n",
            "2018-10-07  108.642424  109.163306  ...        0.0             0\n",
            "2018-10-14  101.620176  105.073431  ...        0.0             0\n",
            "2018-10-21  105.054153  105.603973  ...        0.0             0\n",
            "2018-10-28  101.948146  104.649012  ...        0.0             0\n",
            "2018-11-04   99.990012  100.684515  ...        0.0             0\n",
            "2018-11-11  102.604081  103.925573  ...        0.0             0\n",
            "2018-11-18  101.710448  104.432678  ...        0.0             0\n",
            "2018-11-25   98.620083   99.753534  ...        0.0             0\n",
            "2018-12-02  101.516673  103.299194  ...        0.0             0\n",
            "2018-12-09  102.514509  105.827677  ...        0.0             0\n",
            "2018-12-16  101.526368  104.607034  ...        0.0             0\n",
            "2018-12-23   98.455379   99.782587  ...        0.0             0\n",
            "2018-12-30   92.168121   94.909729  ...        0.0             0\n",
            "2019-01-06   98.126010   99.201338  ...        0.0             0\n",
            "\n",
            "[53 rows x 7 columns]\n"
          ]
        }
      ]
    },
    {
      "cell_type": "code",
      "metadata": {
        "colab": {
          "base_uri": "https://localhost:8080/"
        },
        "id": "x-PphbSkrN6c",
        "outputId": "ac6e6677-a626-42bb-dc2e-f08ad1157c9c"
      },
      "source": [
        "stdS = dataS.resample('W').std()\n",
        "maxS = dataS.resample('W').max()\n",
        "minS = dataS.resample('W').min()\n",
        "\n",
        "print(std)\n",
        "print(max)\n",
        "print(min)"
      ],
      "execution_count": 199,
      "outputs": [
        {
          "output_type": "stream",
          "name": "stdout",
          "text": [
            "                Open      High       Low  ...        Volume  Dividends  Stock Splits\n",
            "Date                                      ...                                       \n",
            "2018-01-07  0.703185  0.943006  0.793016  ...  1.836591e+06   0.000000           0.0\n",
            "2018-01-14  0.333927  0.632573  0.449957  ...  2.669655e+06   0.000000           0.0\n",
            "2018-01-21  0.467296  0.207819  0.760284  ...  6.866705e+06   0.000000           0.0\n",
            "2018-01-28  1.145455  0.920314  1.004813  ...  4.146669e+06   0.000000           0.0\n",
            "2018-02-04  0.757188  0.990030  0.964733  ...  7.487110e+06   0.000000           0.0\n",
            "2018-02-11  1.944573  1.604971  2.173235  ...  1.056767e+07   0.000000           0.0\n",
            "2018-02-18  1.821807  1.767518  1.882816  ...  4.161049e+06   0.187830           0.0\n",
            "2018-02-25  0.904336  0.546521  0.548865  ...  2.737245e+06   0.000000           0.0\n",
            "2018-03-04  1.489061  1.070099  1.460020  ...  4.093301e+06   0.000000           0.0\n",
            "2018-03-11  1.095241  0.981669  1.077883  ...  5.763332e+06   0.000000           0.0\n",
            "2018-03-18  1.340987  1.146521  1.149527  ...  9.171835e+06   0.000000           0.0\n",
            "2018-03-25  1.638393  1.534584  2.327955  ...  9.015458e+06   0.000000           0.0\n",
            "2018-04-01  2.286877  1.667030  0.885344  ...  5.009548e+06   0.000000           0.0\n",
            "2018-04-08  1.692917  1.253791  1.576423  ...  6.794869e+06   0.000000           0.0\n",
            "2018-04-15  1.039729  0.485999  0.724935  ...  3.080836e+06   0.000000           0.0\n",
            "2018-04-22  0.939994  0.897586  0.850172  ...  4.472303e+06   0.000000           0.0\n",
            "2018-04-29  1.753022  1.641126  1.597504  ...  9.836365e+06   0.000000           0.0\n",
            "2018-05-06  1.390239  0.541566  0.287661  ...  6.980976e+06   0.000000           0.0\n",
            "2018-05-13  1.073339  0.735340  1.035125  ...  3.855717e+06   0.000000           0.0\n",
            "2018-05-20  0.565629  0.462034  0.452383  ...  3.081847e+06   0.187830           0.0\n",
            "2018-05-27  0.816783  0.430835  0.551591  ...  4.162846e+06   0.000000           0.0\n",
            "2018-06-03  0.696158  0.840722  0.809745  ...  4.900777e+06   0.000000           0.0\n",
            "2018-06-10  0.675116  0.358933  0.626682  ...  3.141967e+06   0.000000           0.0\n",
            "2018-06-17  0.311034  0.265815  0.329174  ...  1.898866e+07   0.000000           0.0\n",
            "2018-06-24  0.962811  0.814086  0.788231  ...  6.432967e+06   0.000000           0.0\n",
            "2018-07-01  0.958648  0.402124  0.659584  ...  3.717724e+06   0.000000           0.0\n",
            "2018-07-08  0.972406  0.659090  0.661325  ...  2.306816e+06   0.000000           0.0\n",
            "2018-07-15  1.206111  1.448999  1.184757  ...  3.025526e+06   0.000000           0.0\n",
            "2018-07-22  1.320200  1.062877  0.794923  ...  1.373915e+07   0.000000           0.0\n",
            "2018-07-29  1.709749  1.280741  1.328222  ...  3.869586e+06   0.000000           0.0\n",
            "2018-08-05  0.906950  0.724714  0.793937  ...  5.858583e+06   0.000000           0.0\n",
            "2018-08-12  0.636210  0.650251  0.726151  ...  2.544655e+06   0.000000           0.0\n",
            "2018-08-19  0.525267  0.538782  0.439046  ...  5.328709e+06   0.187830           0.0\n",
            "2018-08-26  0.691956  0.511397  0.715601  ...  2.287459e+06   0.000000           0.0\n",
            "2018-09-02  1.029903  1.330507  1.206031  ...  1.825507e+06   0.000000           0.0\n",
            "2018-09-09  1.499428  1.596636  1.304939  ...  5.019779e+06   0.000000           0.0\n",
            "2018-09-16  1.932801  1.648844  1.775568  ...  3.207349e+06   0.000000           0.0\n",
            "2018-09-23  0.784272  0.737657  0.876649  ...  2.200322e+07   0.000000           0.0\n",
            "2018-09-30  0.702848  0.201341  0.728134  ...  3.335335e+06   0.000000           0.0\n",
            "2018-10-07  1.083735  1.170261  1.920889  ...  7.637913e+06   0.000000           0.0\n",
            "2018-10-14  2.537617  1.474455  2.562160  ...  1.746064e+07   0.000000           0.0\n",
            "2018-10-21  1.103591  0.864037  0.968986  ...  2.585278e+06   0.000000           0.0\n",
            "2018-10-28  1.396207  0.771662  2.331717  ...  1.539347e+07   0.000000           0.0\n",
            "2018-11-04  1.633039  1.607647  2.405142  ...  1.304274e+07   0.000000           0.0\n",
            "2018-11-11  2.202589  2.001813  2.049715  ...  5.499846e+06   0.000000           0.0\n",
            "2018-11-18  1.434678  0.633424  1.157934  ...  2.771663e+06   0.205718           0.0\n",
            "2018-11-25  2.883340  2.407150  1.705473  ...  2.165005e+07   0.000000           0.0\n",
            "2018-12-02  2.471197  2.223787  2.094235  ...  7.495545e+06   0.000000           0.0\n",
            "2018-12-09  3.197186  2.085688  2.887531  ...  6.152820e+06   0.000000           0.0\n",
            "2018-12-16  2.281563  1.359597  2.104929  ...  6.012106e+06   0.000000           0.0\n",
            "2018-12-23  1.320548  1.440212  2.076323  ...  2.395179e+07   0.000000           0.0\n",
            "2018-12-30  2.823241  1.816203  2.550098  ...  6.028169e+06   0.000000           0.0\n",
            "2019-01-06       NaN       NaN       NaN  ...           NaN        NaN           NaN\n",
            "\n",
            "[53 rows x 7 columns]\n",
            "                  Open        High  ...  Dividends  Stock Splits\n",
            "Date                                ...                         \n",
            "2018-01-07   83.476686   84.190894  ...       0.00             0\n",
            "2018-01-14   84.438470   85.495499  ...       0.00             0\n",
            "2018-01-21   85.838335   86.457303  ...       0.00             0\n",
            "2018-01-28   88.676130   89.571266  ...       0.00             0\n",
            "2018-02-04   90.599723   91.485347  ...       0.00             0\n",
            "2018-02-11   86.238298   88.790403  ...       0.00             0\n",
            "2018-02-18   88.451661   89.456253  ...       0.42             0\n",
            "2018-02-25   89.551915   90.001589  ...       0.00             0\n",
            "2018-03-04   91.599351   91.695025  ...       0.00             0\n",
            "2018-03-11   91.168815   92.364754  ...       0.00             0\n",
            "2018-03-18   92.804871   93.034490  ...       0.00             0\n",
            "2018-03-25   89.685872   89.982469  ...       0.00             0\n",
            "2018-04-01   90.833963   91.025310  ...       0.00             0\n",
            "2018-04-08   88.442076   89.044827  ...       0.00             0\n",
            "2018-04-15   89.982455   90.106830  ...       0.00             0\n",
            "2018-04-22   92.269084   92.871834  ...       0.00             0\n",
            "2018-04-29   93.378919   93.665948  ...       0.00             0\n",
            "2018-05-06   92.163833   92.230805  ...       0.00             0\n",
            "2018-05-13   93.570267   93.713763  ...       0.00             0\n",
            "2018-05-20   93.685078   94.421781  ...       0.42             0\n",
            "2018-05-27   94.869479   95.109698  ...       0.00             0\n",
            "2018-06-03   95.407590   96.916178  ...       0.00             0\n",
            "2018-06-10   98.636196   98.674633  ...       0.00             0\n",
            "2018-06-17   97.742562   98.040456  ...       0.00             0\n",
            "2018-06-24   98.088496   98.511274  ...       0.00             0\n",
            "2018-07-01   96.089817   96.195516  ...       0.00             0\n",
            "2018-07-08   96.551041   97.463899  ...       0.00             0\n",
            "2018-07-15  100.288930  101.470831  ...       0.00             0\n",
            "2018-07-22  103.853862  103.969165  ...       0.00             0\n",
            "2018-07-29  106.409850  106.803825  ...       0.00             0\n",
            "2018-08-05  103.584816  103.863479  ...       0.00             0\n",
            "2018-08-12  105.420120  105.852529  ...       0.00             0\n",
            "2018-08-19  104.968499  105.458582  ...       0.42             0\n",
            "2018-08-26  103.858044  104.716534  ...       0.00             0\n",
            "2018-09-02  107.735725  108.787131  ...       0.00             0\n",
            "2018-09-09  107.079788  107.996154  ...       0.00             0\n",
            "2018-09-16  109.346599  109.703505  ...       0.00             0\n",
            "2018-09-23  109.963925  111.208254  ...       0.00             0\n",
            "2018-09-30  110.735602  111.024976  ...       0.00             0\n",
            "2018-10-07  111.333655  112.066750  ...       0.00             0\n",
            "2018-10-14  107.706789  109.076506  ...       0.00             0\n",
            "2018-10-21  107.726072  107.851467  ...       0.00             0\n",
            "2018-10-28  105.449620  106.626428  ...       0.00             0\n",
            "2018-11-04  104.282467  104.851575  ...       0.00             0\n",
            "2018-11-11  107.841835  108.266240  ...       0.00             0\n",
            "2018-11-18  105.546080  106.066962  ...       0.46             0\n",
            "2018-11-25  104.887969  105.168911  ...       0.00             0\n",
            "2018-12-02  107.242065  107.852388  ...       0.00             0\n",
            "2018-12-09  109.470232  109.877110  ...       0.00             0\n",
            "2018-12-16  107.426135  107.794262  ...       0.00             0\n",
            "2018-12-23  102.117304  103.541376  ...       0.00             0\n",
            "2018-12-30   98.901014   99.211025  ...       0.00             0\n",
            "2019-01-06   98.126010   99.201338  ...       0.00             0\n",
            "\n",
            "[53 rows x 7 columns]\n",
            "                  Open        High  ...  Dividends  Stock Splits\n",
            "Date                                ...                         \n",
            "2018-01-07   81.953026   82.191118  ...        0.0             0\n",
            "2018-01-14   83.667151   83.924250  ...        0.0             0\n",
            "2018-01-21   84.828913   85.971644  ...        0.0             0\n",
            "2018-01-28   85.705022   87.247715  ...        0.0             0\n",
            "2018-02-04   88.847520   89.190341  ...        0.0             0\n",
            "2018-02-11   82.181576   84.686064  ...        0.0             0\n",
            "2018-02-18   84.505138   85.495508  ...        0.0             0\n",
            "2018-02-25   87.523592   88.719553  ...        0.0             0\n",
            "2018-03-04   87.619270   89.121369  ...        0.0             0\n",
            "2018-03-11   88.346400   89.877201  ...        0.0             0\n",
            "2018-03-18   89.484929   90.489521  ...        0.0             0\n",
            "2018-03-25   85.629231   86.547712  ...        0.0             0\n",
            "2018-04-01   85.935382   87.284405  ...        0.0             0\n",
            "2018-04-08   84.050589   86.155446  ...        0.0             0\n",
            "2018-04-15   87.102634   89.140511  ...        0.0             0\n",
            "2018-04-22   90.001586   90.566073  ...        0.0             0\n",
            "2018-04-29   89.264877   89.264877  ...        0.0             0\n",
            "2018-05-06   88.939600   90.824401  ...        0.0             0\n",
            "2018-05-13   91.054010   92.001190  ...        0.0             0\n",
            "2018-05-20   92.255820   93.139844  ...        0.0             0\n",
            "2018-05-27   92.928452   94.177633  ...        0.0             0\n",
            "2018-06-03   94.014262   95.013597  ...        0.0             0\n",
            "2018-06-10   97.137196   97.877069  ...        0.0             0\n",
            "2018-06-17   97.060310   97.483112  ...        0.0             0\n",
            "2018-06-24   95.753505   96.829704  ...        0.0             0\n",
            "2018-07-01   93.572254   95.234611  ...        0.0             0\n",
            "2018-07-08   94.264100   96.012932  ...        0.0             0\n",
            "2018-07-15   97.194846   98.251846  ...        0.0             0\n",
            "2018-07-22  100.519552  101.192178  ...        0.0             0\n",
            "2018-07-29  102.143471  103.911520  ...        0.0             0\n",
            "2018-08-05  101.278668  102.287596  ...        0.0             0\n",
            "2018-08-12  103.892298  104.180563  ...        0.0             0\n",
            "2018-08-19  103.559013  104.079895  ...        0.0             0\n",
            "2018-08-26  102.102485  103.539731  ...        0.0             0\n",
            "2018-09-02  105.401378  105.758281  ...        0.0             0\n",
            "2018-09-09  104.398210  104.870860  ...        0.0             0\n",
            "2018-09-16  104.986625  105.758304  ...        0.0             0\n",
            "2018-09-23  108.218020  109.308009  ...        0.0             0\n",
            "2018-09-30  109.028277  110.513755  ...        0.0             0\n",
            "2018-10-07  108.642424  109.163306  ...        0.0             0\n",
            "2018-10-14  101.620176  105.073431  ...        0.0             0\n",
            "2018-10-21  105.054153  105.603973  ...        0.0             0\n",
            "2018-10-28  101.948146  104.649012  ...        0.0             0\n",
            "2018-11-04   99.990012  100.684515  ...        0.0             0\n",
            "2018-11-11  102.604081  103.925573  ...        0.0             0\n",
            "2018-11-18  101.710448  104.432678  ...        0.0             0\n",
            "2018-11-25   98.620083   99.753534  ...        0.0             0\n",
            "2018-12-02  101.516673  103.299194  ...        0.0             0\n",
            "2018-12-09  102.514509  105.827677  ...        0.0             0\n",
            "2018-12-16  101.526368  104.607034  ...        0.0             0\n",
            "2018-12-23   98.455379   99.782587  ...        0.0             0\n",
            "2018-12-30   92.168121   94.909729  ...        0.0             0\n",
            "2019-01-06   98.126010   99.201338  ...        0.0             0\n",
            "\n",
            "[53 rows x 7 columns]\n"
          ]
        }
      ]
    },
    {
      "cell_type": "markdown",
      "metadata": {
        "id": "RII9Qoowr81I"
      },
      "source": [
        "\n",
        "Often we want to calculate monthly returns of a stock, based on prices on the last day of each month. To fetch those prices, we use the series.resample.agg() method:"
      ]
    },
    {
      "cell_type": "code",
      "metadata": {
        "colab": {
          "base_uri": "https://localhost:8080/"
        },
        "id": "SHc04iSQrZBA",
        "outputId": "1bbe926a-0a83-46c2-dd9f-679c74dbb361"
      },
      "source": [
        "last_day = data.resample('M').agg(lambda x: x[-1])\n",
        "print(last_day)"
      ],
      "execution_count": 200,
      "outputs": [
        {
          "output_type": "stream",
          "name": "stdout",
          "text": [
            "                  Open        High  ...  Dividends  Stock Splits\n",
            "Date                                ...                         \n",
            "2018-01-31   89.276057   90.847317  ...        0.0             0\n",
            "2018-02-28   90.738277   91.570653  ...        0.0             0\n",
            "2018-03-31   86.279830   88.298576  ...        0.0             0\n",
            "2018-04-30   92.163833   92.230805  ...        0.0             0\n",
            "2018-05-31   95.407590   96.080216  ...        0.0             0\n",
            "2018-06-30   95.061653   96.003336  ...        0.0             0\n",
            "2018-07-31  102.326032  102.547042  ...        0.0             0\n",
            "2018-08-31  107.735725  108.787131  ...        0.0             0\n",
            "2018-09-30  110.147211  110.513755  ...        0.0             0\n",
            "2018-10-31  101.707004  104.311410  ...        0.0             0\n",
            "2018-11-30  107.242065  107.503635  ...        0.0             0\n",
            "2018-12-31   98.126010   99.201338  ...        0.0             0\n",
            "\n",
            "[12 rows x 7 columns]\n"
          ]
        }
      ]
    },
    {
      "cell_type": "code",
      "metadata": {
        "colab": {
          "base_uri": "https://localhost:8080/"
        },
        "id": "Wsq3jqGBrdmi",
        "outputId": "596d259e-79fd-4176-936d-f3ff58e39f48"
      },
      "source": [
        "last_dayS = dataS.resample('M').agg(lambda x: x[-1])\n",
        "print(last_dayS)"
      ],
      "execution_count": 201,
      "outputs": [
        {
          "output_type": "stream",
          "name": "stdout",
          "text": [
            "                  Open        High  ...  Dividends  Stock Splits\n",
            "Date                                ...                         \n",
            "2019-01-31  100.557613  101.933254  ...        0.0             0\n",
            "2019-02-28  109.003750  109.820982  ...        0.0             0\n",
            "2019-03-31  114.870348  115.113573  ...        0.0             0\n",
            "2019-04-30  126.292207  127.158087  ...        0.0             0\n",
            "2019-05-31  121.310799  121.691634  ...        0.0             0\n",
            "2019-06-30  131.407846  131.437140  ...        0.0             0\n",
            "2019-07-31  137.032512  137.188756  ...        0.0             0\n",
            "2019-08-31  136.332662  136.362053  ...        0.0             0\n",
            "2019-09-30  135.254949  136.401259  ...        0.0             0\n",
            "2019-10-31  141.966245  141.995637  ...        0.0             0\n",
            "2019-11-30  149.527541  149.724156  ...        0.0             0\n",
            "2019-12-31  154.118588  155.101675  ...        0.0             0\n",
            "\n",
            "[12 rows x 7 columns]\n"
          ]
        }
      ]
    },
    {
      "cell_type": "markdown",
      "metadata": {
        "id": "gOM6PUU8r_c2"
      },
      "source": [
        "Or directly calculate the monthly rates of return using the data for the first day and the last day:"
      ]
    },
    {
      "cell_type": "code",
      "metadata": {
        "colab": {
          "base_uri": "https://localhost:8080/"
        },
        "id": "NC9vwJhfrhCv",
        "outputId": "8fae9b16-1b16-47cd-8863-2555c5f7a57a"
      },
      "source": [
        "\n",
        "monthly_return = data.resample('M').agg(lambda x: x[-1]/x[0] - 1)\n",
        "print(monthly_return)"
      ],
      "execution_count": 202,
      "outputs": [
        {
          "output_type": "stream",
          "name": "stdout",
          "text": [
            "                Open      High       Low  ...    Volume  Dividends  Stock Splits\n",
            "Date                                      ...                                   \n",
            "2018-01-31  0.088471  0.105318  0.093684  ...  1.168508        NaN           NaN\n",
            "2018-02-28  0.005227  0.000932  0.005234  ... -0.340066        NaN           NaN\n",
            "2018-03-31 -0.040536 -0.024109 -0.037456  ...  0.235136        NaN           NaN\n",
            "2018-04-30  0.064773  0.060739  0.064450  ... -0.144115        NaN           NaN\n",
            "2018-05-31  0.069846  0.053871  0.067329  ...  0.086982        NaN           NaN\n",
            "2018-06-30 -0.003525 -0.009419 -0.008470  ... -0.021022        NaN           NaN\n",
            "2018-07-31  0.085525  0.066560  0.075306  ...  0.413540        NaN           NaN\n",
            "2018-08-31  0.057435  0.063542  0.061935  ... -0.017182        NaN           NaN\n",
            "2018-09-30  0.030131  0.023312  0.031392  ... -0.043597        NaN           NaN\n",
            "2018-10-31 -0.081133 -0.065180 -0.081408  ...  1.704132        NaN           NaN\n",
            "2018-11-30  0.038564  0.038478  0.040770  ...  0.008429        NaN           NaN\n",
            "2018-12-31 -0.103628 -0.097161 -0.092929  ... -0.044886        NaN           NaN\n",
            "\n",
            "[12 rows x 7 columns]\n"
          ]
        },
        {
          "output_type": "stream",
          "name": "stderr",
          "text": [
            "/usr/local/lib/python3.7/dist-packages/ipykernel_launcher.py:2: RuntimeWarning: invalid value encountered in double_scalars\n",
            "  \n",
            "/usr/local/lib/python3.7/dist-packages/ipykernel_launcher.py:2: RuntimeWarning: invalid value encountered in long_scalars\n",
            "  \n"
          ]
        }
      ]
    },
    {
      "cell_type": "code",
      "metadata": {
        "colab": {
          "base_uri": "https://localhost:8080/"
        },
        "id": "JnNDoA5CrlN6",
        "outputId": "188ec551-3a0c-4916-ac9d-e1159f58fa3d"
      },
      "source": [
        "monthly_returnS = dataS.resample('M').agg(lambda x: x[-1]/x[0] - 1)\n",
        "print(monthly_returnS)"
      ],
      "execution_count": 203,
      "outputs": [
        {
          "output_type": "stream",
          "name": "stdout",
          "text": [
            "                Open      High       Low  ...    Volume  Dividends  Stock Splits\n",
            "Date                                      ...                                   \n",
            "2019-01-31  0.042692  0.034103  0.042854  ...  0.574795        NaN           NaN\n",
            "2019-02-28  0.084202  0.088973  0.096308  ... -0.181558        NaN           NaN\n",
            "2019-03-31  0.045885  0.046894  0.047372  ...  0.080787        NaN           NaN\n",
            "2019-04-30  0.091299  0.097305  0.095597  ...  0.060441        NaN           NaN\n",
            "2019-05-31 -0.044742 -0.042623 -0.030724  ... -0.006521        NaN           NaN\n",
            "2019-06-30  0.086556  0.082255  0.118898  ... -0.209053        NaN           NaN\n",
            "2019-07-31  0.027081  0.027725  0.000815  ...  0.706892        NaN           NaN\n",
            "2019-08-31  0.019076 -0.009199 -0.001506  ... -0.409724        NaN           NaN\n",
            "2019-09-30  0.010541  0.014723  0.015328  ... -0.084179        NaN           NaN\n",
            "2019-10-31  0.037520  0.033369  0.043723  ...  0.146204        NaN           NaN\n",
            "2019-11-30  0.057934  0.058151  0.061724  ... -0.638458        NaN           NaN\n",
            "2019-12-31  0.032673  0.039123  0.054814  ... -0.330034        NaN           NaN\n",
            "\n",
            "[12 rows x 7 columns]\n"
          ]
        },
        {
          "output_type": "stream",
          "name": "stderr",
          "text": [
            "/usr/local/lib/python3.7/dist-packages/ipykernel_launcher.py:1: RuntimeWarning: invalid value encountered in double_scalars\n",
            "  \"\"\"Entry point for launching an IPython kernel.\n",
            "/usr/local/lib/python3.7/dist-packages/ipykernel_launcher.py:1: RuntimeWarning: invalid value encountered in long_scalars\n",
            "  \"\"\"Entry point for launching an IPython kernel.\n"
          ]
        }
      ]
    },
    {
      "cell_type": "markdown",
      "metadata": {
        "id": "G9vsRr5JsBoM"
      },
      "source": [
        "Series object also provides us some convenient methods to do some quick calculation."
      ]
    },
    {
      "cell_type": "code",
      "metadata": {
        "colab": {
          "base_uri": "https://localhost:8080/"
        },
        "id": "ogzBc1x3sCUi",
        "outputId": "b27c3694-5833-4726-a9ec-cb4fd2cd8cbb"
      },
      "source": [
        "\n",
        "print(monthly_return.mean())\n",
        "print(monthly_return.std())\n",
        "print(monthly_return.max())"
      ],
      "execution_count": 204,
      "outputs": [
        {
          "output_type": "stream",
          "name": "stdout",
          "text": [
            "Open            0.017596\n",
            "High            0.018074\n",
            "Low             0.018320\n",
            "Close           0.016219\n",
            "Volume          0.250488\n",
            "Dividends            NaN\n",
            "Stock Splits         NaN\n",
            "dtype: float64\n",
            "Open            0.064101\n",
            "High            0.059249\n",
            "Low             0.062053\n",
            "Close           0.059652\n",
            "Volume          0.594792\n",
            "Dividends            NaN\n",
            "Stock Splits         NaN\n",
            "dtype: float64\n",
            "Open            0.088471\n",
            "High            0.105318\n",
            "Low             0.093684\n",
            "Close           0.105410\n",
            "Volume          1.704132\n",
            "Dividends            NaN\n",
            "Stock Splits         NaN\n",
            "dtype: float64\n"
          ]
        }
      ]
    },
    {
      "cell_type": "code",
      "metadata": {
        "colab": {
          "base_uri": "https://localhost:8080/"
        },
        "id": "N1-8yOMYsKPE",
        "outputId": "342fc48a-896f-46a3-cefc-00b1163d99bc"
      },
      "source": [
        "print(monthly_returnS.mean())\n",
        "print(monthly_returnS.std())\n",
        "print(monthly_returnS.max())"
      ],
      "execution_count": 205,
      "outputs": [
        {
          "output_type": "stream",
          "name": "stdout",
          "text": [
            "Open            0.040893\n",
            "High            0.039233\n",
            "Low             0.045434\n",
            "Close           0.045572\n",
            "Volume         -0.024201\n",
            "Dividends            NaN\n",
            "Stock Splits         NaN\n",
            "dtype: float64\n",
            "Open            0.037924\n",
            "High            0.040400\n",
            "Low             0.044486\n",
            "Close           0.043116\n",
            "Volume          0.384097\n",
            "Dividends            NaN\n",
            "Stock Splits         NaN\n",
            "dtype: float64\n",
            "Open            0.091299\n",
            "High            0.097305\n",
            "Low             0.118898\n",
            "Close           0.117824\n",
            "Volume          0.706892\n",
            "Dividends            NaN\n",
            "Stock Splits         NaN\n",
            "dtype: float64\n"
          ]
        }
      ]
    },
    {
      "cell_type": "markdown",
      "metadata": {
        "id": "X-ilMTU9sNbE"
      },
      "source": [
        "Another two methods frequently used on Series are .diff() and .pct_change(). The former calculates the difference between consecutive elements, and the latter calculates the percentage change."
      ]
    },
    {
      "cell_type": "code",
      "metadata": {
        "colab": {
          "base_uri": "https://localhost:8080/"
        },
        "id": "0qjpmqPfsQ1B",
        "outputId": "9e4c42b1-bbdc-44d7-e507-d7048811922d"
      },
      "source": [
        "print(last_day.diff())\n",
        "print(last_day.pct_change())"
      ],
      "execution_count": 206,
      "outputs": [
        {
          "output_type": "stream",
          "name": "stdout",
          "text": [
            "                Open      High       Low  ...      Volume  Dividends  Stock Splits\n",
            "Date                                      ...                                     \n",
            "2018-01-31       NaN       NaN       NaN  ...         NaN        NaN           NaN\n",
            "2018-02-28  1.462220  0.723336  0.533097  ... -17589000.0        0.0           0.0\n",
            "2018-03-31 -4.458447 -3.272078 -5.003795  ...  14700200.0        0.0           0.0\n",
            "2018-04-30  5.884003  3.932229  4.544550  ...  -4343900.0        0.0           0.0\n",
            "2018-05-31  3.243758  3.849411  5.632815  ...  -7382700.0        0.0           0.0\n",
            "2018-06-30 -0.345937 -0.076880 -0.269064  ...  -6087700.0        0.0           0.0\n",
            "2018-07-31  7.264380  6.543706  6.774319  ...   -398000.0        0.0           0.0\n",
            "2018-08-31  5.409692  6.240089  6.312303  ...  -4432500.0        0.0           0.0\n",
            "2018-09-30  2.411487  1.726624  2.083528  ...  -1574900.0        0.0           0.0\n",
            "2018-10-31 -8.440207 -6.202345 -7.996494  ...  29414600.0        0.0           0.0\n",
            "2018-11-30  5.535061  3.192225  4.285155  ... -17396800.0        0.0           0.0\n",
            "2018-12-31 -9.116055 -8.302297 -8.641363  ...   -491800.0        0.0           0.0\n",
            "\n",
            "[12 rows x 7 columns]\n",
            "                Open      High       Low  ...    Volume  Dividends  Stock Splits\n",
            "Date                                      ...                                   \n",
            "2018-01-31       NaN       NaN       NaN  ...       NaN        NaN           NaN\n",
            "2018-02-28  0.016379  0.007962  0.005987  ... -0.360753        NaN           NaN\n",
            "2018-03-31 -0.049135 -0.035733 -0.055858  ...  0.471655        NaN           NaN\n",
            "2018-04-30  0.068197  0.044533  0.053733  ... -0.094705        NaN           NaN\n",
            "2018-05-31  0.035196  0.041737  0.063204  ... -0.177795        NaN           NaN\n",
            "2018-06-30 -0.003626 -0.000800 -0.002840  ... -0.178311        NaN           NaN\n",
            "2018-07-31  0.076418  0.068161  0.071697  ... -0.014187        NaN           NaN\n",
            "2018-08-31  0.052867  0.060851  0.062338  ... -0.160277        NaN           NaN\n",
            "2018-09-30  0.022383  0.015872  0.019369  ... -0.067817        NaN           NaN\n",
            "2018-10-31 -0.076627 -0.056123 -0.072924  ...  1.358780        NaN           NaN\n",
            "2018-11-30  0.054422  0.030603  0.042152  ... -0.340697        NaN           NaN\n",
            "2018-12-31 -0.085004 -0.077228 -0.081565  ... -0.014608        NaN           NaN\n",
            "\n",
            "[12 rows x 7 columns]\n"
          ]
        }
      ]
    },
    {
      "cell_type": "code",
      "metadata": {
        "colab": {
          "base_uri": "https://localhost:8080/"
        },
        "id": "r1oJ93EJsSeu",
        "outputId": "5ede804b-c036-47b4-e6c9-dfbb9e77f899"
      },
      "source": [
        "print(last_dayS.diff())\n",
        "print(last_dayS.pct_change())"
      ],
      "execution_count": 207,
      "outputs": [
        {
          "output_type": "stream",
          "name": "stdout",
          "text": [
            "                 Open       High  ...  Dividends  Stock Splits\n",
            "Date                              ...                         \n",
            "2019-01-31        NaN        NaN  ...        NaN           NaN\n",
            "2019-02-28   8.446137   7.887728  ...        0.0           0.0\n",
            "2019-03-31   5.866598   5.292591  ...        0.0           0.0\n",
            "2019-04-30  11.421859  12.044514  ...        0.0           0.0\n",
            "2019-05-31  -4.981408  -5.466454  ...        0.0           0.0\n",
            "2019-06-30  10.097048   9.745506  ...        0.0           0.0\n",
            "2019-07-31   5.624666   5.751616  ...        0.0           0.0\n",
            "2019-08-31  -0.699850  -0.826703  ...        0.0           0.0\n",
            "2019-09-30  -1.077713   0.039206  ...        0.0           0.0\n",
            "2019-10-31   6.711296   5.594378  ...        0.0           0.0\n",
            "2019-11-30   7.561296   7.728519  ...        0.0           0.0\n",
            "2019-12-31   4.591047   5.377520  ...        0.0           0.0\n",
            "\n",
            "[12 rows x 7 columns]\n",
            "                Open      High       Low  ...    Volume  Dividends  Stock Splits\n",
            "Date                                      ...                                   \n",
            "2019-01-31       NaN       NaN       NaN  ...       NaN        NaN           NaN\n",
            "2019-02-28  0.083993  0.077381  0.087489  ... -0.477251        NaN           NaN\n",
            "2019-03-31  0.053820  0.048193  0.046809  ... -0.126671        NaN           NaN\n",
            "2019-04-30  0.099433  0.104632  0.106276  ... -0.048556        NaN           NaN\n",
            "2019-05-31 -0.039444 -0.042989 -0.043385  ...  0.102634        NaN           NaN\n",
            "2019-06-30  0.083233  0.080084  0.079793  ...  0.127452        NaN           NaN\n",
            "2019-07-31  0.042803  0.043759  0.014419  ...  0.284785        NaN           NaN\n",
            "2019-08-31 -0.005107 -0.006026  0.012169  ... -0.379771        NaN           NaN\n",
            "2019-09-30 -0.007905  0.000288  0.011081  ... -0.278161        NaN           NaN\n",
            "2019-10-31  0.049620  0.041014  0.037814  ...  0.423832        NaN           NaN\n",
            "2019-11-30  0.053261  0.054428  0.061576  ... -0.513219        NaN           NaN\n",
            "2019-12-31  0.030704  0.035916  0.034175  ...  0.533685        NaN           NaN\n",
            "\n",
            "[12 rows x 7 columns]\n"
          ]
        }
      ]
    },
    {
      "cell_type": "markdown",
      "metadata": {
        "id": "nVmlbZeNsXR9"
      },
      "source": [
        "Notice that we induced a NaN value while calculating percentage changes i.e. returns.\n",
        "\n",
        "When dealing with NaN values, we usually either removing the data point or fill it with a specific value. Here we fill it with 0:\n"
      ]
    },
    {
      "cell_type": "code",
      "metadata": {
        "colab": {
          "base_uri": "https://localhost:8080/"
        },
        "id": "obFfIhkZsbVq",
        "outputId": "e6be0cf7-701b-4d83-9f35-a547bedab439"
      },
      "source": [
        "\n",
        "daily_return = last_day.pct_change()\n",
        "print(daily_return.fillna(0))"
      ],
      "execution_count": 208,
      "outputs": [
        {
          "output_type": "stream",
          "name": "stdout",
          "text": [
            "                Open      High       Low  ...    Volume  Dividends  Stock Splits\n",
            "Date                                      ...                                   \n",
            "2018-01-31  0.000000  0.000000  0.000000  ...  0.000000        0.0           0.0\n",
            "2018-02-28  0.016379  0.007962  0.005987  ... -0.360753        0.0           0.0\n",
            "2018-03-31 -0.049135 -0.035733 -0.055858  ...  0.471655        0.0           0.0\n",
            "2018-04-30  0.068197  0.044533  0.053733  ... -0.094705        0.0           0.0\n",
            "2018-05-31  0.035196  0.041737  0.063204  ... -0.177795        0.0           0.0\n",
            "2018-06-30 -0.003626 -0.000800 -0.002840  ... -0.178311        0.0           0.0\n",
            "2018-07-31  0.076418  0.068161  0.071697  ... -0.014187        0.0           0.0\n",
            "2018-08-31  0.052867  0.060851  0.062338  ... -0.160277        0.0           0.0\n",
            "2018-09-30  0.022383  0.015872  0.019369  ... -0.067817        0.0           0.0\n",
            "2018-10-31 -0.076627 -0.056123 -0.072924  ...  1.358780        0.0           0.0\n",
            "2018-11-30  0.054422  0.030603  0.042152  ... -0.340697        0.0           0.0\n",
            "2018-12-31 -0.085004 -0.077228 -0.081565  ... -0.014608        0.0           0.0\n",
            "\n",
            "[12 rows x 7 columns]\n"
          ]
        }
      ]
    },
    {
      "cell_type": "code",
      "metadata": {
        "colab": {
          "base_uri": "https://localhost:8080/"
        },
        "id": "UuKAdu2-si5t",
        "outputId": "3b356d1c-d5fb-4e31-812b-c7a9ce2c67eb"
      },
      "source": [
        "daily_returnS = last_dayS.pct_change()\n",
        "print(daily_returnS.fillna(0))"
      ],
      "execution_count": 209,
      "outputs": [
        {
          "output_type": "stream",
          "name": "stdout",
          "text": [
            "                Open      High       Low  ...    Volume  Dividends  Stock Splits\n",
            "Date                                      ...                                   \n",
            "2019-01-31  0.000000  0.000000  0.000000  ...  0.000000        0.0           0.0\n",
            "2019-02-28  0.083993  0.077381  0.087489  ... -0.477251        0.0           0.0\n",
            "2019-03-31  0.053820  0.048193  0.046809  ... -0.126671        0.0           0.0\n",
            "2019-04-30  0.099433  0.104632  0.106276  ... -0.048556        0.0           0.0\n",
            "2019-05-31 -0.039444 -0.042989 -0.043385  ...  0.102634        0.0           0.0\n",
            "2019-06-30  0.083233  0.080084  0.079793  ...  0.127452        0.0           0.0\n",
            "2019-07-31  0.042803  0.043759  0.014419  ...  0.284785        0.0           0.0\n",
            "2019-08-31 -0.005107 -0.006026  0.012169  ... -0.379771        0.0           0.0\n",
            "2019-09-30 -0.007905  0.000288  0.011081  ... -0.278161        0.0           0.0\n",
            "2019-10-31  0.049620  0.041014  0.037814  ...  0.423832        0.0           0.0\n",
            "2019-11-30  0.053261  0.054428  0.061576  ... -0.513219        0.0           0.0\n",
            "2019-12-31  0.030704  0.035916  0.034175  ...  0.533685        0.0           0.0\n",
            "\n",
            "[12 rows x 7 columns]\n"
          ]
        }
      ]
    },
    {
      "cell_type": "markdown",
      "metadata": {
        "id": "27Xm83ATsmAm"
      },
      "source": [
        "Alternatively, we can fill a NaN with the next fitted value. This is called 'backward fill', or 'bfill' in short:"
      ]
    },
    {
      "cell_type": "code",
      "metadata": {
        "colab": {
          "base_uri": "https://localhost:8080/"
        },
        "id": "9JvT5K3lsnlU",
        "outputId": "6cfeba61-0489-47a8-a0f4-c44dbb205f81"
      },
      "source": [
        "daily_return = last_day.pct_change()\n",
        "print(daily_return.fillna(method = 'bfill'))"
      ],
      "execution_count": 210,
      "outputs": [
        {
          "output_type": "stream",
          "name": "stdout",
          "text": [
            "                Open      High       Low  ...    Volume  Dividends  Stock Splits\n",
            "Date                                      ...                                   \n",
            "2018-01-31  0.016379  0.007962  0.005987  ... -0.360753        NaN           NaN\n",
            "2018-02-28  0.016379  0.007962  0.005987  ... -0.360753        NaN           NaN\n",
            "2018-03-31 -0.049135 -0.035733 -0.055858  ...  0.471655        NaN           NaN\n",
            "2018-04-30  0.068197  0.044533  0.053733  ... -0.094705        NaN           NaN\n",
            "2018-05-31  0.035196  0.041737  0.063204  ... -0.177795        NaN           NaN\n",
            "2018-06-30 -0.003626 -0.000800 -0.002840  ... -0.178311        NaN           NaN\n",
            "2018-07-31  0.076418  0.068161  0.071697  ... -0.014187        NaN           NaN\n",
            "2018-08-31  0.052867  0.060851  0.062338  ... -0.160277        NaN           NaN\n",
            "2018-09-30  0.022383  0.015872  0.019369  ... -0.067817        NaN           NaN\n",
            "2018-10-31 -0.076627 -0.056123 -0.072924  ...  1.358780        NaN           NaN\n",
            "2018-11-30  0.054422  0.030603  0.042152  ... -0.340697        NaN           NaN\n",
            "2018-12-31 -0.085004 -0.077228 -0.081565  ... -0.014608        NaN           NaN\n",
            "\n",
            "[12 rows x 7 columns]\n"
          ]
        }
      ]
    },
    {
      "cell_type": "code",
      "metadata": {
        "colab": {
          "base_uri": "https://localhost:8080/"
        },
        "id": "ttr0pScWssgh",
        "outputId": "de18c61f-fdb6-42f9-c675-d0a698df1e01"
      },
      "source": [
        "daily_returnS = last_dayS.pct_change()\n",
        "print(daily_returnS.fillna(method = 'bfill'))"
      ],
      "execution_count": 211,
      "outputs": [
        {
          "output_type": "stream",
          "name": "stdout",
          "text": [
            "                Open      High       Low  ...    Volume  Dividends  Stock Splits\n",
            "Date                                      ...                                   \n",
            "2019-01-31  0.083993  0.077381  0.087489  ... -0.477251        NaN           NaN\n",
            "2019-02-28  0.083993  0.077381  0.087489  ... -0.477251        NaN           NaN\n",
            "2019-03-31  0.053820  0.048193  0.046809  ... -0.126671        NaN           NaN\n",
            "2019-04-30  0.099433  0.104632  0.106276  ... -0.048556        NaN           NaN\n",
            "2019-05-31 -0.039444 -0.042989 -0.043385  ...  0.102634        NaN           NaN\n",
            "2019-06-30  0.083233  0.080084  0.079793  ...  0.127452        NaN           NaN\n",
            "2019-07-31  0.042803  0.043759  0.014419  ...  0.284785        NaN           NaN\n",
            "2019-08-31 -0.005107 -0.006026  0.012169  ... -0.379771        NaN           NaN\n",
            "2019-09-30 -0.007905  0.000288  0.011081  ... -0.278161        NaN           NaN\n",
            "2019-10-31  0.049620  0.041014  0.037814  ...  0.423832        NaN           NaN\n",
            "2019-11-30  0.053261  0.054428  0.061576  ... -0.513219        NaN           NaN\n",
            "2019-12-31  0.030704  0.035916  0.034175  ...  0.533685        NaN           NaN\n",
            "\n",
            "[12 rows x 7 columns]\n"
          ]
        }
      ]
    },
    {
      "cell_type": "markdown",
      "metadata": {
        "id": "gooUGlwSsw7H"
      },
      "source": [
        "As expected, since there is a 'backward fill' method, there must be a 'forward fill' method, or 'ffill' in short. However we can't use it here because the NaN is the first value.\n",
        "\n",
        "We can also simply remove NaN values by .dropna()"
      ]
    },
    {
      "cell_type": "code",
      "metadata": {
        "colab": {
          "base_uri": "https://localhost:8080/",
          "height": 81
        },
        "id": "bWk7UW6pszad",
        "outputId": "1206ce08-a556-4af9-a846-a3a67de56583"
      },
      "source": [
        "\n",
        "daily_return = last_day.pct_change()\n",
        "daily_return.dropna()"
      ],
      "execution_count": 212,
      "outputs": [
        {
          "output_type": "execute_result",
          "data": {
            "text/html": [
              "<div>\n",
              "<style scoped>\n",
              "    .dataframe tbody tr th:only-of-type {\n",
              "        vertical-align: middle;\n",
              "    }\n",
              "\n",
              "    .dataframe tbody tr th {\n",
              "        vertical-align: top;\n",
              "    }\n",
              "\n",
              "    .dataframe thead th {\n",
              "        text-align: right;\n",
              "    }\n",
              "</style>\n",
              "<table border=\"1\" class=\"dataframe\">\n",
              "  <thead>\n",
              "    <tr style=\"text-align: right;\">\n",
              "      <th></th>\n",
              "      <th>Open</th>\n",
              "      <th>High</th>\n",
              "      <th>Low</th>\n",
              "      <th>Close</th>\n",
              "      <th>Volume</th>\n",
              "      <th>Dividends</th>\n",
              "      <th>Stock Splits</th>\n",
              "    </tr>\n",
              "    <tr>\n",
              "      <th>Date</th>\n",
              "      <th></th>\n",
              "      <th></th>\n",
              "      <th></th>\n",
              "      <th></th>\n",
              "      <th></th>\n",
              "      <th></th>\n",
              "      <th></th>\n",
              "    </tr>\n",
              "  </thead>\n",
              "  <tbody>\n",
              "  </tbody>\n",
              "</table>\n",
              "</div>"
            ],
            "text/plain": [
              "Empty DataFrame\n",
              "Columns: [Open, High, Low, Close, Volume, Dividends, Stock Splits]\n",
              "Index: []"
            ]
          },
          "metadata": {},
          "execution_count": 212
        }
      ]
    },
    {
      "cell_type": "code",
      "metadata": {
        "colab": {
          "base_uri": "https://localhost:8080/",
          "height": 81
        },
        "id": "QeuPTTe5s1Uq",
        "outputId": "01825854-ce42-4ca6-96f5-17ba42939b10"
      },
      "source": [
        "daily_returnS = last_dayS.pct_change()\n",
        "daily_returnS.dropna()"
      ],
      "execution_count": 213,
      "outputs": [
        {
          "output_type": "execute_result",
          "data": {
            "text/html": [
              "<div>\n",
              "<style scoped>\n",
              "    .dataframe tbody tr th:only-of-type {\n",
              "        vertical-align: middle;\n",
              "    }\n",
              "\n",
              "    .dataframe tbody tr th {\n",
              "        vertical-align: top;\n",
              "    }\n",
              "\n",
              "    .dataframe thead th {\n",
              "        text-align: right;\n",
              "    }\n",
              "</style>\n",
              "<table border=\"1\" class=\"dataframe\">\n",
              "  <thead>\n",
              "    <tr style=\"text-align: right;\">\n",
              "      <th></th>\n",
              "      <th>Open</th>\n",
              "      <th>High</th>\n",
              "      <th>Low</th>\n",
              "      <th>Close</th>\n",
              "      <th>Volume</th>\n",
              "      <th>Dividends</th>\n",
              "      <th>Stock Splits</th>\n",
              "    </tr>\n",
              "    <tr>\n",
              "      <th>Date</th>\n",
              "      <th></th>\n",
              "      <th></th>\n",
              "      <th></th>\n",
              "      <th></th>\n",
              "      <th></th>\n",
              "      <th></th>\n",
              "      <th></th>\n",
              "    </tr>\n",
              "  </thead>\n",
              "  <tbody>\n",
              "  </tbody>\n",
              "</table>\n",
              "</div>"
            ],
            "text/plain": [
              "Empty DataFrame\n",
              "Columns: [Open, High, Low, Close, Volume, Dividends, Stock Splits]\n",
              "Index: []"
            ]
          },
          "metadata": {},
          "execution_count": 213
        }
      ]
    },
    {
      "cell_type": "markdown",
      "metadata": {
        "id": "3HT5tRUBs5Bw"
      },
      "source": [
        "# **DataFrame**\n",
        "The **DataFrame** is the most commonly used data structure in Pandas. It is essentially a table, just like an Excel spreadsheet.\n",
        "\n",
        "More precisely, a DataFrame is a collection of Series objects, each of which may contain different data types. A DataFrame can be created from various data types: dictionary, 2-D numpy.ndarray, a Series or another DataFrame.\n",
        "\n",
        "## **Create DataFrames**\n",
        "The most common method of creating a DataFrame is passing a dictionary:"
      ]
    },
    {
      "cell_type": "code",
      "metadata": {
        "colab": {
          "base_uri": "https://localhost:8080/"
        },
        "id": "4ChjOWZktAIa",
        "outputId": "915e710e-d94b-4f98-dec9-0f0d506ff48d"
      },
      "source": [
        "dict = {'AAPL': [143.5, 144.09, 142.73, 144.18, 143.77],'GOOG':[898.7, 911.71, 906.69, 918.59, 926.99],\n",
        "        'IBM':[155.58, 153.67, 152.36, 152.94, 153.49]}\n",
        "data_index = pd.date_range('2017-07-03',periods = 5, freq = 'D')\n",
        "df = pd.DataFrame(dict, index = data_index)\n",
        "print(df)"
      ],
      "execution_count": 214,
      "outputs": [
        {
          "output_type": "stream",
          "name": "stdout",
          "text": [
            "              AAPL    GOOG     IBM\n",
            "2017-07-03  143.50  898.70  155.58\n",
            "2017-07-04  144.09  911.71  153.67\n",
            "2017-07-05  142.73  906.69  152.36\n",
            "2017-07-06  144.18  918.59  152.94\n",
            "2017-07-07  143.77  926.99  153.49\n"
          ]
        }
      ]
    },
    {
      "cell_type": "code",
      "metadata": {
        "colab": {
          "base_uri": "https://localhost:8080/"
        },
        "id": "Bl7d3hmXtRH4",
        "outputId": "33e22319-8f5b-497f-dfe8-a221580c8215"
      },
      "source": [
        "dictS = {'SLP': [233.5, 324.09, 172.73, 124.18, 243.77],'AXS':[648.7, 821.71, 926.69, 318.59, 626.99],\n",
        "        'PVU':[235.58, 553.67, 212.36, 182.94, 163.49]}\n",
        "data_indexS = pd.date_range('2018-06-03',periods = 5, freq = 'D')\n",
        "dfS = pd.DataFrame(dictS, index = data_index)\n",
        "print(dfS)"
      ],
      "execution_count": 217,
      "outputs": [
        {
          "output_type": "stream",
          "name": "stdout",
          "text": [
            "               SLP     AXS     PVU\n",
            "2018-06-03  233.50  648.70  235.58\n",
            "2018-06-04  324.09  821.71  553.67\n",
            "2018-06-05  172.73  926.69  212.36\n",
            "2018-06-06  124.18  318.59  182.94\n",
            "2018-06-07  243.77  626.99  163.49\n"
          ]
        }
      ]
    },
    {
      "cell_type": "markdown",
      "metadata": {
        "id": "OA6ySX02t0wP"
      },
      "source": [
        "# **Manipulating DataFrames**\n",
        "We can fetch values in a DataFrame by columns and index. Each column in a DataFrame is essentially a Pandas Series. We can fetch a column by square brackets: df['column_name']\n",
        "\n",
        "If a column name contains no spaces, then we can also use df.column_name to fetch a column:"
      ]
    },
    {
      "cell_type": "code",
      "metadata": {
        "id": "qGX8Osipv5ON"
      },
      "source": [
        "df = data"
      ],
      "execution_count": 229,
      "outputs": []
    },
    {
      "cell_type": "markdown",
      "metadata": {
        "id": "CsxpUN9pv9fa"
      },
      "source": [
        "# **Summary**\n",
        "Hereby we introduced the most import part of python: resampling and DataFrame manipulation. We only introduced the most commonly used method in Financial data analysis. There are also many methods used in data mining, which are also beneficial. You can always check the Pandas official documentations for help."
      ]
    }
  ]
}