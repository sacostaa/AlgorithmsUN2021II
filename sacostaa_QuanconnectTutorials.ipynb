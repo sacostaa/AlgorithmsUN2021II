{
  "nbformat": 4,
  "nbformat_minor": 0,
  "metadata": {
    "colab": {
      "name": "sacostaa_QuanconnectTutorials.ipynb",
      "provenance": [],
      "collapsed_sections": []
    },
    "kernelspec": {
      "name": "python3",
      "display_name": "Python 3"
    },
    "language_info": {
      "name": "python"
    }
  },
  "cells": [
    {
      "cell_type": "markdown",
      "metadata": {
        "id": "uAk0_c9OyAG_"
      },
      "source": [
        "#01 **Data Types and Data Structures**\n",
        "#**Introduction**\n",
        "This tutorial provides a basic introduction to the Python programming language. If you are new to Python, you should run the code snippets while reading this tutorial. If you are an advanced Python user, please feel free to skip this chapter.\n",
        "\n",
        "#**Basic Variable Types**\n",
        "The basic types of variables in Python are: strings, integers, floating point numbers and booleans.\n",
        "\n",
        "Strings in python are identified as a contiguous set of characters represented in either single quotes (' ') or double quotes (\n"
      ]
    },
    {
      "cell_type": "code",
      "metadata": {
        "colab": {
          "base_uri": "https://localhost:8080/"
        },
        "id": "7hRTMu-3yKoA",
        "outputId": "74021632-0dbb-4c98-8ed6-e2cca6eaa989"
      },
      "source": [
        "my_string1 = 'Welcome to'\n",
        "my_string2 = \"QuantConnect\"\n",
        "print(my_string1 + ' ' + my_string2)"
      ],
      "execution_count": 67,
      "outputs": [
        {
          "output_type": "stream",
          "name": "stdout",
          "text": [
            "Welcome to QuantConnect\n"
          ]
        }
      ]
    },
    {
      "cell_type": "code",
      "metadata": {
        "colab": {
          "base_uri": "https://localhost:8080/"
        },
        "id": "OG7YYX9GGTSM",
        "outputId": "47bf11b8-df84-477e-ffe1-ed7efc7bebe3"
      },
      "source": [
        "my_string1 = 'Mi nombre es'\n",
        "my_string2 = \"Santiago\"\n",
        "print(my_string1 + ' ' + my_string2)"
      ],
      "execution_count": 68,
      "outputs": [
        {
          "output_type": "stream",
          "name": "stdout",
          "text": [
            "Mi nombre es Santiago\n"
          ]
        }
      ]
    },
    {
      "cell_type": "markdown",
      "metadata": {
        "id": "wTvI7Z2KJY4r"
      },
      "source": [
        " An integer is a round number with no values after the decimal point."
      ]
    },
    {
      "cell_type": "code",
      "metadata": {
        "colab": {
          "base_uri": "https://localhost:8080/"
        },
        "id": "0gnqcDFCGdqX",
        "outputId": "35334398-3137-42c3-c335-87ebf81321e2"
      },
      "source": [
        "my_int = 10\n",
        "print(my_int)\n",
        "print(type(my_int))"
      ],
      "execution_count": 69,
      "outputs": [
        {
          "output_type": "stream",
          "name": "stdout",
          "text": [
            "10\n",
            "<class 'int'>\n"
          ]
        }
      ]
    },
    {
      "cell_type": "code",
      "metadata": {
        "colab": {
          "base_uri": "https://localhost:8080/"
        },
        "id": "bwnsUafFG0PL",
        "outputId": "863d44aa-f128-4a1d-e97c-f945df5c9269"
      },
      "source": [
        "my_int = 19022000\n",
        "print(my_int)\n",
        "print(type(my_int))"
      ],
      "execution_count": 70,
      "outputs": [
        {
          "output_type": "stream",
          "name": "stdout",
          "text": [
            "19022000\n",
            "<class 'int'>\n"
          ]
        }
      ]
    },
    {
      "cell_type": "markdown",
      "metadata": {
        "id": "GJSG_qiJJayX"
      },
      "source": [
        "\n",
        "The built-in function int() can convert a string into an integer."
      ]
    },
    {
      "cell_type": "code",
      "metadata": {
        "colab": {
          "base_uri": "https://localhost:8080/"
        },
        "id": "qBfwA0vgHJGZ",
        "outputId": "0a5a485b-3b0d-4b39-e655-7e61d16b32c8"
      },
      "source": [
        "my_string = \"100\"\n",
        "print(type(my_string))\n",
        "my_int = int(my_string)\n",
        "print(type(my_int))"
      ],
      "execution_count": 71,
      "outputs": [
        {
          "output_type": "stream",
          "name": "stdout",
          "text": [
            "<class 'str'>\n",
            "<class 'int'>\n"
          ]
        }
      ]
    },
    {
      "cell_type": "code",
      "metadata": {
        "colab": {
          "base_uri": "https://localhost:8080/"
        },
        "id": "Ni8a11I2HRKg",
        "outputId": "7535a68f-4ecf-440a-f246-0707686768b1"
      },
      "source": [
        "my_string = \"2200\"\n",
        "print(type(my_string))\n",
        "my_int = int(my_string)\n",
        "print(type(my_int))"
      ],
      "execution_count": 72,
      "outputs": [
        {
          "output_type": "stream",
          "name": "stdout",
          "text": [
            "<class 'str'>\n",
            "<class 'int'>\n"
          ]
        }
      ]
    },
    {
      "cell_type": "markdown",
      "metadata": {
        "id": "1XEoNFFwJdsE"
      },
      "source": [
        "A floating point number, or a float, is a real number in mathematics. In Python we need to include a value after a decimal point to define it as a float"
      ]
    },
    {
      "cell_type": "code",
      "metadata": {
        "colab": {
          "base_uri": "https://localhost:8080/"
        },
        "id": "Rit7mPLaHpgw",
        "outputId": "7e74efc1-3cd3-43e7-f011-c84864870b90"
      },
      "source": [
        "my_float = 1.0\n",
        "print(type(my_float))\n",
        "my_int = 1\n",
        "print(type(my_int))"
      ],
      "execution_count": 73,
      "outputs": [
        {
          "output_type": "stream",
          "name": "stdout",
          "text": [
            "<class 'float'>\n",
            "<class 'int'>\n"
          ]
        }
      ]
    },
    {
      "cell_type": "code",
      "metadata": {
        "colab": {
          "base_uri": "https://localhost:8080/"
        },
        "id": "5V--pUkQHvbD",
        "outputId": "c5526564-cd9f-49dd-a98b-3fc6041ecf5a"
      },
      "source": [
        "y_float = 1.333\n",
        "print(type(my_float))\n",
        "my_int = 12\n",
        "print(type(my_int))"
      ],
      "execution_count": 74,
      "outputs": [
        {
          "output_type": "stream",
          "name": "stdout",
          "text": [
            "<class 'float'>\n",
            "<class 'int'>\n"
          ]
        }
      ]
    },
    {
      "cell_type": "markdown",
      "metadata": {
        "id": "8S8TBKwqJhaL"
      },
      "source": [
        "As you can see above, if we don't include a decimal value, the variable would be defined as an integer. The built-in function float() can convert a string or an integer into a float."
      ]
    },
    {
      "cell_type": "code",
      "metadata": {
        "colab": {
          "base_uri": "https://localhost:8080/"
        },
        "id": "_u1fZCjNHzQM",
        "outputId": "2ce72bc4-8502-41a2-ca1d-2bd744362f60"
      },
      "source": [
        "my_string = \"100\"\n",
        "my_float = float(my_string)\n",
        "print(type(my_float))"
      ],
      "execution_count": 75,
      "outputs": [
        {
          "output_type": "stream",
          "name": "stdout",
          "text": [
            "<class 'float'>\n"
          ]
        }
      ]
    },
    {
      "cell_type": "code",
      "metadata": {
        "colab": {
          "base_uri": "https://localhost:8080/"
        },
        "id": "OdTcP2oeIIDJ",
        "outputId": "43b2fb42-c087-4433-ca79-e77d7b2562c2"
      },
      "source": [
        "my_string = \"90000.99\"\n",
        "my_float = float(my_string)\n",
        "print(type(my_float))"
      ],
      "execution_count": 76,
      "outputs": [
        {
          "output_type": "stream",
          "name": "stdout",
          "text": [
            "<class 'float'>\n"
          ]
        }
      ]
    },
    {
      "cell_type": "markdown",
      "metadata": {
        "id": "qI7efzCgJjKN"
      },
      "source": [
        "As you can see above, if we don't include a decimal value, the variable would be defined as an integer. The built-in function float() can convert a string or an integer into a float."
      ]
    },
    {
      "cell_type": "code",
      "metadata": {
        "colab": {
          "base_uri": "https://localhost:8080/"
        },
        "id": "20XSI2TbIPrv",
        "outputId": "f9b95c64-4f1c-4b82-bd50-90515fd62fac"
      },
      "source": [
        "my_bool = False\n",
        "print(my_bool)\n",
        "print(type(my_bool))"
      ],
      "execution_count": 77,
      "outputs": [
        {
          "output_type": "stream",
          "name": "stdout",
          "text": [
            "False\n",
            "<class 'bool'>\n"
          ]
        }
      ]
    },
    {
      "cell_type": "code",
      "metadata": {
        "colab": {
          "base_uri": "https://localhost:8080/"
        },
        "id": "9ZYiJUPoIW2s",
        "outputId": "709d9585-9500-4c60-c1bc-64d2d1a59681"
      },
      "source": [
        "my_bool = True\n",
        "print(my_bool)\n",
        "print(type(my_bool))"
      ],
      "execution_count": 78,
      "outputs": [
        {
          "output_type": "stream",
          "name": "stdout",
          "text": [
            "True\n",
            "<class 'bool'>\n"
          ]
        }
      ]
    },
    {
      "cell_type": "markdown",
      "metadata": {
        "id": "qOYGA8p_Jk37"
      },
      "source": [
        "A boolean, or bool, is a binary variable. Its value can only be True or False. It is useful when we do some logic operations, which would be covered in our next chapter."
      ]
    },
    {
      "cell_type": "code",
      "metadata": {
        "colab": {
          "base_uri": "https://localhost:8080/"
        },
        "id": "FURFSoPSIb9I",
        "outputId": "07382afe-6db8-42ce-c0d3-7bb2fdbabc0d"
      },
      "source": [
        "print(\"Addition \", 1+1)\n",
        "print(\"Subtraction \", 5-2)\n",
        "print(\"Multiplication \", 2*3)\n",
        "print(\"Division\", 10/2)\n",
        "print(\"exponent\", 2**3)"
      ],
      "execution_count": 79,
      "outputs": [
        {
          "output_type": "stream",
          "name": "stdout",
          "text": [
            "Addition  2\n",
            "Subtraction  3\n",
            "Multiplication  6\n",
            "Division 5.0\n",
            "exponent 8\n"
          ]
        }
      ]
    },
    {
      "cell_type": "code",
      "metadata": {
        "colab": {
          "base_uri": "https://localhost:8080/"
        },
        "id": "xUWAW-2SI2v9",
        "outputId": "e014051d-d8d2-4150-8344-d1dc6c4efd25"
      },
      "source": [
        "print(\"Addition \", 112+1)\n",
        "print(\"Subtraction \", 8-2)\n",
        "print(\"Multiplication \", 2*6)\n",
        "print(\"Division\", 20/2)\n",
        "print(\"exponent\", 2**6)"
      ],
      "execution_count": 80,
      "outputs": [
        {
          "output_type": "stream",
          "name": "stdout",
          "text": [
            "Addition  113\n",
            "Subtraction  6\n",
            "Multiplication  12\n",
            "Division 10.0\n",
            "exponent 64\n"
          ]
        }
      ]
    },
    {
      "cell_type": "markdown",
      "metadata": {
        "id": "6vTI0WIOJnUl"
      },
      "source": [
        "#**Basic Math Operations**\n",
        "The basic math operators in python are demonstrated below:"
      ]
    },
    {
      "cell_type": "code",
      "metadata": {
        "colab": {
          "base_uri": "https://localhost:8080/"
        },
        "id": "naP_cQkNIHvB",
        "outputId": "bf6855df-b08a-4b07-d2dc-97ad1a45ab18"
      },
      "source": [
        "print(1/3)\n",
        "print(1.0/3)"
      ],
      "execution_count": 81,
      "outputs": [
        {
          "output_type": "stream",
          "name": "stdout",
          "text": [
            "0.3333333333333333\n",
            "0.3333333333333333\n"
          ]
        }
      ]
    },
    {
      "cell_type": "code",
      "metadata": {
        "colab": {
          "base_uri": "https://localhost:8080/"
        },
        "id": "ZmJfTnzbIMFh",
        "outputId": "13b32b0b-b1d5-4fd2-9ea0-a376a57737bd"
      },
      "source": [
        "print(1/6)\n",
        "print(1.0/6)"
      ],
      "execution_count": 82,
      "outputs": [
        {
          "output_type": "stream",
          "name": "stdout",
          "text": [
            "0.16666666666666666\n",
            "0.16666666666666666\n"
          ]
        }
      ]
    },
    {
      "cell_type": "markdown",
      "metadata": {
        "id": "V2Wy6cWkIPWq"
      },
      "source": [
        "#**Data Collections**\n",
        "##**List**\n",
        "A list is an ordered collection of values. A list is mutable, which means you can change a list's value without changing the list itself. Creating a list is simply putting different comma-separated values between square brackets."
      ]
    },
    {
      "cell_type": "code",
      "metadata": {
        "colab": {
          "base_uri": "https://localhost:8080/"
        },
        "id": "of3EW-yzJEUy",
        "outputId": "b57a72f0-12ac-4a4c-ddf9-8eabb04d5dc5"
      },
      "source": [
        "my_list = ['Quant', 'Connect', 1,2,3]\n",
        "print(my_list)"
      ],
      "execution_count": 83,
      "outputs": [
        {
          "output_type": "stream",
          "name": "stdout",
          "text": [
            "['Quant', 'Connect', 1, 2, 3]\n"
          ]
        }
      ]
    },
    {
      "cell_type": "code",
      "metadata": {
        "colab": {
          "base_uri": "https://localhost:8080/"
        },
        "id": "J5Bt_6ZkJvnx",
        "outputId": "7a8dc3bd-eba0-4009-87b9-4a5652c40f31"
      },
      "source": [
        "my_list = ['Santiago', 'Acosta', 5,6,8,0]\n",
        "print(my_list)"
      ],
      "execution_count": 84,
      "outputs": [
        {
          "output_type": "stream",
          "name": "stdout",
          "text": [
            "['Santiago', 'Acosta', 5, 6, 8, 0]\n"
          ]
        }
      ]
    },
    {
      "cell_type": "markdown",
      "metadata": {
        "id": "RDL4tTP0J9Ff"
      },
      "source": [
        "The values in a list are called \"elements\". We can access list elements by indexing. Python index starts from 0. So if you have a list of length n, the index of the first element will be 0, and that of the last element will be n − 1. By the way, the length of a list can be obtained by the built-in function len()."
      ]
    },
    {
      "cell_type": "code",
      "metadata": {
        "colab": {
          "base_uri": "https://localhost:8080/"
        },
        "id": "vKOBtwIbKAMJ",
        "outputId": "69ca044a-93a7-486e-91c4-dc57905d3e15"
      },
      "source": [
        "my_list = ['Quant', 'Connect', 1,2,3]\n",
        "print(my_list)\n",
        "print(my_list[0])\n",
        "print(my_list[len(my_list) - 1])"
      ],
      "execution_count": 85,
      "outputs": [
        {
          "output_type": "stream",
          "name": "stdout",
          "text": [
            "['Quant', 'Connect', 1, 2, 3]\n",
            "Quant\n",
            "3\n"
          ]
        }
      ]
    },
    {
      "cell_type": "code",
      "metadata": {
        "id": "m8ldpv6sKVmZ",
        "colab": {
          "base_uri": "https://localhost:8080/"
        },
        "outputId": "21ddd2f6-840a-4820-ba2d-8df4fff529f3"
      },
      "source": [
        "my_list = ['Santiago', 'Acosta', 5,6,8,0]\n",
        "print(my_list)\n",
        "print(my_list[0])\n",
        "print(my_list[len(my_list) - 1])"
      ],
      "execution_count": 86,
      "outputs": [
        {
          "output_type": "stream",
          "name": "stdout",
          "text": [
            "['Santiago', 'Acosta', 5, 6, 8, 0]\n",
            "Santiago\n",
            "0\n"
          ]
        }
      ]
    },
    {
      "cell_type": "markdown",
      "metadata": {
        "id": "1qr2riWZKczJ"
      },
      "source": [
        "You can also change the elements in the list by accessing an index and assigning a new value.\n"
      ]
    },
    {
      "cell_type": "code",
      "metadata": {
        "colab": {
          "base_uri": "https://localhost:8080/"
        },
        "id": "BJ2u8vdP1qYP",
        "outputId": "609abd75-4c71-465d-cc59-419a070948f7"
      },
      "source": [
        "my_list = ['Quant','Connect',1,2,3]\n",
        "my_list[2] = 'go'\n",
        "print(my_list)"
      ],
      "execution_count": 87,
      "outputs": [
        {
          "output_type": "stream",
          "name": "stdout",
          "text": [
            "['Quant', 'Connect', 'go', 2, 3]\n"
          ]
        }
      ]
    },
    {
      "cell_type": "code",
      "metadata": {
        "colab": {
          "base_uri": "https://localhost:8080/"
        },
        "id": "0S0aCrTb12dd",
        "outputId": "fc968744-f788-41ef-d299-1bad8ff8f08c"
      },
      "source": [
        "my_list = ['Santiago', 'Acosta', 5,6,8,0]\n",
        "my_list[4] = 'ta'\n",
        "print(my_list)"
      ],
      "execution_count": 88,
      "outputs": [
        {
          "output_type": "stream",
          "name": "stdout",
          "text": [
            "['Santiago', 'Acosta', 5, 6, 'ta', 0]\n"
          ]
        }
      ]
    },
    {
      "cell_type": "markdown",
      "metadata": {
        "id": "4YOXB5tG2KS3"
      },
      "source": [
        "A list can also be sliced with a colon:"
      ]
    },
    {
      "cell_type": "code",
      "metadata": {
        "colab": {
          "base_uri": "https://localhost:8080/"
        },
        "id": "6sQSBu_q2MBZ",
        "outputId": "d41c1d97-7273-43f6-beba-c1e4883a9830"
      },
      "source": [
        "my_list = ['Quant','Connect',1,2,3]\n",
        "print(my_list[1:3])"
      ],
      "execution_count": 89,
      "outputs": [
        {
          "output_type": "stream",
          "name": "stdout",
          "text": [
            "['Connect', 1]\n"
          ]
        }
      ]
    },
    {
      "cell_type": "code",
      "metadata": {
        "colab": {
          "base_uri": "https://localhost:8080/"
        },
        "id": "9lRXpKXu2h4p",
        "outputId": "34f4807d-1044-49e1-b22a-4b944d69c366"
      },
      "source": [
        "my_list = ['Santiago', 'Acosta', 5,6,8,0]\n",
        "print(my_list[1:4])"
      ],
      "execution_count": 90,
      "outputs": [
        {
          "output_type": "stream",
          "name": "stdout",
          "text": [
            "['Acosta', 5, 6]\n"
          ]
        }
      ]
    },
    {
      "cell_type": "markdown",
      "metadata": {
        "id": "fZW6PGkH2ndv"
      },
      "source": [
        "The slice starts from the first element indicated, but excludes the last element indicated. Here we select all elements starting from index 1, which refers to the second element:"
      ]
    },
    {
      "cell_type": "code",
      "metadata": {
        "colab": {
          "base_uri": "https://localhost:8080/"
        },
        "id": "H4ZYAZkA2vPe",
        "outputId": "35c44e3f-b1fb-4df2-fa41-f7d0c93b84b1"
      },
      "source": [
        "my_list = ['Quant','Connect',1,2,3]\n",
        "print(my_list[1:])"
      ],
      "execution_count": 91,
      "outputs": [
        {
          "output_type": "stream",
          "name": "stdout",
          "text": [
            "['Connect', 1, 2, 3]\n"
          ]
        }
      ]
    },
    {
      "cell_type": "code",
      "metadata": {
        "colab": {
          "base_uri": "https://localhost:8080/"
        },
        "id": "ic_MSOM428Oy",
        "outputId": "074a77c1-d021-42d7-8cd0-2a0af3465323"
      },
      "source": [
        "my_list = ['Santiago', 'Acosta', 5,6,8,0]\n",
        "print(my_list[1:])"
      ],
      "execution_count": 92,
      "outputs": [
        {
          "output_type": "stream",
          "name": "stdout",
          "text": [
            "['Acosta', 5, 6, 8, 0]\n"
          ]
        }
      ]
    },
    {
      "cell_type": "markdown",
      "metadata": {
        "id": "vKYXeReB2_UK"
      },
      "source": [
        "And all elements up to but excluding index 3:"
      ]
    },
    {
      "cell_type": "code",
      "metadata": {
        "colab": {
          "base_uri": "https://localhost:8080/"
        },
        "id": "rlT9coJ23BuE",
        "outputId": "d84ce877-64fd-4e0e-95c6-0b055b3c23dd"
      },
      "source": [
        "my_list = ['Quant','Connect',1,2,3]\n",
        "print(my_list[:3])"
      ],
      "execution_count": 93,
      "outputs": [
        {
          "output_type": "stream",
          "name": "stdout",
          "text": [
            "['Quant', 'Connect', 1]\n"
          ]
        }
      ]
    },
    {
      "cell_type": "code",
      "metadata": {
        "colab": {
          "base_uri": "https://localhost:8080/"
        },
        "id": "kHypV6NC3cJA",
        "outputId": "bbb31527-4415-4111-d4f5-f88590616377"
      },
      "source": [
        "my_list = ['Santiago', 'Acosta', 5,6,8,0]\n",
        "print(my_list[:4])"
      ],
      "execution_count": 94,
      "outputs": [
        {
          "output_type": "stream",
          "name": "stdout",
          "text": [
            "['Santiago', 'Acosta', 5, 6]\n"
          ]
        }
      ]
    },
    {
      "cell_type": "markdown",
      "metadata": {
        "id": "uvuLZDmO3gVU"
      },
      "source": [
        "If you wish to add or remove an element from a list, you can use the append() and remove() methods for lists as follows:"
      ]
    },
    {
      "cell_type": "code",
      "metadata": {
        "colab": {
          "base_uri": "https://localhost:8080/"
        },
        "id": "ViYdo8vG3irX",
        "outputId": "62423584-f463-452a-ccdc-2a26a0ba4454"
      },
      "source": [
        "my_list = ['Hello', 'Quant']\n",
        "my_list.append('Hello')\n",
        "print(my_list)\n",
        "my_list.remove('Hello')\n",
        "print(my_list)"
      ],
      "execution_count": 95,
      "outputs": [
        {
          "output_type": "stream",
          "name": "stdout",
          "text": [
            "['Hello', 'Quant', 'Hello']\n",
            "['Quant', 'Hello']\n"
          ]
        }
      ]
    },
    {
      "cell_type": "code",
      "metadata": {
        "colab": {
          "base_uri": "https://localhost:8080/"
        },
        "id": "AK2dwt3o3wC6",
        "outputId": "de9e8f4c-5eb6-4fd0-e0c5-b67adc9edf3b"
      },
      "source": [
        "my_list = ['san', 'tia']\n",
        "my_list.append('go')\n",
        "print(my_list)\n",
        "my_list.remove('go')\n",
        "print(my_list)"
      ],
      "execution_count": 96,
      "outputs": [
        {
          "output_type": "stream",
          "name": "stdout",
          "text": [
            "['san', 'tia', 'go']\n",
            "['san', 'tia']\n"
          ]
        }
      ]
    },
    {
      "cell_type": "markdown",
      "metadata": {
        "id": "KaKT5O-o4JaC"
      },
      "source": [
        "When there are repeated instances of \"Hello\", the first one is removed.\n",
        "\n",
        "##**Tuple**\n",
        "A tuple is a data structure type similar to a list. The difference is that a tuple is immutable, which means you can't change the elements in it once it's defined. We create a tuple by putting comma-separated values between parentheses."
      ]
    },
    {
      "cell_type": "code",
      "metadata": {
        "colab": {
          "base_uri": "https://localhost:8080/"
        },
        "id": "8AHk5zDX4LLc",
        "outputId": "f68b0d01-98c3-47cf-ecdc-2591ea49b64a"
      },
      "source": [
        "my_tuple = ('Welcome','to','QuantConnect')\n",
        "print(my_tuple[1:])"
      ],
      "execution_count": 97,
      "outputs": [
        {
          "output_type": "stream",
          "name": "stdout",
          "text": [
            "('to', 'QuantConnect')\n"
          ]
        }
      ]
    },
    {
      "cell_type": "code",
      "metadata": {
        "colab": {
          "base_uri": "https://localhost:8080/"
        },
        "id": "XsjCxzSe4hOm",
        "outputId": "04fe545e-b318-4d2b-bd06-fd7ada4c308e"
      },
      "source": [
        "my_tuple = ('Welcome','to','u nacional')\n",
        "print(my_tuple[1:])"
      ],
      "execution_count": 98,
      "outputs": [
        {
          "output_type": "stream",
          "name": "stdout",
          "text": [
            "('to', 'u nacional')\n"
          ]
        }
      ]
    },
    {
      "cell_type": "markdown",
      "metadata": {
        "id": "4pEuZycr4w7B"
      },
      "source": [
        "##**Set**\n",
        "A set is an unordered collection with no duplicate elements. The built-in function set() can be used to create sets."
      ]
    },
    {
      "cell_type": "code",
      "metadata": {
        "colab": {
          "base_uri": "https://localhost:8080/"
        },
        "id": "086BCZHK4yom",
        "outputId": "d94338c9-c905-4497-8822-851e8260c3e2"
      },
      "source": [
        "stock_list = ['AAPL','GOOG','IBM','AAPL','IBM','FB','F','GOOG']\n",
        "stock_set = set(stock_list)\n",
        "print(stock_set)"
      ],
      "execution_count": 99,
      "outputs": [
        {
          "output_type": "stream",
          "name": "stdout",
          "text": [
            "{'FB', 'IBM', 'F', 'GOOG', 'AAPL'}\n"
          ]
        }
      ]
    },
    {
      "cell_type": "code",
      "metadata": {
        "colab": {
          "base_uri": "https://localhost:8080/"
        },
        "id": "kzrhlv5541XV",
        "outputId": "2a35acbf-485b-41df-cc3b-aac4766802b8"
      },
      "source": [
        "stock_list = ['A','B','C','A','D','C','E','E']\n",
        "stock_set = set(stock_list)\n",
        "print(stock_set)"
      ],
      "execution_count": 100,
      "outputs": [
        {
          "output_type": "stream",
          "name": "stdout",
          "text": [
            "{'D', 'B', 'C', 'A', 'E'}\n"
          ]
        }
      ]
    },
    {
      "cell_type": "markdown",
      "metadata": {
        "id": "ITp8R9j55B43"
      },
      "source": [
        "Set is an easy way to remove duplicate elements from a list.\n",
        "\n",
        "##**Dictionary**\n",
        "A dictionary is one of the most important data structures in Python. Unlike sequences which are indexed by integers, dictionaries are indexed by keys which can be either strings or floats.\n",
        "\n",
        "A dictionary is an unordered collection of key : value pairs, with the requirement that the keys are unique. We create a dictionary by placing a comma-separated list of key : value pairs within the braces."
      ]
    },
    {
      "cell_type": "code",
      "metadata": {
        "colab": {
          "base_uri": "https://localhost:8080/"
        },
        "id": "iHo8y5H45EFT",
        "outputId": "873799b3-e5a7-4fde-f9cf-fc115ab587c8"
      },
      "source": [
        "my_dic = {'AAPL': 'Apple', 'FB': 'FaceBook', 'GOOG': 'Alphabet'}\n",
        "print(my_dic['GOOG'])"
      ],
      "execution_count": 101,
      "outputs": [
        {
          "output_type": "stream",
          "name": "stdout",
          "text": [
            "Alphabet\n"
          ]
        }
      ]
    },
    {
      "cell_type": "code",
      "metadata": {
        "colab": {
          "base_uri": "https://localhost:8080/"
        },
        "id": "e3TAQw9P5W1Z",
        "outputId": "a95255f4-8439-4640-b890-656f165e0df1"
      },
      "source": [
        "my_dic = {'A': 'B', 'C': 'D', 'E': 'F'}\n",
        "print(my_dic['A'])"
      ],
      "execution_count": 102,
      "outputs": [
        {
          "output_type": "stream",
          "name": "stdout",
          "text": [
            "B\n"
          ]
        }
      ]
    },
    {
      "cell_type": "markdown",
      "metadata": {
        "id": "9epKTfys5qAQ"
      },
      "source": [
        "After defining a dictionary, we can access any value by indicating its key in brackets."
      ]
    },
    {
      "cell_type": "code",
      "metadata": {
        "colab": {
          "base_uri": "https://localhost:8080/"
        },
        "id": "yyv6xT2t5rdR",
        "outputId": "050c13c6-5c9d-47d6-aa3c-2c1deb114956"
      },
      "source": [
        "my_dic = {'AAPL': 'Apple', 'FB': 'FaceBook', 'GOOG': 'Alphabet'}\n",
        "my_dic['GOOG'] = 'Alphabet Company'\n",
        "print(my_dic['GOOG'])"
      ],
      "execution_count": 103,
      "outputs": [
        {
          "output_type": "stream",
          "name": "stdout",
          "text": [
            "Alphabet Company\n"
          ]
        }
      ]
    },
    {
      "cell_type": "code",
      "metadata": {
        "colab": {
          "base_uri": "https://localhost:8080/"
        },
        "id": "uMhD5CyD6MM4",
        "outputId": "3b197d4d-28a8-4fb7-af52-bd1eca4dab99"
      },
      "source": [
        "my_dic = {'A': 'B', 'C': 'D', 'E': 'F'}\n",
        "my_dic['A'] = 'SS'\n",
        "print(my_dic['A'])"
      ],
      "execution_count": 104,
      "outputs": [
        {
          "output_type": "stream",
          "name": "stdout",
          "text": [
            "SS\n"
          ]
        }
      ]
    },
    {
      "cell_type": "markdown",
      "metadata": {
        "id": "KC093E-D6Tg8"
      },
      "source": [
        "We can also change the value associated with a specified key:"
      ]
    },
    {
      "cell_type": "code",
      "metadata": {
        "colab": {
          "base_uri": "https://localhost:8080/"
        },
        "id": "nm74luQ66VkF",
        "outputId": "375c57ec-5ad1-4f31-d746-bb6bafff60d9"
      },
      "source": [
        "my_dic = {'AAPL': 'Apple', 'FB': 'FaceBook', 'GOOG': 'Alphabet'}\n",
        "print(my_dic.keys())"
      ],
      "execution_count": 105,
      "outputs": [
        {
          "output_type": "stream",
          "name": "stdout",
          "text": [
            "dict_keys(['AAPL', 'FB', 'GOOG'])\n"
          ]
        }
      ]
    },
    {
      "cell_type": "code",
      "metadata": {
        "colab": {
          "base_uri": "https://localhost:8080/"
        },
        "id": "pzb95PoH6df5",
        "outputId": "d2139ee5-3f2f-4470-e7c1-d66d33e2a06c"
      },
      "source": [
        "my_dic = {'A': 'B', 'C': 'D', 'E': 'F'}\n",
        "print(my_dic.keys())"
      ],
      "execution_count": 106,
      "outputs": [
        {
          "output_type": "stream",
          "name": "stdout",
          "text": [
            "dict_keys(['A', 'C', 'E'])\n"
          ]
        }
      ]
    },
    {
      "cell_type": "markdown",
      "metadata": {
        "id": "aS2qA27g6xBy"
      },
      "source": [
        "The built-in method of the dictionary object dict.keys() returns a list of all the keys used in the dictionary.\n",
        "\n",
        "##**Common String Operations**\n",
        "A string is an immutable sequence of characters. It can be sliced by index just like a tuple:"
      ]
    },
    {
      "cell_type": "code",
      "metadata": {
        "colab": {
          "base_uri": "https://localhost:8080/"
        },
        "id": "Pnyaakw36y9N",
        "outputId": "4e8d1beb-b555-4f2d-92d2-8d7446073500"
      },
      "source": [
        "my_str = 'Welcome to QuantConnect'\n",
        "print(my_str[8:])"
      ],
      "execution_count": 107,
      "outputs": [
        {
          "output_type": "stream",
          "name": "stdout",
          "text": [
            "to QuantConnect\n"
          ]
        }
      ]
    },
    {
      "cell_type": "code",
      "metadata": {
        "colab": {
          "base_uri": "https://localhost:8080/"
        },
        "id": "_rLnomOZ60g-",
        "outputId": "49ae81de-e4c6-4cba-fc2d-ec323236f6d4"
      },
      "source": [
        "my_str = 'hola como estas?'\n",
        "print(my_str[5:])"
      ],
      "execution_count": 108,
      "outputs": [
        {
          "output_type": "stream",
          "name": "stdout",
          "text": [
            "como estas?\n"
          ]
        }
      ]
    },
    {
      "cell_type": "markdown",
      "metadata": {
        "id": "Gi8EDY587LSu"
      },
      "source": [
        "There are many methods associated with strings. We can use string.count() to count the occurrences of a character in a string, use string.find() to return the index of a specific character, and use string.replace() to replace characters"
      ]
    },
    {
      "cell_type": "code",
      "metadata": {
        "colab": {
          "base_uri": "https://localhost:8080/"
        },
        "id": "pZtZJ3nF7Ocy",
        "outputId": "3e7a7437-18de-4c40-8ab1-c3a9ca91f7d1"
      },
      "source": [
        "print(\"Counting the number of e's in this sentence\".count('e'))\n",
        "print('The first time e appears in this sentence'.find('e'))\n",
        "print('all the a in this sentence now becomes e'.replace('a','e'))"
      ],
      "execution_count": 109,
      "outputs": [
        {
          "output_type": "stream",
          "name": "stdout",
          "text": [
            "6\n",
            "2\n",
            "ell the e in this sentence now becomes e\n"
          ]
        }
      ]
    },
    {
      "cell_type": "code",
      "metadata": {
        "colab": {
          "base_uri": "https://localhost:8080/"
        },
        "id": "bjsNL4km7iKd",
        "outputId": "72b25b13-9556-47d9-c834-b72dd0e7837f"
      },
      "source": [
        "print(\"mi nombre es santiago acosta\".count('e'))\n",
        "print('mi nombre es santiago acosta'.find('o'))\n",
        "print('mi nombre es santiago acosta'.replace('a','e'))"
      ],
      "execution_count": 110,
      "outputs": [
        {
          "output_type": "stream",
          "name": "stdout",
          "text": [
            "2\n",
            "4\n",
            "mi nombre es sentiego ecoste\n"
          ]
        }
      ]
    },
    {
      "cell_type": "markdown",
      "metadata": {
        "id": "XrRPo4BB8C3g"
      },
      "source": [
        "\n",
        "The most commonly used method for strings is string.split(). This method will split the string by the indicated character and return a list"
      ]
    },
    {
      "cell_type": "code",
      "metadata": {
        "colab": {
          "base_uri": "https://localhost:8080/"
        },
        "id": "vvi7jRQC8Aji",
        "outputId": "54a15ee4-c6be-45f2-e85b-83e4f378b473"
      },
      "source": [
        "Time = '2016-04-01 09:43:00'\n",
        "splited_list = Time.split(' ')\n",
        "date = splited_list[0]\n",
        "time = splited_list[1]\n",
        "print(date, time)\n",
        "hour = time.split(':')[0]\n",
        "print(hour)"
      ],
      "execution_count": 111,
      "outputs": [
        {
          "output_type": "stream",
          "name": "stdout",
          "text": [
            "2016-04-01 09:43:00\n",
            "09\n"
          ]
        }
      ]
    },
    {
      "cell_type": "code",
      "metadata": {
        "colab": {
          "base_uri": "https://localhost:8080/"
        },
        "id": "o5nbaW8r8WbH",
        "outputId": "ce329932-c170-4c79-a768-7fc84c2a224e"
      },
      "source": [
        "Time = '2021-10-16 11:31:00'\n",
        "splited_list = Time.split(' ')\n",
        "date = splited_list[0]\n",
        "time = splited_list[1]\n",
        "print(date, time)\n",
        "hour = time.split(':')[0]\n",
        "print(hour)"
      ],
      "execution_count": 112,
      "outputs": [
        {
          "output_type": "stream",
          "name": "stdout",
          "text": [
            "2021-10-16 11:31:00\n",
            "11\n"
          ]
        }
      ]
    },
    {
      "cell_type": "markdown",
      "metadata": {
        "id": "XEjTFHrW8k1M"
      },
      "source": [
        "We can replace parts of a string by our variable. This is called string formatting."
      ]
    },
    {
      "cell_type": "code",
      "metadata": {
        "colab": {
          "base_uri": "https://localhost:8080/"
        },
        "id": "ZB6bSW7w8mhz",
        "outputId": "9eb28f0b-7723-4445-e425-22ae43289fc4"
      },
      "source": [
        "my_time = 'Hour: {}, Minute: {}'.format(9, 43)\n",
        "print(my_time)"
      ],
      "execution_count": 113,
      "outputs": [
        {
          "output_type": "stream",
          "name": "stdout",
          "text": [
            "Hour: 9, Minute: 43\n"
          ]
        }
      ]
    },
    {
      "cell_type": "code",
      "metadata": {
        "colab": {
          "base_uri": "https://localhost:8080/"
        },
        "id": "KIOb3Haa8q7h",
        "outputId": "5c478369-b0c9-48d2-a156-5b28f96e539f"
      },
      "source": [
        "my_time = 'Hour: {}, Minute: {}'.format(11, 31)\n",
        "print(my_time)"
      ],
      "execution_count": 114,
      "outputs": [
        {
          "output_type": "stream",
          "name": "stdout",
          "text": [
            "Hour: 11, Minute: 31\n"
          ]
        }
      ]
    },
    {
      "cell_type": "markdown",
      "metadata": {
        "id": "l8bxs6Gf876O"
      },
      "source": [
        "Another way to format a string is to use the % symbol."
      ]
    },
    {
      "cell_type": "code",
      "metadata": {
        "colab": {
          "base_uri": "https://localhost:8080/"
        },
        "id": "zukZl15r8-Tp",
        "outputId": "0bda04aa-2773-44dd-806d-32c8cf140ba9"
      },
      "source": [
        "print ('pi is %f' % 3.14)\n",
        "print('%s to %s' % ('Welcome', 'QuantConnect'))"
      ],
      "execution_count": 115,
      "outputs": [
        {
          "output_type": "stream",
          "name": "stdout",
          "text": [
            "pi is 3.140000\n",
            "Welcome to QuantConnect\n"
          ]
        }
      ]
    },
    {
      "cell_type": "code",
      "metadata": {
        "colab": {
          "base_uri": "https://localhost:8080/"
        },
        "id": "W34LyOn29aQO",
        "outputId": "8fe0a923-b3c5-489d-c2f0-dbf1c9f76d0c"
      },
      "source": [
        "print ('3/2 es %f' % 1.5)\n",
        "print('%s soy %s' % ('hola', 'yo'))"
      ],
      "execution_count": 116,
      "outputs": [
        {
          "output_type": "stream",
          "name": "stdout",
          "text": [
            "3/2 es 1.500000\n",
            "hola soy yo\n"
          ]
        }
      ]
    },
    {
      "cell_type": "markdown",
      "metadata": {
        "id": "btZh0QIP-I1L"
      },
      "source": [
        "#**Summary**\n",
        "Weave seen the basic data types and data structures in Python. It's important to keep practicing to become familiar with these data structures. In the next tutorial, we will cover for and while loops and logical operations in Python."
      ]
    },
    {
      "cell_type": "markdown",
      "metadata": {
        "id": "ttDEudRJ-Nh7"
      },
      "source": [
        "#**02 Logical Operations and Loops**\n",
        "#**Introduction**\n",
        "We discussed the basic data types and data structures in Python in the last tutorial. This chapter covers logical operations and loops in Python, which are very common in programming.\n",
        "\n",
        "#**Logical Operations**\n",
        "Like most programming languages, Python has comparison operators:"
      ]
    },
    {
      "cell_type": "code",
      "metadata": {
        "colab": {
          "base_uri": "https://localhost:8080/"
        },
        "id": "TP8aa6Vc-POC",
        "outputId": "6155437b-6428-4ff9-f78c-f292ef929a4e"
      },
      "source": [
        "print (1 == 0)    # 1 equals 0\n",
        "print (1 == 1)    # 1 equals 1\n",
        "print (1 != 0)    # 1 is not equal to 0\n",
        "print (5 >= 5)    # 5 is greater than or equal to 5\n",
        "print (5 >= 6)    # 5 is greater than or equal to 6"
      ],
      "execution_count": 117,
      "outputs": [
        {
          "output_type": "stream",
          "name": "stdout",
          "text": [
            "False\n",
            "True\n",
            "True\n",
            "True\n",
            "False\n"
          ]
        }
      ]
    },
    {
      "cell_type": "code",
      "metadata": {
        "colab": {
          "base_uri": "https://localhost:8080/"
        },
        "id": "NGQz5NYD-zAQ",
        "outputId": "7d0c96d5-e65f-42c2-8978-bbf3451fa0ae"
      },
      "source": [
        "print (12 == 3)    \n",
        "print (999 == 999)    \n",
        "print (4 != 3)    \n",
        "print (78 >= 78)   \n",
        "print (4 >= 9)    "
      ],
      "execution_count": 118,
      "outputs": [
        {
          "output_type": "stream",
          "name": "stdout",
          "text": [
            "False\n",
            "True\n",
            "True\n",
            "True\n",
            "False\n"
          ]
        }
      ]
    },
    {
      "cell_type": "markdown",
      "metadata": {
        "id": "aj6z7kyK_GBO"
      },
      "source": [
        "Each statement above has a boolean value, which must be either True or False, but not both.\n",
        "\n",
        "We can combine simple statements P and Q to form complex statements using logical operators:\n",
        "\n",
        "\n",
        "\n",
        "The statement \"not P\" is true if P is false, and vice versa.\n",
        "\n",
        "*   The statement \"P and Q\" is true if both P and Q are true, otherwise it is false.\n",
        "*   The statement \"P or Q\" is false if both P and Q are false, otherwise it is true.\n",
        "*   The statement \"not P\" is true if P is false, and vice versa.\n",
        "\n",
        "\n"
      ]
    },
    {
      "cell_type": "code",
      "metadata": {
        "colab": {
          "base_uri": "https://localhost:8080/"
        },
        "id": "0vwCrkmE_IIB",
        "outputId": "5c984a90-f8db-4360-c8d2-4b8a5924a97b"
      },
      "source": [
        "print (2 > 1 and 3 > 2)\n",
        "print (2 > 1 and 3 < 2)\n",
        "print (2 > 1 or  3 < 2)\n",
        "print (2 < 1 and 3 < 2)"
      ],
      "execution_count": 119,
      "outputs": [
        {
          "output_type": "stream",
          "name": "stdout",
          "text": [
            "True\n",
            "False\n",
            "True\n",
            "False\n"
          ]
        }
      ]
    },
    {
      "cell_type": "code",
      "metadata": {
        "colab": {
          "base_uri": "https://localhost:8080/"
        },
        "id": "Lm92GCK0_WtK",
        "outputId": "0e8ca536-71f0-4380-8584-d7cb93be3322"
      },
      "source": [
        "print (14 > 1 and 5 > 4)\n",
        "print (89 > 1 and 8 < 2)\n",
        "print (65 > 1 or  89 < 2)\n",
        "print (4 < 1 and 2 < 2)"
      ],
      "execution_count": 120,
      "outputs": [
        {
          "output_type": "stream",
          "name": "stdout",
          "text": [
            "True\n",
            "False\n",
            "True\n",
            "False\n"
          ]
        }
      ]
    },
    {
      "cell_type": "markdown",
      "metadata": {
        "id": "u1vrmMSA_k-8"
      },
      "source": [
        "When dealing with a very complex logical statement that involves in several statements, we can use brackets to separate and combine them."
      ]
    },
    {
      "cell_type": "code",
      "metadata": {
        "colab": {
          "base_uri": "https://localhost:8080/"
        },
        "id": "0bA0-Blw_mhJ",
        "outputId": "5d86e7bb-da8f-4f72-d9fb-0f1d9f46a335"
      },
      "source": [
        "print ((3 > 2 or 1 < 3) and (1!=3 and 4>3) and not ( 3 < 2 or 1 < 3 and (1!=3 and 4>3)))\n",
        "print (3 > 2 or 1 < 3 and (1!=3 and 4>3) and not ( 3 < 2 or 1 < 3 and (1!=3 and 4>3)))"
      ],
      "execution_count": 121,
      "outputs": [
        {
          "output_type": "stream",
          "name": "stdout",
          "text": [
            "False\n",
            "True\n"
          ]
        }
      ]
    },
    {
      "cell_type": "code",
      "metadata": {
        "colab": {
          "base_uri": "https://localhost:8080/"
        },
        "id": "eVuoEmRM_u0y",
        "outputId": "7908fbf8-ad05-428b-9dc1-e848442980f7"
      },
      "source": [
        "print ((7 > 2 or 1 < 6) and (1!=4 and 6>3) and not ( 12 < 1 or 2 < 12 and (12!=45 and 45>33)))\n",
        "print (32 > 21 or 16 < 37 and (17!=35 and 46>35) and not ( 34 < 27 or 12 < 33 and (15!=37 and 42>31)))"
      ],
      "execution_count": 122,
      "outputs": [
        {
          "output_type": "stream",
          "name": "stdout",
          "text": [
            "False\n",
            "True\n"
          ]
        }
      ]
    },
    {
      "cell_type": "markdown",
      "metadata": {
        "id": "KeaDanFjAE80"
      },
      "source": [
        "Comparing the above two statements, we can see that it's wise to use brackets when we make a complex logical statement.\n",
        "\n",
        "##**If Statement**\n",
        "An if statement executes a segment of code only if its condition is true. A standard if statement consists of 3 segments: if, elif and else."
      ]
    },
    {
      "cell_type": "markdown",
      "metadata": {
        "id": "lwxwkD1LK_sy"
      },
      "source": [
        "\n",
        "An if statement doesn't necessarily has elif and else part. If it's not specified, the indented block of code will be executed when the condition is true, otherwise the whole if statement will be skipped."
      ]
    },
    {
      "cell_type": "markdown",
      "metadata": {
        "id": "I_yupcKPN_Qr"
      },
      "source": [
        "if statement1:\n",
        "    # if the statement1 is true, execute the code here.\n",
        "    # code.....\n",
        "    # code.....\n",
        "elif statement2:\n",
        "    # if the statement 1 is false, skip the codes above to this part.\n",
        "    # code......\n",
        "    # code......\n",
        "else:\n",
        "    # if none of the above statements is True, skip to this part\n",
        "    # code......"
      ]
    },
    {
      "cell_type": "code",
      "metadata": {
        "colab": {
          "base_uri": "https://localhost:8080/"
        },
        "id": "-djyH6UcACCf",
        "outputId": "9fba1c56-7b70-4c63-c057-be1847e91d6a"
      },
      "source": [
        "i = 0\n",
        "if i == 0: print ('i == 0 is True')"
      ],
      "execution_count": 123,
      "outputs": [
        {
          "output_type": "stream",
          "name": "stdout",
          "text": [
            "i == 0 is True\n"
          ]
        }
      ]
    },
    {
      "cell_type": "code",
      "metadata": {
        "colab": {
          "base_uri": "https://localhost:8080/"
        },
        "id": "zGCpgYEPATL0",
        "outputId": "417ff77d-4e25-4e79-b692-593d809a7019"
      },
      "source": [
        "i = 7\n",
        "if i == 7: print ('i == 7 is True')"
      ],
      "execution_count": 124,
      "outputs": [
        {
          "output_type": "stream",
          "name": "stdout",
          "text": [
            "i == 7 is True\n"
          ]
        }
      ]
    },
    {
      "cell_type": "markdown",
      "metadata": {
        "id": "aBTVGzdhAb9R"
      },
      "source": [
        "As we mentioned above, we can write some complex statements here:"
      ]
    },
    {
      "cell_type": "code",
      "metadata": {
        "colab": {
          "base_uri": "https://localhost:8080/"
        },
        "id": "H6CCLw_2AarJ",
        "outputId": "1b565057-750e-473e-a53f-49370953137d"
      },
      "source": [
        "p = 1 > 0\n",
        "q = 2 > 3\n",
        "if p and q:\n",
        "    print ('p and q is true')\n",
        "elif p and not q:\n",
        "    print ('q is false')\n",
        "elif q and not p:\n",
        "    print ('p is false')\n",
        "else:\n",
        "    print ('None of p and q is true')"
      ],
      "execution_count": 125,
      "outputs": [
        {
          "output_type": "stream",
          "name": "stdout",
          "text": [
            "q is false\n"
          ]
        }
      ]
    },
    {
      "cell_type": "code",
      "metadata": {
        "colab": {
          "base_uri": "https://localhost:8080/"
        },
        "id": "g6lfipDcAp8d",
        "outputId": "0547eada-2471-4632-8040-ff9664f38f54"
      },
      "source": [
        "p = 0 > 1\n",
        "q = 3 > 2\n",
        "if p and q:\n",
        "    print ('p and q is true')\n",
        "elif p and not q:\n",
        "    print ('q is false')\n",
        "elif q and not p:\n",
        "    print ('p is false')\n",
        "else:\n",
        "    print ('None of p and q is true')"
      ],
      "execution_count": 126,
      "outputs": [
        {
          "output_type": "stream",
          "name": "stdout",
          "text": [
            "p is false\n"
          ]
        }
      ]
    },
    {
      "cell_type": "markdown",
      "metadata": {
        "id": "EV2TB8RBBD6D"
      },
      "source": [
        "#**Loop Structure**\n",
        "Loops are an essential part of programming. The \"for\" and \"while\" loops run a block of code repeatedly.\n",
        "\n",
        "##**While Loop**\n",
        "A \"while\" loop will run repeatedly until a certain condition has been met."
      ]
    },
    {
      "cell_type": "code",
      "metadata": {
        "colab": {
          "base_uri": "https://localhost:8080/"
        },
        "id": "g-O6_u1HBGLh",
        "outputId": "d57c77d2-b392-40a6-d4b6-819b3668ef7b"
      },
      "source": [
        "i = 0\n",
        "while i < 5:\n",
        "    print (i)\n",
        "    i += 1"
      ],
      "execution_count": 127,
      "outputs": [
        {
          "output_type": "stream",
          "name": "stdout",
          "text": [
            "0\n",
            "1\n",
            "2\n",
            "3\n",
            "4\n"
          ]
        }
      ]
    },
    {
      "cell_type": "code",
      "metadata": {
        "colab": {
          "base_uri": "https://localhost:8080/"
        },
        "id": "YOP_7XmbBLye",
        "outputId": "5e85e15e-1719-4198-f075-b16f76839b50"
      },
      "source": [
        "i = 0\n",
        "while i < 7:\n",
        "    print (i)\n",
        "    i += 1"
      ],
      "execution_count": 128,
      "outputs": [
        {
          "output_type": "stream",
          "name": "stdout",
          "text": [
            "0\n",
            "1\n",
            "2\n",
            "3\n",
            "4\n",
            "5\n",
            "6\n"
          ]
        }
      ]
    },
    {
      "cell_type": "markdown",
      "metadata": {
        "id": "Xjg8_1mCBPj_"
      },
      "source": [
        "When making a while loop, we need to ensure that something changes from iteration to iteration so that the while loop will terminate, otherwise, it will run forever. Here we used i += 1 (short for i = i + 1) to make i larger after each iteration. This is the most commonly used method to control a while loop.\n",
        "\n",
        "##**For Loop**\n",
        "A \"for\" loop will iterate over a sequence of value and terminate when the sequence has ended."
      ]
    },
    {
      "cell_type": "code",
      "metadata": {
        "colab": {
          "base_uri": "https://localhost:8080/"
        },
        "id": "Hc7CDf-WBRc-",
        "outputId": "d28b09a8-e562-452b-b9e4-c800788c2bb3"
      },
      "source": [
        "for x in [1,2,3,4,5]: print (x)"
      ],
      "execution_count": 129,
      "outputs": [
        {
          "output_type": "stream",
          "name": "stdout",
          "text": [
            "1\n",
            "2\n",
            "3\n",
            "4\n",
            "5\n"
          ]
        }
      ]
    },
    {
      "cell_type": "code",
      "metadata": {
        "colab": {
          "base_uri": "https://localhost:8080/"
        },
        "id": "ZUe1f4wXBeUe",
        "outputId": "c0741960-5f30-4a33-e6a4-3b41b420268d"
      },
      "source": [
        "for x in [1,2,34,46,5]: print (x)"
      ],
      "execution_count": 130,
      "outputs": [
        {
          "output_type": "stream",
          "name": "stdout",
          "text": [
            "1\n",
            "2\n",
            "34\n",
            "46\n",
            "5\n"
          ]
        }
      ]
    },
    {
      "cell_type": "markdown",
      "metadata": {
        "id": "o9nKexQJBhUA"
      },
      "source": [
        "We can also add if statements in a for loop. Here is a real example from our pairs trading algorithm:"
      ]
    },
    {
      "cell_type": "code",
      "metadata": {
        "colab": {
          "base_uri": "https://localhost:8080/"
        },
        "id": "kR8ddF4ABi-a",
        "outputId": "17eef6f5-1503-4842-a4d8-80d7036d1a34"
      },
      "source": [
        "stocks = ['AAPL','GOOG','IBM','FB','F','V', 'G', 'GE']\n",
        "selected = ['AAPL','IBM']\n",
        "new_list = []\n",
        "for stock in stocks:\n",
        "    if stock not in selected:\n",
        "        new_list.append(stock)\n",
        "print (new_list)"
      ],
      "execution_count": 131,
      "outputs": [
        {
          "output_type": "stream",
          "name": "stdout",
          "text": [
            "['GOOG', 'FB', 'F', 'V', 'G', 'GE']\n"
          ]
        }
      ]
    },
    {
      "cell_type": "code",
      "metadata": {
        "colab": {
          "base_uri": "https://localhost:8080/"
        },
        "id": "Jqv-gCHBB30a",
        "outputId": "6b0dfcfb-8e43-41ee-a0c1-990d8fd275ee"
      },
      "source": [
        "stocks = ['AAPL','GOOG','IBM','FB','F','V', 'G', 'GE']\n",
        "selected = ['AAPL','IBM','FB','F']\n",
        "new_list = []\n",
        "for stock in stocks:\n",
        "    if stock not in selected:\n",
        "        new_list.append(stock)\n",
        "print (new_list)"
      ],
      "execution_count": 132,
      "outputs": [
        {
          "output_type": "stream",
          "name": "stdout",
          "text": [
            "['GOOG', 'V', 'G', 'GE']\n"
          ]
        }
      ]
    },
    {
      "cell_type": "markdown",
      "metadata": {
        "id": "VNDTzhGqCDeI"
      },
      "source": [
        "Here we iterated all the elements in the list 'stocks'. Later in this chapter, we will introduce a smarter way to do this, which is just a one-line code.\n",
        "\n",
        "##**Break and continue**\n",
        "These are two commonly used commands in a for loop. If \"break\" is triggered while a loop is executing, the loop will terminate immediately:"
      ]
    },
    {
      "cell_type": "code",
      "metadata": {
        "colab": {
          "base_uri": "https://localhost:8080/"
        },
        "id": "UaD3mBGECGy4",
        "outputId": "dad88341-3d19-499f-f2c6-cc2d3c64aaab"
      },
      "source": [
        "stocks = ['AAPL','GOOG','IBM','FB','F','V', 'G', 'GE']\n",
        "for stock in stocks:\n",
        "    print (stock)\n",
        "    if stock == 'FB': break"
      ],
      "execution_count": 133,
      "outputs": [
        {
          "output_type": "stream",
          "name": "stdout",
          "text": [
            "AAPL\n",
            "GOOG\n",
            "IBM\n",
            "FB\n"
          ]
        }
      ]
    },
    {
      "cell_type": "code",
      "metadata": {
        "colab": {
          "base_uri": "https://localhost:8080/"
        },
        "id": "tBq3s9zFCUTz",
        "outputId": "d289cad3-7272-439c-c75e-52609a50dfa2"
      },
      "source": [
        "stocks = ['AAPL','GOOG','IBM','FB','F','V', 'G', 'GE']\n",
        "for stock in stocks:\n",
        "    print (stock)\n",
        "    if stock == 'G': break"
      ],
      "execution_count": 134,
      "outputs": [
        {
          "output_type": "stream",
          "name": "stdout",
          "text": [
            "AAPL\n",
            "GOOG\n",
            "IBM\n",
            "FB\n",
            "F\n",
            "V\n",
            "G\n"
          ]
        }
      ]
    },
    {
      "cell_type": "markdown",
      "metadata": {
        "id": "YRuswmlSCY0F"
      },
      "source": [
        "The \"continue\" command tells the loop to end this iteration and skip to the next iteration:"
      ]
    },
    {
      "cell_type": "code",
      "metadata": {
        "colab": {
          "base_uri": "https://localhost:8080/"
        },
        "id": "NGCz4CD0CalQ",
        "outputId": "f34e4803-a474-4ab6-c16c-59e08e033fb6"
      },
      "source": [
        "stocks = ['AAPL','GOOG','IBM','FB','F','V', 'G', 'GE']\n",
        "for stock in stocks:\n",
        "    if stock == 'FB': continue\n",
        "    print (stock)"
      ],
      "execution_count": 135,
      "outputs": [
        {
          "output_type": "stream",
          "name": "stdout",
          "text": [
            "AAPL\n",
            "GOOG\n",
            "IBM\n",
            "F\n",
            "V\n",
            "G\n",
            "GE\n"
          ]
        }
      ]
    },
    {
      "cell_type": "code",
      "metadata": {
        "colab": {
          "base_uri": "https://localhost:8080/"
        },
        "id": "Q06RxTaECm1B",
        "outputId": "bee18e60-a70f-42af-de31-7f780f82a41e"
      },
      "source": [
        "stocks = ['AAPL','GOOG','IBM','FB','F','V', 'G', 'GE']\n",
        "for stock in stocks:\n",
        "    if stock == 'v': continue\n",
        "    print (stock)"
      ],
      "execution_count": 136,
      "outputs": [
        {
          "output_type": "stream",
          "name": "stdout",
          "text": [
            "AAPL\n",
            "GOOG\n",
            "IBM\n",
            "FB\n",
            "F\n",
            "V\n",
            "G\n",
            "GE\n"
          ]
        }
      ]
    },
    {
      "cell_type": "markdown",
      "metadata": {
        "id": "UqXWC6lEDDFc"
      },
      "source": [
        "#**List Comprehension**\n",
        "List comprehension is a Pythonic way to create lists. Common applications are to make new lists where each element is the result of some operations applied to each member of another sequence. For example, if we want to create a list of squares using for loop:"
      ]
    },
    {
      "cell_type": "code",
      "metadata": {
        "colab": {
          "base_uri": "https://localhost:8080/"
        },
        "id": "P7EZpBgqDE-q",
        "outputId": "47688abb-b3e4-45c2-b635-cb5900eed2f4"
      },
      "source": [
        "squares = []\n",
        "for i in [1,2,3,4,5]:\n",
        "    squares.append(i**2)\n",
        "print (squares)"
      ],
      "execution_count": 137,
      "outputs": [
        {
          "output_type": "stream",
          "name": "stdout",
          "text": [
            "[1, 4, 9, 16, 25]\n"
          ]
        }
      ]
    },
    {
      "cell_type": "code",
      "metadata": {
        "colab": {
          "base_uri": "https://localhost:8080/"
        },
        "id": "ol5hMCkEDOK5",
        "outputId": "5e225f09-e52c-4658-c69f-25496b3f2ed5"
      },
      "source": [
        "cubes = []\n",
        "for i in [1,2,3,4,5]:\n",
        "    cubes.append(i**3)\n",
        "print (cubes)"
      ],
      "execution_count": 138,
      "outputs": [
        {
          "output_type": "stream",
          "name": "stdout",
          "text": [
            "[1, 8, 27, 64, 125]\n"
          ]
        }
      ]
    },
    {
      "cell_type": "markdown",
      "metadata": {
        "id": "lM-qlEYJDWQ4"
      },
      "source": [
        "Using list comprehension:"
      ]
    },
    {
      "cell_type": "code",
      "metadata": {
        "colab": {
          "base_uri": "https://localhost:8080/"
        },
        "id": "cIN36grMDXvo",
        "outputId": "3f58a5f9-6310-412e-d064-d8d8db548b12"
      },
      "source": [
        "foo = [1,2,3,4,5]\n",
        "squares = [x**2 for x in foo]\n",
        "print (squares)"
      ],
      "execution_count": 139,
      "outputs": [
        {
          "output_type": "stream",
          "name": "stdout",
          "text": [
            "[1, 4, 9, 16, 25]\n"
          ]
        }
      ]
    },
    {
      "cell_type": "code",
      "metadata": {
        "colab": {
          "base_uri": "https://localhost:8080/"
        },
        "id": "MX6wOk9lDew_",
        "outputId": "4722ff25-2b29-4107-ca47-3330fd190edd"
      },
      "source": [
        "foo = [1,2,3,4,5]\n",
        "cubes = [x**3 for x in foo]\n",
        "print (cubes)"
      ],
      "execution_count": 140,
      "outputs": [
        {
          "output_type": "stream",
          "name": "stdout",
          "text": [
            "[1, 8, 27, 64, 125]\n"
          ]
        }
      ]
    },
    {
      "cell_type": "markdown",
      "metadata": {
        "id": "S4HLhJNHDllA"
      },
      "source": [
        "Recall the example above where we used a for loop to select stocks. Here we use list comprehension:"
      ]
    },
    {
      "cell_type": "code",
      "metadata": {
        "colab": {
          "base_uri": "https://localhost:8080/"
        },
        "id": "1ZeMbllIDpZh",
        "outputId": "8ac10b22-8377-4b8f-ba28-1ec56ac9e9e2"
      },
      "source": [
        "stocks = ['AAPL','GOOG','IBM','FB','F','V', 'G', 'GE']\n",
        "selected = ['AAPL','IBM']\n",
        "new_list = [x for x in stocks if x not in selected]\n",
        "print (new_list)"
      ],
      "execution_count": 141,
      "outputs": [
        {
          "output_type": "stream",
          "name": "stdout",
          "text": [
            "['GOOG', 'FB', 'F', 'V', 'G', 'GE']\n"
          ]
        }
      ]
    },
    {
      "cell_type": "code",
      "metadata": {
        "colab": {
          "base_uri": "https://localhost:8080/"
        },
        "id": "ZiTZZm4CDzQo",
        "outputId": "4529f353-59c7-4e74-e224-62553fb2f05d"
      },
      "source": [
        "stocks = ['AAPL','GOOG','IBM','FB','F','V', 'G', 'GE']\n",
        "selected = ['AAPL','IBM','GOOG','FB']\n",
        "new_list = [x for x in stocks if x not in selected]\n",
        "print (new_list)"
      ],
      "execution_count": 142,
      "outputs": [
        {
          "output_type": "stream",
          "name": "stdout",
          "text": [
            "['F', 'V', 'G', 'GE']\n"
          ]
        }
      ]
    },
    {
      "cell_type": "markdown",
      "metadata": {
        "id": "xHRfhJrrEBtT"
      },
      "source": [
        " A list comprehension consists of square brackets containing an expression followed by a \"for\" clause, and possibly \"for\" or \"if\" clauses. For example:"
      ]
    },
    {
      "cell_type": "code",
      "metadata": {
        "colab": {
          "base_uri": "https://localhost:8080/"
        },
        "id": "5OdFkiZkEDQx",
        "outputId": "688c8e74-62c1-415b-b133-d3437add69a8"
      },
      "source": [
        "print ([(x, y) for x in [1,2,3] for y in [3,1,4] if x != y])\n",
        "print ([str(x) + ' vs ' + str(y) for x in ['AAPL','GOOG','IBM','FB']\n",
        "                                for y in ['F','V','G','GE'] if x != y])"
      ],
      "execution_count": 143,
      "outputs": [
        {
          "output_type": "stream",
          "name": "stdout",
          "text": [
            "[(1, 3), (1, 4), (2, 3), (2, 1), (2, 4), (3, 1), (3, 4)]\n",
            "['AAPL vs F', 'AAPL vs V', 'AAPL vs G', 'AAPL vs GE', 'GOOG vs F', 'GOOG vs V', 'GOOG vs G', 'GOOG vs GE', 'IBM vs F', 'IBM vs V', 'IBM vs G', 'IBM vs GE', 'FB vs F', 'FB vs V', 'FB vs G', 'FB vs GE']\n"
          ]
        }
      ]
    },
    {
      "cell_type": "code",
      "metadata": {
        "colab": {
          "base_uri": "https://localhost:8080/"
        },
        "id": "36dwJ2pTESIv",
        "outputId": "eab5f29c-c6c5-41fd-bacd-f401dfc64eff"
      },
      "source": [
        "print ([(x, y) for x in [1,2,3,6,8,9] for y in [3,1,4,5,6,9,8] if x != y])\n",
        "print ([str(x) + ' vs ' + str(y) for x in ['AAPL','GOOG','IBM','FB','H']\n",
        "                                for y in ['F','V','G','GE','j'] if x != y])"
      ],
      "execution_count": 144,
      "outputs": [
        {
          "output_type": "stream",
          "name": "stdout",
          "text": [
            "[(1, 3), (1, 4), (1, 5), (1, 6), (1, 9), (1, 8), (2, 3), (2, 1), (2, 4), (2, 5), (2, 6), (2, 9), (2, 8), (3, 1), (3, 4), (3, 5), (3, 6), (3, 9), (3, 8), (6, 3), (6, 1), (6, 4), (6, 5), (6, 9), (6, 8), (8, 3), (8, 1), (8, 4), (8, 5), (8, 6), (8, 9), (9, 3), (9, 1), (9, 4), (9, 5), (9, 6), (9, 8)]\n",
            "['AAPL vs F', 'AAPL vs V', 'AAPL vs G', 'AAPL vs GE', 'AAPL vs j', 'GOOG vs F', 'GOOG vs V', 'GOOG vs G', 'GOOG vs GE', 'GOOG vs j', 'IBM vs F', 'IBM vs V', 'IBM vs G', 'IBM vs GE', 'IBM vs j', 'FB vs F', 'FB vs V', 'FB vs G', 'FB vs GE', 'FB vs j', 'H vs F', 'H vs V', 'H vs G', 'H vs GE', 'H vs j']\n"
          ]
        }
      ]
    },
    {
      "cell_type": "markdown",
      "metadata": {
        "id": "I-_0Wbo4Epj2"
      },
      "source": [
        "List comprehension is an elegant way to organize one or more for loops when creating a list.\n",
        "\n",
        "#**Summary**\n",
        "This chapter has introduced logical operations, loops, and list comprehension. In the next chapter, we will introduce functions and object-oriented programming, which will enable us to make our codes clean and versatile."
      ]
    },
    {
      "cell_type": "markdown",
      "metadata": {
        "id": "Qv1caupEEqqF"
      },
      "source": [
        "#**03 Functions and Objective-Oriented Programming**\n",
        "#**Introduction**\n",
        "In the last tutorial we introduced logical operations, loops and list comprehension. We will introduce functions and object-oriented programming in this chapter, which will enable us to build complex algorithms in more flexible ways.\n",
        "\n",
        "#**Functions**\n",
        "A function is a reusable block of code. We can use a function to output a value, or do anything else we want. We can easily define our own function by using the keyword \"def\"."
      ]
    },
    {
      "cell_type": "code",
      "metadata": {
        "colab": {
          "base_uri": "https://localhost:8080/"
        },
        "id": "nb9U7ReXEsZn",
        "outputId": "1566077c-0258-4891-f441-a8a4203a9880"
      },
      "source": [
        "def product(x,y):\n",
        "    return x*y\n",
        "print (product(2,3))\n",
        "print (product(5,10))"
      ],
      "execution_count": 145,
      "outputs": [
        {
          "output_type": "stream",
          "name": "stdout",
          "text": [
            "6\n",
            "50\n"
          ]
        }
      ]
    },
    {
      "cell_type": "code",
      "metadata": {
        "colab": {
          "base_uri": "https://localhost:8080/"
        },
        "id": "JNK97ThGE7F7",
        "outputId": "b4851d2f-1edb-42e9-a8ee-00181553c84b"
      },
      "source": [
        "def product(x,y):\n",
        "    return x**y\n",
        "print (product(2,4))\n",
        "print (product(5,8))"
      ],
      "execution_count": 146,
      "outputs": [
        {
          "output_type": "stream",
          "name": "stdout",
          "text": [
            "16\n",
            "390625\n"
          ]
        }
      ]
    },
    {
      "cell_type": "markdown",
      "metadata": {
        "id": "goSWAFeTFC2V"
      },
      "source": [
        "The keyword \"def\" is followed by the function name and the parenthesized list of formal parameters. The statements that form the body of the function start at the next line, and must be indented. The product() function above has \"x\" and \"y\" as its parameters. A function doesn't necessarily have parameters:"
      ]
    },
    {
      "cell_type": "code",
      "metadata": {
        "colab": {
          "base_uri": "https://localhost:8080/"
        },
        "id": "i6c1ZyWeFFQd",
        "outputId": "65e79a82-341f-47eb-bbad-8d17ea955b4c"
      },
      "source": [
        "def say_hi():\n",
        "    print ('Welcome to QuantConnect')\n",
        "say_hi()"
      ],
      "execution_count": 147,
      "outputs": [
        {
          "output_type": "stream",
          "name": "stdout",
          "text": [
            "Welcome to QuantConnect\n"
          ]
        }
      ]
    },
    {
      "cell_type": "code",
      "metadata": {
        "colab": {
          "base_uri": "https://localhost:8080/"
        },
        "id": "KYjmG-RTFnT8",
        "outputId": "68a3f99a-b04d-499a-eb9f-3f376319d57a"
      },
      "source": [
        "def say_burrito():\n",
        "    print ('burrito burrito')\n",
        "say_burrito()"
      ],
      "execution_count": 148,
      "outputs": [
        {
          "output_type": "stream",
          "name": "stdout",
          "text": [
            "burrito burrito\n"
          ]
        }
      ]
    },
    {
      "cell_type": "markdown",
      "metadata": {
        "id": "fThDFhv0Fvlb"
      },
      "source": [
        "##**Built-in Function**\n",
        "**range()** is a function that creates a list containing an arithmetic sequence. It's often used in for loops. The arguments must be integers. If the \"step\" argument is omitted, it defaults to 1."
      ]
    },
    {
      "cell_type": "code",
      "metadata": {
        "id": "NGRTRI1uFxP8",
        "colab": {
          "base_uri": "https://localhost:8080/"
        },
        "outputId": "69aeb24d-6f6a-46fc-ef9a-95f30fa67468"
      },
      "source": [
        "print (range(0,10))\n",
        "print (range(1, 11))\n",
        "print (range(1, 11, 2))"
      ],
      "execution_count": 149,
      "outputs": [
        {
          "output_type": "stream",
          "name": "stdout",
          "text": [
            "range(0, 10)\n",
            "range(1, 11)\n",
            "range(1, 11, 2)\n"
          ]
        }
      ]
    },
    {
      "cell_type": "code",
      "metadata": {
        "id": "zQGA6Ss9RTjB"
      },
      "source": [
        ""
      ],
      "execution_count": 149,
      "outputs": []
    },
    {
      "cell_type": "code",
      "metadata": {
        "id": "bj8ZpHmhGEKt",
        "colab": {
          "base_uri": "https://localhost:8080/"
        },
        "outputId": "2db369ae-c8c0-4eeb-c89d-e6f3bd436911"
      },
      "source": [
        "print (range(10))\n",
        "print (range(1, 12))\n",
        "print (range(1, 14, 2))"
      ],
      "execution_count": 150,
      "outputs": [
        {
          "output_type": "stream",
          "name": "stdout",
          "text": [
            "range(0, 10)\n",
            "range(1, 12)\n",
            "range(1, 14, 2)\n"
          ]
        }
      ]
    },
    {
      "cell_type": "markdown",
      "metadata": {
        "id": "_cuTrYNIHHIT"
      },
      "source": [
        "**len()** is another function used together with range() to create a for loop. This function returns the length of an object. The argument must be a sequence or a collection."
      ]
    },
    {
      "cell_type": "code",
      "metadata": {
        "id": "LX9z2sZFHItm",
        "colab": {
          "base_uri": "https://localhost:8080/"
        },
        "outputId": "c466a635-71b1-4d37-a911-52da1251e305"
      },
      "source": [
        "tickers = ['AAPL', 'GOOGL', 'IBM', 'FB', 'F', 'V', 'G', 'GE']\n",
        "print (\"The number of tickers is {}\".format(len(tickers)))\n",
        "for k in range(len(tickers)):\n",
        "    print (k + 1, tickers[k])"
      ],
      "execution_count": 151,
      "outputs": [
        {
          "output_type": "stream",
          "name": "stdout",
          "text": [
            "The number of tickers is 8\n",
            "1 AAPL\n",
            "2 GOOGL\n",
            "3 IBM\n",
            "4 FB\n",
            "5 F\n",
            "6 V\n",
            "7 G\n",
            "8 GE\n"
          ]
        }
      ]
    },
    {
      "cell_type": "code",
      "metadata": {
        "id": "Z63xA1OCHdYX",
        "colab": {
          "base_uri": "https://localhost:8080/"
        },
        "outputId": "4ae29268-b87f-4bfe-8e66-66c505a1f3c4"
      },
      "source": [
        "tickersS = ['AAPL', 'GOOGL', 'IBM', 'FB', 'F', 'V', 'G', 'GE', 'ultimo']\n",
        "print (\"The number of tickers is {}\".format(len(tickersS)))\n",
        "for k in range(len(tickersS)):\n",
        "    print (k + 1, tickersS[k])"
      ],
      "execution_count": 152,
      "outputs": [
        {
          "output_type": "stream",
          "name": "stdout",
          "text": [
            "The number of tickers is 9\n",
            "1 AAPL\n",
            "2 GOOGL\n",
            "3 IBM\n",
            "4 FB\n",
            "5 F\n",
            "6 V\n",
            "7 G\n",
            "8 GE\n",
            "9 ultimo\n"
          ]
        }
      ]
    },
    {
      "cell_type": "markdown",
      "metadata": {
        "id": "GjQ9M52zHwx0"
      },
      "source": [
        "Note: If you want to print only the tickers without those numbers, then simply write \"for ticker in tickers: print ticker\"\n",
        "\n",
        "**map()** is a function that applies a specific function to every item of a sequence or collection, and returns a list of the results."
      ]
    },
    {
      "cell_type": "code",
      "metadata": {
        "id": "UyI3zzreHyOx",
        "colab": {
          "base_uri": "https://localhost:8080/"
        },
        "outputId": "8042cb90-a5a6-4b6d-d8df-720dcc932073"
      },
      "source": [
        "x = ['AAPL','GOOG','IBM','FB','F','V', 'G', 'GE']\n",
        "print (list(map(len,x)))"
      ],
      "execution_count": 153,
      "outputs": [
        {
          "output_type": "stream",
          "name": "stdout",
          "text": [
            "[4, 4, 3, 2, 1, 1, 1, 2]\n"
          ]
        }
      ]
    },
    {
      "cell_type": "code",
      "metadata": {
        "colab": {
          "base_uri": "https://localhost:8080/"
        },
        "id": "iXBRsG5Rnrb9",
        "outputId": "55db16e8-e6e9-42e5-cb98-55c5bbc27a0e"
      },
      "source": [
        "x = ['AAPL','GOOG','IBM','FBDDD','F','VXYS', 'GSS', 'GE']\n",
        "print (list(map(len,x)))"
      ],
      "execution_count": 154,
      "outputs": [
        {
          "output_type": "stream",
          "name": "stdout",
          "text": [
            "[4, 4, 3, 5, 1, 4, 3, 2]\n"
          ]
        }
      ]
    },
    {
      "cell_type": "markdown",
      "metadata": {
        "id": "lOBljBExKqab"
      },
      "source": [
        "The **lambda** operator is a way to create small anonymous functions. These functions are just needed where they have been created. For example:\n"
      ]
    },
    {
      "cell_type": "code",
      "metadata": {
        "id": "OfJ3mqV8KssX",
        "colab": {
          "base_uri": "https://localhost:8080/"
        },
        "outputId": "2322ac14-abe0-427e-e51d-26a77c331b6d"
      },
      "source": [
        "print (list(map(lambda x: x**2, range(10))))"
      ],
      "execution_count": 155,
      "outputs": [
        {
          "output_type": "stream",
          "name": "stdout",
          "text": [
            "[0, 1, 4, 9, 16, 25, 36, 49, 64, 81]\n"
          ]
        }
      ]
    },
    {
      "cell_type": "code",
      "metadata": {
        "colab": {
          "base_uri": "https://localhost:8080/"
        },
        "id": "sQPsmkGNnNaI",
        "outputId": "85e64f34-825d-4a36-c88d-a02806e1db39"
      },
      "source": [
        "print (list(map(lambda x: x**2, range(14))))"
      ],
      "execution_count": 156,
      "outputs": [
        {
          "output_type": "stream",
          "name": "stdout",
          "text": [
            "[0, 1, 4, 9, 16, 25, 36, 49, 64, 81, 100, 121, 144, 169]\n"
          ]
        }
      ]
    },
    {
      "cell_type": "markdown",
      "metadata": {
        "id": "LrlOF_69MF7S"
      },
      "source": [
        "map() can be applied to more than one list. The lists have to have the same length."
      ]
    },
    {
      "cell_type": "code",
      "metadata": {
        "id": "kACf5lmiMIG3",
        "colab": {
          "base_uri": "https://localhost:8080/"
        },
        "outputId": "f680279f-b4ec-42e4-8935-f604b8f01bbc"
      },
      "source": [
        "list(map(lambda x, y: x+y, [1,2,3,4,5], [5,4,3,2,1]))"
      ],
      "execution_count": 157,
      "outputs": [
        {
          "output_type": "execute_result",
          "data": {
            "text/plain": [
              "[6, 6, 6, 6, 6]"
            ]
          },
          "metadata": {},
          "execution_count": 157
        }
      ]
    },
    {
      "cell_type": "code",
      "metadata": {
        "colab": {
          "base_uri": "https://localhost:8080/"
        },
        "id": "c0O7gO-7n7ME",
        "outputId": "ca972bf0-f793-418b-d314-4a0a606a231b"
      },
      "source": [
        "list(map(lambda x, y: x+y, [1,2,9,4,5], [5,4,3,6,12]))"
      ],
      "execution_count": 158,
      "outputs": [
        {
          "output_type": "execute_result",
          "data": {
            "text/plain": [
              "[6, 6, 12, 10, 17]"
            ]
          },
          "metadata": {},
          "execution_count": 158
        }
      ]
    },
    {
      "cell_type": "markdown",
      "metadata": {
        "id": "zM4NKs9AMfCj"
      },
      "source": [
        "**sorted()** takes a list or set and returns a new sorted list"
      ]
    },
    {
      "cell_type": "code",
      "metadata": {
        "id": "W4tjCao2Mgbr",
        "colab": {
          "base_uri": "https://localhost:8080/"
        },
        "outputId": "66a7158c-2076-44e7-d8d4-ada26de78298"
      },
      "source": [
        "sorted([5,2,3,4,1])"
      ],
      "execution_count": 159,
      "outputs": [
        {
          "output_type": "execute_result",
          "data": {
            "text/plain": [
              "[1, 2, 3, 4, 5]"
            ]
          },
          "metadata": {},
          "execution_count": 159
        }
      ]
    },
    {
      "cell_type": "code",
      "metadata": {
        "id": "WJyqlhA5Mkk7",
        "colab": {
          "base_uri": "https://localhost:8080/"
        },
        "outputId": "a198d49b-ac8b-4b46-bf55-b20341b9891f"
      },
      "source": [
        "sorted([5,2,3,4,1,8,19])"
      ],
      "execution_count": 160,
      "outputs": [
        {
          "output_type": "execute_result",
          "data": {
            "text/plain": [
              "[1, 2, 3, 4, 5, 8, 19]"
            ]
          },
          "metadata": {},
          "execution_count": 160
        }
      ]
    },
    {
      "cell_type": "markdown",
      "metadata": {
        "id": "zhDLgG3mMnIt"
      },
      "source": [
        "We can add a \"key\" parameter to specify a function to be called on each list element prior to making comparisons. For example:"
      ]
    },
    {
      "cell_type": "code",
      "metadata": {
        "id": "4RDDQEmkMotg",
        "colab": {
          "base_uri": "https://localhost:8080/"
        },
        "outputId": "c42ee7e2-9fdc-4577-e1a1-606340b76294"
      },
      "source": [
        "price_list = [('AAPL', 144.09), ('GOOGL', 911.71), ('MSFT', 69), ('FB', 150), ('WMT', 75.32)]\n",
        "sorted(price_list, key = lambda x: x[1])"
      ],
      "execution_count": 161,
      "outputs": [
        {
          "output_type": "execute_result",
          "data": {
            "text/plain": [
              "[('MSFT', 69),\n",
              " ('WMT', 75.32),\n",
              " ('AAPL', 144.09),\n",
              " ('FB', 150),\n",
              " ('GOOGL', 911.71)]"
            ]
          },
          "metadata": {},
          "execution_count": 161
        }
      ]
    },
    {
      "cell_type": "code",
      "metadata": {
        "id": "lA-oRDp8MwHK",
        "colab": {
          "base_uri": "https://localhost:8080/"
        },
        "outputId": "d646ac51-40ce-499c-a219-41bffdd15def"
      },
      "source": [
        "price_list = [('AAPL', 144.09), ('GOOGL', 911.71), ('MSFT', 69000000), ('FB', 150), ('WMT', 75.32)]\n",
        "sorted(price_list, key = lambda x: x[1])"
      ],
      "execution_count": 162,
      "outputs": [
        {
          "output_type": "execute_result",
          "data": {
            "text/plain": [
              "[('WMT', 75.32),\n",
              " ('AAPL', 144.09),\n",
              " ('FB', 150),\n",
              " ('GOOGL', 911.71),\n",
              " ('MSFT', 69000000)]"
            ]
          },
          "metadata": {},
          "execution_count": 162
        }
      ]
    },
    {
      "cell_type": "markdown",
      "metadata": {
        "id": "ZzS3zfJndrdY"
      },
      "source": [
        "By default the values are sorted by ascending order. We can change it to descending by adding an optional parameter \"reverse'."
      ]
    },
    {
      "cell_type": "code",
      "metadata": {
        "id": "dnIa5zZ_dzPN",
        "colab": {
          "base_uri": "https://localhost:8080/"
        },
        "outputId": "6aa4ebca-df82-4839-9a68-488851ee5ef3"
      },
      "source": [
        "price_list = [('AAPL', 144.09), ('GOOGL', 911.71), ('MSFT', 69), ('FB', 150), ('WMT', 75.32)]\n",
        "sorted(price_list, key = lambda x: x[1])"
      ],
      "execution_count": 163,
      "outputs": [
        {
          "output_type": "execute_result",
          "data": {
            "text/plain": [
              "[('MSFT', 69),\n",
              " ('WMT', 75.32),\n",
              " ('AAPL', 144.09),\n",
              " ('FB', 150),\n",
              " ('GOOGL', 911.71)]"
            ]
          },
          "metadata": {},
          "execution_count": 163
        }
      ]
    },
    {
      "cell_type": "code",
      "metadata": {
        "id": "EtxY-ZjBeBKI",
        "colab": {
          "base_uri": "https://localhost:8080/"
        },
        "outputId": "056f673e-e3c7-4ac2-b4e8-4290aafceb0a"
      },
      "source": [
        "price_list = [('AAPL', 144.09), ('GOOGL', 911.71), ('slp', 692), ('AXS', 150000), ('WMT', 75.32)]\n",
        "sorted(price_list, key = lambda x: x[1])"
      ],
      "execution_count": 164,
      "outputs": [
        {
          "output_type": "execute_result",
          "data": {
            "text/plain": [
              "[('WMT', 75.32),\n",
              " ('AAPL', 144.09),\n",
              " ('slp', 692),\n",
              " ('GOOGL', 911.71),\n",
              " ('AXS', 150000)]"
            ]
          },
          "metadata": {},
          "execution_count": 164
        }
      ]
    },
    {
      "cell_type": "markdown",
      "metadata": {
        "id": "PMVoW5K4FQet"
      },
      "source": [
        "Lists also have a function list.sort(). This function takes the same \"key\" and \"reverse\" arguments as sorted(), but it doesn't return a new list."
      ]
    },
    {
      "cell_type": "code",
      "metadata": {
        "colab": {
          "base_uri": "https://localhost:8080/"
        },
        "id": "_NaBsVG6FSQV",
        "outputId": "8b110d73-4883-435f-bfa4-b8023cd83b64"
      },
      "source": [
        "price_list = [('AAPL', 144.09), ('GOOGL', 911.71), ('MSFT', 69), ('FB', 150), ('WMT', 75.32)]\n",
        "sorted(price_list, key = lambda x: x[1], reverse = True)"
      ],
      "execution_count": 165,
      "outputs": [
        {
          "output_type": "execute_result",
          "data": {
            "text/plain": [
              "[('GOOGL', 911.71),\n",
              " ('FB', 150),\n",
              " ('AAPL', 144.09),\n",
              " ('WMT', 75.32),\n",
              " ('MSFT', 69)]"
            ]
          },
          "metadata": {},
          "execution_count": 165
        }
      ]
    },
    {
      "cell_type": "code",
      "metadata": {
        "colab": {
          "base_uri": "https://localhost:8080/"
        },
        "id": "sS83TSwqFXlv",
        "outputId": "cecec3de-8107-485c-9e1a-b1a4e896aa97"
      },
      "source": [
        "price_list = [('AAPL', 144.09), ('GOOGL', 911.71), ('slp', 692), ('FB', 150), ('AXS', 150000)]\n",
        "sorted(price_list, key = lambda x: x[1], reverse = True)"
      ],
      "execution_count": 166,
      "outputs": [
        {
          "output_type": "execute_result",
          "data": {
            "text/plain": [
              "[('AXS', 150000),\n",
              " ('GOOGL', 911.71),\n",
              " ('slp', 692),\n",
              " ('FB', 150),\n",
              " ('AAPL', 144.09)]"
            ]
          },
          "metadata": {},
          "execution_count": 166
        }
      ]
    },
    {
      "cell_type": "markdown",
      "metadata": {
        "id": "0-0ej2niGAI3"
      },
      "source": [
        "#**Object-Oriented Programming**\n",
        "Python is an object-oriented programming language. It's important to understand the concept of \"objects\" because almost every kind of data from QuantConnect API is an object.\n",
        "\n",
        "#Class\n",
        "A class is a type of data, just like a string, float, or list. When we create an object of that data type, we call it an instance of a class.\n",
        "\n",
        "In Python, everything is an object - everything is an instance of some class. The data stored inside an object are called attributes, and the functions which are associated with the object are called methods.\n",
        "\n",
        "For example, as mentioned above, a list is an object of the \"list\" class, and it has a method list.sort().\n",
        "\n",
        "We can create our own objects by defining a class. We would do this when it's helpful to group certain functions together. For example, we define a class named \"Stock\" here:"
      ]
    },
    {
      "cell_type": "code",
      "metadata": {
        "id": "kKAO3Nb4GE8E"
      },
      "source": [
        "class Stock:\n",
        "    def __init__(self, ticker, open, close, volume):\n",
        "        self.ticker = ticker\n",
        "        self.open = open\n",
        "        self.close = close\n",
        "        self.volume = volume\n",
        "        self.rate_return = float(close)/open - 1\n",
        "\n",
        "    def update(self, open, close):\n",
        "        self.open = open\n",
        "        self.close = close\n",
        "        self.rate_return = float(self.close)/self.open - 1\n",
        "\n",
        "    def print_return(self):\n",
        "        print (self.rate_return)\n",
        "\n",
        "     \n",
        "    "
      ],
      "execution_count": 167,
      "outputs": []
    },
    {
      "cell_type": "markdown",
      "metadata": {
        "id": "1YWv7zcRNnm8"
      },
      "source": [
        "The \"Stock\" class has attributes \"ticker\", \"open\", \"close\", \"volume\" and \"rate_return\". Inside the class body, the first method is called init, which is a special method. When we create a new instance of the class, the init method is immediately executed with all the parameters that we pass to the \"Stock\" object. The purpose of this method is to set up a new \"Stock\" object using data we have provided.\n",
        "\n",
        "Here we create two Stock objects named \"apple\" and \"google\""
      ]
    },
    {
      "cell_type": "code",
      "metadata": {
        "id": "ke0hnJsKIazF"
      },
      "source": [
        "apple  = Stock('AAPL', 143.69, 144.09, 20109375)\n",
        "google = Stock('GOOGL', 898.7, 911.7, 1561616)"
      ],
      "execution_count": 168,
      "outputs": []
    },
    {
      "cell_type": "markdown",
      "metadata": {
        "id": "ZKIB7yrgNqpA"
      },
      "source": [
        "Stock objects also have two other methods: update() and print_return(). We can access the attribues of a Stock object and call its methods:"
      ]
    },
    {
      "cell_type": "code",
      "metadata": {
        "colab": {
          "base_uri": "https://localhost:8080/"
        },
        "id": "lkpaWGQrIe0s",
        "outputId": "a535cdab-5442-4507-bc3b-c22039b2a5ec"
      },
      "source": [
        "apple.ticker \n",
        "google.print_return() \n",
        "google.update(912.8,913.4)\n",
        "google.print_return()"
      ],
      "execution_count": 169,
      "outputs": [
        {
          "output_type": "stream",
          "name": "stdout",
          "text": [
            "0.014465338822744034\n",
            "0.0006573181419806673\n"
          ]
        }
      ]
    },
    {
      "cell_type": "code",
      "metadata": {
        "id": "E9RnTel9JmOe"
      },
      "source": [
        "slp  = Stock('SLP', 138.9, 166.09, 9898)\n",
        "AXS = Stock('AXS', 89767.7, 31132.7, 12356)"
      ],
      "execution_count": 170,
      "outputs": []
    },
    {
      "cell_type": "code",
      "metadata": {
        "colab": {
          "base_uri": "https://localhost:8080/"
        },
        "id": "Vuh-8AZcJ7Wh",
        "outputId": "4e87d260-7c45-493a-8050-46b8b4aa5d48"
      },
      "source": [
        "slp.ticker \n",
        "AXS.print_return() \n",
        "AXS.update(912.8,913.4)\n",
        "AXS.print_return()"
      ],
      "execution_count": 171,
      "outputs": [
        {
          "output_type": "stream",
          "name": "stdout",
          "text": [
            "-0.6531859455015556\n",
            "0.0006573181419806673\n"
          ]
        }
      ]
    },
    {
      "cell_type": "markdown",
      "metadata": {
        "id": "O6QQHt0eNvhf"
      },
      "source": [
        "By calling the update() function, we updated the open and close prices of a stock. Please note that when we use the attributes or call the methods inside a class, we need to specify them as self.attribute or self.method(), otherwise Python will deem them as global variables and thus raise an error.\n",
        "\n",
        "We can add an attribute to an object anywhere:"
      ]
    },
    {
      "cell_type": "markdown",
      "metadata": {
        "id": "OSi7VK0KKOZy"
      },
      "source": [
        "."
      ]
    },
    {
      "cell_type": "code",
      "metadata": {
        "colab": {
          "base_uri": "https://localhost:8080/",
          "height": 35
        },
        "id": "k_IhE_9qKSlK",
        "outputId": "6381d51b-363b-415e-e25a-bca572133f9a"
      },
      "source": [
        "apple.ceo = 'Tim Cook'\n",
        "apple.ceo"
      ],
      "execution_count": 172,
      "outputs": [
        {
          "output_type": "execute_result",
          "data": {
            "application/vnd.google.colaboratory.intrinsic+json": {
              "type": "string"
            },
            "text/plain": [
              "'Tim Cook'"
            ]
          },
          "metadata": {},
          "execution_count": 172
        }
      ]
    },
    {
      "cell_type": "code",
      "metadata": {
        "colab": {
          "base_uri": "https://localhost:8080/",
          "height": 35
        },
        "id": "Rk-zhQ6TKcfv",
        "outputId": "5a58fb90-007d-42dc-c769-62b38630f4f3"
      },
      "source": [
        "slp.ceo ='uby'\n",
        "slp.ceo"
      ],
      "execution_count": 173,
      "outputs": [
        {
          "output_type": "execute_result",
          "data": {
            "application/vnd.google.colaboratory.intrinsic+json": {
              "type": "string"
            },
            "text/plain": [
              "'uby'"
            ]
          },
          "metadata": {},
          "execution_count": 173
        }
      ]
    },
    {
      "cell_type": "markdown",
      "metadata": {
        "id": "DfPDoDAYKvgu"
      },
      "source": [
        "We can check what names (i.e. attributes and methods) are defined on an object using the dir() function:"
      ]
    },
    {
      "cell_type": "code",
      "metadata": {
        "colab": {
          "base_uri": "https://localhost:8080/"
        },
        "id": "LeISAcK5KyCG",
        "outputId": "bdb7420e-ee40-4806-a035-80157ae7eb4a"
      },
      "source": [
        "dir(apple)"
      ],
      "execution_count": 174,
      "outputs": [
        {
          "output_type": "execute_result",
          "data": {
            "text/plain": [
              "['__class__',\n",
              " '__delattr__',\n",
              " '__dict__',\n",
              " '__dir__',\n",
              " '__doc__',\n",
              " '__eq__',\n",
              " '__format__',\n",
              " '__ge__',\n",
              " '__getattribute__',\n",
              " '__gt__',\n",
              " '__hash__',\n",
              " '__init__',\n",
              " '__init_subclass__',\n",
              " '__le__',\n",
              " '__lt__',\n",
              " '__module__',\n",
              " '__ne__',\n",
              " '__new__',\n",
              " '__reduce__',\n",
              " '__reduce_ex__',\n",
              " '__repr__',\n",
              " '__setattr__',\n",
              " '__sizeof__',\n",
              " '__str__',\n",
              " '__subclasshook__',\n",
              " '__weakref__',\n",
              " 'ceo',\n",
              " 'close',\n",
              " 'open',\n",
              " 'print_return',\n",
              " 'rate_return',\n",
              " 'ticker',\n",
              " 'update',\n",
              " 'volume']"
            ]
          },
          "metadata": {},
          "execution_count": 174
        }
      ]
    },
    {
      "cell_type": "code",
      "metadata": {
        "colab": {
          "base_uri": "https://localhost:8080/"
        },
        "id": "TEbjYpJ4K3ku",
        "outputId": "2ffcf8fb-ffd3-426f-aaac-f24a31021a51"
      },
      "source": [
        "dir(slp)"
      ],
      "execution_count": 175,
      "outputs": [
        {
          "output_type": "execute_result",
          "data": {
            "text/plain": [
              "['__class__',\n",
              " '__delattr__',\n",
              " '__dict__',\n",
              " '__dir__',\n",
              " '__doc__',\n",
              " '__eq__',\n",
              " '__format__',\n",
              " '__ge__',\n",
              " '__getattribute__',\n",
              " '__gt__',\n",
              " '__hash__',\n",
              " '__init__',\n",
              " '__init_subclass__',\n",
              " '__le__',\n",
              " '__lt__',\n",
              " '__module__',\n",
              " '__ne__',\n",
              " '__new__',\n",
              " '__reduce__',\n",
              " '__reduce_ex__',\n",
              " '__repr__',\n",
              " '__setattr__',\n",
              " '__sizeof__',\n",
              " '__str__',\n",
              " '__subclasshook__',\n",
              " '__weakref__',\n",
              " 'ceo',\n",
              " 'close',\n",
              " 'open',\n",
              " 'print_return',\n",
              " 'rate_return',\n",
              " 'ticker',\n",
              " 'update',\n",
              " 'volume']"
            ]
          },
          "metadata": {},
          "execution_count": 175
        }
      ]
    },
    {
      "cell_type": "markdown",
      "metadata": {
        "id": "6SLGD9rSLA-I"
      },
      "source": [
        "##**Inheritance**\n",
        "Inheritance is a way of arranging classes in a hierarchy from the most general to the most specific. A \"child\" class is a more specific type of a \"parent\" class because a child class will inherit all the attribues and methods of its parent. For example, we define a class named \"Child\" which inherits \"Stock\":"
      ]
    },
    {
      "cell_type": "code",
      "metadata": {
        "id": "PP2W9xPALCrZ"
      },
      "source": [
        "class Child(Stock):\n",
        "    def __init__(self, name):\n",
        "        self.name = name"
      ],
      "execution_count": 176,
      "outputs": []
    },
    {
      "cell_type": "code",
      "metadata": {
        "colab": {
          "base_uri": "https://localhost:8080/"
        },
        "id": "g3sirC93LFZe",
        "outputId": "964187ea-4ad9-43f7-d1d7-f791a6eede41"
      },
      "source": [
        "aa = Child('AA')\n",
        "print (aa.name)\n",
        "aa.update(100, 102)\n",
        "print (aa.open)\n",
        "print (aa.close)\n",
        "print (aa.print_return())\n"
      ],
      "execution_count": 177,
      "outputs": [
        {
          "output_type": "stream",
          "name": "stdout",
          "text": [
            "AA\n",
            "100\n",
            "102\n",
            "0.020000000000000018\n",
            "None\n"
          ]
        }
      ]
    },
    {
      "cell_type": "code",
      "metadata": {
        "colab": {
          "base_uri": "https://localhost:8080/"
        },
        "id": "C2edlJCiLelJ",
        "outputId": "6664221e-e25a-4ebb-ecac-a5cb61a6b61a"
      },
      "source": [
        "slp = Child('SLP')\n",
        "print (aa.name)\n",
        "aa.update(19, 10222)\n",
        "print (aa.open)\n",
        "print (aa.close)\n",
        "print (aa.print_return())"
      ],
      "execution_count": 178,
      "outputs": [
        {
          "output_type": "stream",
          "name": "stdout",
          "text": [
            "AA\n",
            "19\n",
            "10222\n",
            "537.0\n",
            "None\n"
          ]
        }
      ]
    },
    {
      "cell_type": "markdown",
      "metadata": {
        "id": "49ZBGEHDMMMz"
      },
      "source": [
        "As seen above, the new class Child has inherited the methods from Stock.\n",
        "\n",
        "#**Summary**\n",
        "In this chapter we have introduced functions and classes. When we write a QuantConnect algorithm, we would define our algorithm as a class (QCAlgorithm). This means our algorithm inherited the QC API methods from QCAlgorithm class.\n",
        "\n",
        "In the next chapter, we will introduce NumPy and Pandas, which enable us to conduct scientific calculations in Python."
      ]
    },
    {
      "cell_type": "markdown",
      "metadata": {
        "id": "y0z92QWMOb7Q"
      },
      "source": [
        "#**04 NumPy and Basic Pandas**\n",
        "#**Introduction**\n",
        "Now that we have introduced the fundamentals of Python, it's time to learn about NumPy and Pandas.\n",
        "\n",
        "#**NumPy**\n",
        "NumPy is the core library for scientific computing in Python. It provides a high-performance multidimensional array object, and tools for working with these arrays. It also has strong integration with Pandas, which is another powerful tool for manipulating financial data.\n",
        "\n",
        "Python packages like NumPy and Pandas contain classes and methods which we can use by importing the package:\n",
        "\n"
      ]
    },
    {
      "cell_type": "code",
      "metadata": {
        "id": "uWcKRdXOMdRP"
      },
      "source": [
        "import numpy as np"
      ],
      "execution_count": 179,
      "outputs": []
    },
    {
      "cell_type": "markdown",
      "metadata": {
        "id": "NDEjEXAIMhP9"
      },
      "source": [
        "#**Basic NumPy Arrays**\n",
        "A NumPy array is a grid of values, all of the same type, and is indexed by a tuple of nonnegative integers. Here we make an array by passing a list of Apple stock prices:"
      ]
    },
    {
      "cell_type": "code",
      "metadata": {
        "colab": {
          "base_uri": "https://localhost:8080/"
        },
        "id": "d6e5geX1Mj9K",
        "outputId": "6d143b86-ec94-4c55-e3cf-28cd4f1c1a7d"
      },
      "source": [
        "price_list = [143.73, 145.83, 143.68, 144.02, 143.5, 142.62]\n",
        "price_array = np.array(price_list)\n",
        "print (price_array, type(price_array))"
      ],
      "execution_count": 180,
      "outputs": [
        {
          "output_type": "stream",
          "name": "stdout",
          "text": [
            "[143.73 145.83 143.68 144.02 143.5  142.62] <class 'numpy.ndarray'>\n"
          ]
        }
      ]
    },
    {
      "cell_type": "code",
      "metadata": {
        "colab": {
          "base_uri": "https://localhost:8080/"
        },
        "id": "RHApv5g6M4ER",
        "outputId": "ee0c97e7-eb17-4aad-d934-3cad45f3c3cf"
      },
      "source": [
        "price_listS = [3234.73, 45.83, 4676.68, 1343.02, 68.5, 2323.62]\n",
        "price_arrayS = np.array(price_listS)\n",
        "print (price_arrayS, type(price_arrayS))"
      ],
      "execution_count": 181,
      "outputs": [
        {
          "output_type": "stream",
          "name": "stdout",
          "text": [
            "[3234.73   45.83 4676.68 1343.02   68.5  2323.62] <class 'numpy.ndarray'>\n"
          ]
        }
      ]
    },
    {
      "cell_type": "markdown",
      "metadata": {
        "id": "d17qSercMy8p"
      },
      "source": [
        "Notice that the type of array is \"ndarray\" which is a multi-dimensional array. If we pass np.array() a list of lists, it will create a 2-dimensional array."
      ]
    },
    {
      "cell_type": "code",
      "metadata": {
        "colab": {
          "base_uri": "https://localhost:8080/"
        },
        "id": "cEeI90ZFM0FN",
        "outputId": "2ec10073-6b7f-4ef1-b306-f904729a977d"
      },
      "source": [
        "Ar = np.array([[1,3], [2,4]])\n",
        "print (Ar, type(Ar))"
      ],
      "execution_count": 221,
      "outputs": [
        {
          "output_type": "stream",
          "name": "stdout",
          "text": [
            "[[1 3]\n",
            " [2 4]] <class 'numpy.ndarray'>\n"
          ]
        }
      ]
    },
    {
      "cell_type": "code",
      "metadata": {
        "colab": {
          "base_uri": "https://localhost:8080/"
        },
        "id": "1pG0EsxKNbNz",
        "outputId": "5dcbef87-a986-4843-e091-2f52e98d8025"
      },
      "source": [
        "Ars = np.array([[15,8], [5,43], [6,9]])\n",
        "print (Ars, type(Ars))"
      ],
      "execution_count": 183,
      "outputs": [
        {
          "output_type": "stream",
          "name": "stdout",
          "text": [
            "[[15  8]\n",
            " [ 5 43]\n",
            " [ 6  9]] <class 'numpy.ndarray'>\n"
          ]
        }
      ]
    },
    {
      "cell_type": "markdown",
      "metadata": {
        "id": "lAPxqtTONseO"
      },
      "source": [
        "We get the dimensions of an ndarray using the .shape attribute:"
      ]
    },
    {
      "cell_type": "code",
      "metadata": {
        "colab": {
          "base_uri": "https://localhost:8080/"
        },
        "id": "xvy5157JNvGD",
        "outputId": "f3cd8a07-695b-4fba-8027-dc10c8db8f02"
      },
      "source": [
        "print (Ar.shape)"
      ],
      "execution_count": 222,
      "outputs": [
        {
          "output_type": "stream",
          "name": "stdout",
          "text": [
            "(2, 2)\n"
          ]
        }
      ]
    },
    {
      "cell_type": "code",
      "metadata": {
        "colab": {
          "base_uri": "https://localhost:8080/"
        },
        "id": "nO5XWkW8N1aO",
        "outputId": "b31bf2e3-b8fb-482c-de52-17f59adaaace"
      },
      "source": [
        "print (Ars.shape)"
      ],
      "execution_count": 185,
      "outputs": [
        {
          "output_type": "stream",
          "name": "stdout",
          "text": [
            "(3, 2)\n"
          ]
        }
      ]
    },
    {
      "cell_type": "markdown",
      "metadata": {
        "id": "Rab47utOOSbd"
      },
      "source": [
        "If we create an 2-dimensional array (i.e. matrix), each row can be accessed by index:"
      ]
    },
    {
      "cell_type": "code",
      "metadata": {
        "colab": {
          "base_uri": "https://localhost:8080/"
        },
        "id": "u7k8EZn-OT_W",
        "outputId": "50fd825a-d72d-4b91-ae3c-856efd2ae6ea"
      },
      "source": [
        "print (Ar[0])\n",
        "print (Ar[1])"
      ],
      "execution_count": 186,
      "outputs": [
        {
          "output_type": "stream",
          "name": "stdout",
          "text": [
            "[1 3]\n",
            "[2 4]\n"
          ]
        }
      ]
    },
    {
      "cell_type": "code",
      "metadata": {
        "colab": {
          "base_uri": "https://localhost:8080/"
        },
        "id": "p7ulQfoWOekS",
        "outputId": "af4fc3ee-8577-4b30-ce5a-7a7fae45a900"
      },
      "source": [
        "print (Ars[0])\n",
        "print (Ars[1])"
      ],
      "execution_count": 187,
      "outputs": [
        {
          "output_type": "stream",
          "name": "stdout",
          "text": [
            "[15  8]\n",
            "[ 5 43]\n"
          ]
        }
      ]
    },
    {
      "cell_type": "markdown",
      "metadata": {
        "id": "Y_ehc47tOhk-"
      },
      "source": [
        "f we want to access the matrix by column instead:"
      ]
    },
    {
      "cell_type": "code",
      "metadata": {
        "colab": {
          "base_uri": "https://localhost:8080/"
        },
        "id": "0otXa57OOlAg",
        "outputId": "ca267603-196f-43ca-cafb-8d91e94c3d4e"
      },
      "source": [
        "print ('First column:', Ar[:,0])\n",
        "print ('Second column:', Ar[:,1])"
      ],
      "execution_count": 223,
      "outputs": [
        {
          "output_type": "stream",
          "name": "stdout",
          "text": [
            "First column: [1 2]\n",
            "Second column: [3 4]\n"
          ]
        }
      ]
    },
    {
      "cell_type": "code",
      "metadata": {
        "colab": {
          "base_uri": "https://localhost:8080/"
        },
        "id": "g1xw2C6xOvuQ",
        "outputId": "e0b95350-6b69-45ba-c422-c53e4eed3583"
      },
      "source": [
        "print ('First column:', Ars[:,0])\n",
        "print ('Second column:', Ars[:,1])"
      ],
      "execution_count": 189,
      "outputs": [
        {
          "output_type": "stream",
          "name": "stdout",
          "text": [
            "First column: [15  5  6]\n",
            "Second column: [ 8 43  9]\n"
          ]
        }
      ]
    },
    {
      "cell_type": "markdown",
      "metadata": {
        "id": "NAMOyb5nPI9G"
      },
      "source": [
        "##**Array Functions**\n",
        "Some functions built in NumPy that allow us to perform calculations on arrays. For example, we can apply the natural logarithm to each element of an array:"
      ]
    },
    {
      "cell_type": "code",
      "metadata": {
        "colab": {
          "base_uri": "https://localhost:8080/"
        },
        "id": "xyGL_yNePKCR",
        "outputId": "aabec3ef-df0e-4f58-ec8f-339c27eb236f"
      },
      "source": [
        "np.log(price_array)"
      ],
      "execution_count": 224,
      "outputs": [
        {
          "output_type": "execute_result",
          "data": {
            "text/plain": [
              "array([4.96793654, 4.98244156, 4.9675886 , 4.96995218, 4.96633504,\n",
              "       4.96018375])"
            ]
          },
          "metadata": {},
          "execution_count": 224
        }
      ]
    },
    {
      "cell_type": "code",
      "metadata": {
        "colab": {
          "base_uri": "https://localhost:8080/"
        },
        "id": "8POO9Ie1PUri",
        "outputId": "9d587234-e4f0-4c53-f074-044c30d7118a"
      },
      "source": [
        "np.log(price_arrayS)"
      ],
      "execution_count": 191,
      "outputs": [
        {
          "output_type": "execute_result",
          "data": {
            "text/plain": [
              "array([8.08170074, 3.8249389 , 8.45034374, 7.20267609, 4.22683375,\n",
              "       7.75088159])"
            ]
          },
          "metadata": {},
          "execution_count": 191
        }
      ]
    },
    {
      "cell_type": "markdown",
      "metadata": {
        "id": "_ROzmYgQPe0D"
      },
      "source": [
        "Other functions return a single value:"
      ]
    },
    {
      "cell_type": "code",
      "metadata": {
        "colab": {
          "base_uri": "https://localhost:8080/"
        },
        "id": "ci417Fn9PgXP",
        "outputId": "d1a06c3b-87cf-4259-8069-f7db3e6ae553"
      },
      "source": [
        "print (np.mean(price_array))\n",
        "print (np.std(price_array))\n",
        "print (np.sum(price_array))\n",
        "print (np.max(price_array))"
      ],
      "execution_count": 225,
      "outputs": [
        {
          "output_type": "stream",
          "name": "stdout",
          "text": [
            "143.89666666666668\n",
            "0.9673790478515796\n",
            "863.38\n",
            "145.83\n"
          ]
        }
      ]
    },
    {
      "cell_type": "code",
      "metadata": {
        "colab": {
          "base_uri": "https://localhost:8080/"
        },
        "id": "y4qwHysuP_Sh",
        "outputId": "ff33d606-cd2d-4d7e-b1ef-60f19821913d"
      },
      "source": [
        "print (np.mean(price_arrayS))\n",
        "print (np.std(price_arrayS))\n",
        "print (np.sum(price_arrayS))\n",
        "print (np.max(price_arrayS))"
      ],
      "execution_count": 193,
      "outputs": [
        {
          "output_type": "stream",
          "name": "stdout",
          "text": [
            "1948.7300000000002\n",
            "1671.2883045523095\n",
            "11692.380000000001\n",
            "4676.68\n"
          ]
        }
      ]
    },
    {
      "cell_type": "markdown",
      "metadata": {
        "id": "jIWsaLIRQKkG"
      },
      "source": [
        "The functions above return the mean, standard deviation, total and maximum value of an array.\n",
        "\n",
        "#**Pandas**\n",
        "Pandas is one of the most powerful tools for dealing with financial data.\n",
        "\n",
        "First we need to import Pandas:"
      ]
    },
    {
      "cell_type": "code",
      "metadata": {
        "id": "QGIDnldhRmDE"
      },
      "source": [
        "import pandas as pd"
      ],
      "execution_count": 194,
      "outputs": []
    },
    {
      "cell_type": "markdown",
      "metadata": {
        "id": "OKk0RE2eRpkV"
      },
      "source": [
        "##**Series**\n",
        "Series is a one-dimensional labeled array capable of holding any data type (integers, strings, float, Python object, etc.)\n",
        "\n",
        "We create a Series by calling pd.Series(data), where data can be a dictionary, an array or just a scalar value."
      ]
    },
    {
      "cell_type": "code",
      "metadata": {
        "colab": {
          "base_uri": "https://localhost:8080/"
        },
        "id": "kZptOnrERqny",
        "outputId": "2bd391fd-3207-4241-efdb-d72a7a187f72"
      },
      "source": [
        "price = [143.73, 145.83, 143.68, 144.02, 143.5, 142.62]\n",
        "s = pd.Series(price)\n",
        "print (s)"
      ],
      "execution_count": 195,
      "outputs": [
        {
          "output_type": "stream",
          "name": "stdout",
          "text": [
            "0    143.73\n",
            "1    145.83\n",
            "2    143.68\n",
            "3    144.02\n",
            "4    143.50\n",
            "5    142.62\n",
            "dtype: float64\n"
          ]
        }
      ]
    },
    {
      "cell_type": "code",
      "metadata": {
        "colab": {
          "base_uri": "https://localhost:8080/"
        },
        "id": "KuiBNdx6Rx6R",
        "outputId": "8c83b3c1-e2d2-4469-d8a3-f9354c9d2a69"
      },
      "source": [
        "priceS = [134.73, 2435.83, 43443.68, 674.02, 12343.5, 7642.62]\n",
        "sS = pd.Series(priceS)\n",
        "print (sS)"
      ],
      "execution_count": 196,
      "outputs": [
        {
          "output_type": "stream",
          "name": "stdout",
          "text": [
            "0      134.73\n",
            "1     2435.83\n",
            "2    43443.68\n",
            "3      674.02\n",
            "4    12343.50\n",
            "5     7642.62\n",
            "dtype: float64\n"
          ]
        }
      ]
    },
    {
      "cell_type": "markdown",
      "metadata": {
        "id": "1SyNf5_hSA_8"
      },
      "source": [
        "We can customize the indices of a new Series:"
      ]
    },
    {
      "cell_type": "code",
      "metadata": {
        "colab": {
          "base_uri": "https://localhost:8080/"
        },
        "id": "7ALVuGb2SGF0",
        "outputId": "c69cb3c0-95f1-4c7b-f498-f99223008f98"
      },
      "source": [
        "s = pd.Series(price, index = ['a', 'b', 'c', 'd', 'e', 'f'])\n",
        "print (s)"
      ],
      "execution_count": 197,
      "outputs": [
        {
          "output_type": "stream",
          "name": "stdout",
          "text": [
            "a    143.73\n",
            "b    145.83\n",
            "c    143.68\n",
            "d    144.02\n",
            "e    143.50\n",
            "f    142.62\n",
            "dtype: float64\n"
          ]
        }
      ]
    },
    {
      "cell_type": "code",
      "metadata": {
        "colab": {
          "base_uri": "https://localhost:8080/"
        },
        "id": "OjPJSsChSN2h",
        "outputId": "8bf0d4b9-5eb8-4564-b742-c137828a48d7"
      },
      "source": [
        "sS = pd.Series(priceS, index = ['G', 'H', 'I', 'J', 'K', 'fL'])\n",
        "print (sS)\n"
      ],
      "execution_count": 198,
      "outputs": [
        {
          "output_type": "stream",
          "name": "stdout",
          "text": [
            "G       134.73\n",
            "H      2435.83\n",
            "I     43443.68\n",
            "J       674.02\n",
            "K     12343.50\n",
            "fL     7642.62\n",
            "dtype: float64\n"
          ]
        }
      ]
    },
    {
      "cell_type": "markdown",
      "metadata": {
        "id": "lBn_ApnqS3ak"
      },
      "source": [
        "\n",
        "Or we can change the indices of an existing Series:"
      ]
    },
    {
      "cell_type": "code",
      "metadata": {
        "colab": {
          "base_uri": "https://localhost:8080/"
        },
        "id": "gl2kZdPOTBDG",
        "outputId": "7fb4a1cd-7778-4665-9e03-fcb658d8e389"
      },
      "source": [
        "s.index = [6,5,4,3,2,1]\n",
        "print (s)"
      ],
      "execution_count": 199,
      "outputs": [
        {
          "output_type": "stream",
          "name": "stdout",
          "text": [
            "6    143.73\n",
            "5    145.83\n",
            "4    143.68\n",
            "3    144.02\n",
            "2    143.50\n",
            "1    142.62\n",
            "dtype: float64\n"
          ]
        }
      ]
    },
    {
      "cell_type": "code",
      "metadata": {
        "colab": {
          "base_uri": "https://localhost:8080/"
        },
        "id": "gusMIQ1VTLcb",
        "outputId": "ba7febc3-2e25-4277-85cd-c432926e095f"
      },
      "source": [
        "sS.index = [1,2,3,4,5,6]\n",
        "print (sS)"
      ],
      "execution_count": 200,
      "outputs": [
        {
          "output_type": "stream",
          "name": "stdout",
          "text": [
            "1      134.73\n",
            "2     2435.83\n",
            "3    43443.68\n",
            "4      674.02\n",
            "5    12343.50\n",
            "6     7642.62\n",
            "dtype: float64\n"
          ]
        }
      ]
    },
    {
      "cell_type": "markdown",
      "metadata": {
        "id": "fyILc_nSTZ8A"
      },
      "source": [
        "Series is like a list since it can be sliced by index:\n"
      ]
    },
    {
      "cell_type": "code",
      "metadata": {
        "colab": {
          "base_uri": "https://localhost:8080/"
        },
        "id": "yU_onKgUTbkV",
        "outputId": "369b5b44-906a-4232-ed14-3bcb4f4089b1"
      },
      "source": [
        "print (s[1:])\n",
        "print (s[:-2])"
      ],
      "execution_count": 201,
      "outputs": [
        {
          "output_type": "stream",
          "name": "stdout",
          "text": [
            "5    145.83\n",
            "4    143.68\n",
            "3    144.02\n",
            "2    143.50\n",
            "1    142.62\n",
            "dtype: float64\n",
            "6    143.73\n",
            "5    145.83\n",
            "4    143.68\n",
            "3    144.02\n",
            "dtype: float64\n"
          ]
        }
      ]
    },
    {
      "cell_type": "code",
      "metadata": {
        "colab": {
          "base_uri": "https://localhost:8080/"
        },
        "id": "ImgKboSgTndX",
        "outputId": "27bf6d99-438b-4a1e-b81c-1488fb562fd6"
      },
      "source": [
        "print (sS[1:])\n",
        "print (sS[:-2])"
      ],
      "execution_count": 202,
      "outputs": [
        {
          "output_type": "stream",
          "name": "stdout",
          "text": [
            "2     2435.83\n",
            "3    43443.68\n",
            "4      674.02\n",
            "5    12343.50\n",
            "6     7642.62\n",
            "dtype: float64\n",
            "1      134.73\n",
            "2     2435.83\n",
            "3    43443.68\n",
            "4      674.02\n",
            "dtype: float64\n"
          ]
        }
      ]
    },
    {
      "cell_type": "markdown",
      "metadata": {
        "id": "ac8pDKYUTzLm"
      },
      "source": [
        "Series is also like a dictionary whose values can be set or fetched by index label:"
      ]
    },
    {
      "cell_type": "code",
      "metadata": {
        "colab": {
          "base_uri": "https://localhost:8080/"
        },
        "id": "4d_bQTYlT0MM",
        "outputId": "c71b386a-03e8-48dd-f62f-686d1e8056c4"
      },
      "source": [
        "print (s[4])\n",
        "s[4] = 0\n",
        "print (s)"
      ],
      "execution_count": 203,
      "outputs": [
        {
          "output_type": "stream",
          "name": "stdout",
          "text": [
            "143.68\n",
            "6    143.73\n",
            "5    145.83\n",
            "4      0.00\n",
            "3    144.02\n",
            "2    143.50\n",
            "1    142.62\n",
            "dtype: float64\n"
          ]
        }
      ]
    },
    {
      "cell_type": "code",
      "metadata": {
        "colab": {
          "base_uri": "https://localhost:8080/"
        },
        "id": "UwlaQTfNUAFV",
        "outputId": "9e787ece-eecc-4370-85c9-ec091ebd689e"
      },
      "source": [
        "print (sS[4])\n",
        "sS[4] = 0\n",
        "print (sS)"
      ],
      "execution_count": 204,
      "outputs": [
        {
          "output_type": "stream",
          "name": "stdout",
          "text": [
            "674.02\n",
            "1      134.73\n",
            "2     2435.83\n",
            "3    43443.68\n",
            "4        0.00\n",
            "5    12343.50\n",
            "6     7642.62\n",
            "dtype: float64\n"
          ]
        }
      ]
    },
    {
      "cell_type": "markdown",
      "metadata": {
        "id": "nzTnqSJDUGt3"
      },
      "source": [
        "Series can also have a name attribute, which will be used when we make up a Pandas DataFrame using several series."
      ]
    },
    {
      "cell_type": "code",
      "metadata": {
        "colab": {
          "base_uri": "https://localhost:8080/"
        },
        "id": "O_h_xCHsUIkO",
        "outputId": "a8064ec6-d2db-4e4d-d4ee-dba981cb808e"
      },
      "source": [
        "s = pd.Series(price, name = 'Apple Prices')\n",
        "print (s)\n",
        "print (s.name)"
      ],
      "execution_count": 205,
      "outputs": [
        {
          "output_type": "stream",
          "name": "stdout",
          "text": [
            "0    143.73\n",
            "1    145.83\n",
            "2    143.68\n",
            "3    144.02\n",
            "4    143.50\n",
            "5    142.62\n",
            "Name: Apple Prices, dtype: float64\n",
            "Apple Prices\n"
          ]
        }
      ]
    },
    {
      "cell_type": "code",
      "metadata": {
        "colab": {
          "base_uri": "https://localhost:8080/"
        },
        "id": "tt0kDqeWUSL4",
        "outputId": "ed9185aa-bcc0-46ed-99a6-29d6eeb7ddb8"
      },
      "source": [
        "sS = pd.Series(priceS, name = 'slp Prices')\n",
        "print (sS)\n",
        "print (sS.name)"
      ],
      "execution_count": 206,
      "outputs": [
        {
          "output_type": "stream",
          "name": "stdout",
          "text": [
            "0      134.73\n",
            "1     2435.83\n",
            "2    43443.68\n",
            "3      674.02\n",
            "4    12343.50\n",
            "5     7642.62\n",
            "Name: slp Prices, dtype: float64\n",
            "slp Prices\n"
          ]
        }
      ]
    },
    {
      "cell_type": "markdown",
      "metadata": {
        "id": "4ZcoD5WnUY7I"
      },
      "source": [
        "We can get the statistical summaries of a Series:"
      ]
    },
    {
      "cell_type": "code",
      "metadata": {
        "colab": {
          "base_uri": "https://localhost:8080/"
        },
        "id": "uYLAr2GiUf3C",
        "outputId": "9f5b6519-ed0f-448f-cf0d-88f21b4b9ce0"
      },
      "source": [
        "print (s.describe())"
      ],
      "execution_count": 207,
      "outputs": [
        {
          "output_type": "stream",
          "name": "stdout",
          "text": [
            "count      6.000000\n",
            "mean     143.896667\n",
            "std        1.059711\n",
            "min      142.620000\n",
            "25%      143.545000\n",
            "50%      143.705000\n",
            "75%      143.947500\n",
            "max      145.830000\n",
            "Name: Apple Prices, dtype: float64\n"
          ]
        }
      ]
    },
    {
      "cell_type": "code",
      "metadata": {
        "colab": {
          "base_uri": "https://localhost:8080/"
        },
        "id": "p9znsdvQUi8B",
        "outputId": "c7787131-705a-4d58-fd00-d26a1c4be950"
      },
      "source": [
        "print (sS.describe())"
      ],
      "execution_count": 208,
      "outputs": [
        {
          "output_type": "stream",
          "name": "stdout",
          "text": [
            "count        6.000000\n",
            "mean     11112.396667\n",
            "std      16514.348486\n",
            "min        134.730000\n",
            "25%       1114.472500\n",
            "50%       5039.225000\n",
            "75%      11168.280000\n",
            "max      43443.680000\n",
            "Name: slp Prices, dtype: float64\n"
          ]
        }
      ]
    },
    {
      "cell_type": "markdown",
      "metadata": {
        "id": "VFbR_4x9UyCH"
      },
      "source": [
        "##**Time Index**\n",
        "Pandas has a built-in function specifically for creating date indices: pd.date_range(). We use it to create a new index for our Series:"
      ]
    },
    {
      "cell_type": "code",
      "metadata": {
        "colab": {
          "base_uri": "https://localhost:8080/"
        },
        "id": "4aF9DWh2UzPB",
        "outputId": "5d82b124-1171-40d0-d2e0-a48c569ccd65"
      },
      "source": [
        "time_index = pd.date_range('2017-01-01', periods = len(s), freq = 'D')\n",
        "print (time_index)\n",
        "s.index = time_index\n",
        "print (s)"
      ],
      "execution_count": 209,
      "outputs": [
        {
          "output_type": "stream",
          "name": "stdout",
          "text": [
            "DatetimeIndex(['2017-01-01', '2017-01-02', '2017-01-03', '2017-01-04',\n",
            "               '2017-01-05', '2017-01-06'],\n",
            "              dtype='datetime64[ns]', freq='D')\n",
            "2017-01-01    143.73\n",
            "2017-01-02    145.83\n",
            "2017-01-03    143.68\n",
            "2017-01-04    144.02\n",
            "2017-01-05    143.50\n",
            "2017-01-06    142.62\n",
            "Freq: D, Name: Apple Prices, dtype: float64\n"
          ]
        }
      ]
    },
    {
      "cell_type": "code",
      "metadata": {
        "colab": {
          "base_uri": "https://localhost:8080/"
        },
        "id": "w1hwOg0DVCx2",
        "outputId": "5d4f479e-f21d-43ce-9fd5-0d0203d6d3f5"
      },
      "source": [
        "time_indexS = pd.date_range('2021-10-16', periods = len(s), freq = 'D')\n",
        "print (time_indexS)\n",
        "sS.index = time_indexS\n",
        "print (sS)"
      ],
      "execution_count": 210,
      "outputs": [
        {
          "output_type": "stream",
          "name": "stdout",
          "text": [
            "DatetimeIndex(['2021-10-16', '2021-10-17', '2021-10-18', '2021-10-19',\n",
            "               '2021-10-20', '2021-10-21'],\n",
            "              dtype='datetime64[ns]', freq='D')\n",
            "2021-10-16      134.73\n",
            "2021-10-17     2435.83\n",
            "2021-10-18    43443.68\n",
            "2021-10-19      674.02\n",
            "2021-10-20    12343.50\n",
            "2021-10-21     7642.62\n",
            "Freq: D, Name: slp Prices, dtype: float64\n"
          ]
        }
      ]
    },
    {
      "cell_type": "markdown",
      "metadata": {
        "id": "OZ2zTRoWVRfZ"
      },
      "source": [
        "Series are usually accessed using the iloc[] and loc[] methods. iloc[] is used to access elements by integer index, and loc[] is used to access the index of the series.\n",
        "\n",
        "iloc[] is necessary when the index of a series are integers, take our previous defined series as example:"
      ]
    },
    {
      "cell_type": "code",
      "metadata": {
        "colab": {
          "base_uri": "https://localhost:8080/"
        },
        "id": "aVm1pkwqVUWt",
        "outputId": "9e8239b1-e4b9-46ab-8321-0b2aa5968a43"
      },
      "source": [
        "s.index = [6,5,4,3,2,1]\n",
        "print (s)\n",
        "print (s[1])"
      ],
      "execution_count": 211,
      "outputs": [
        {
          "output_type": "stream",
          "name": "stdout",
          "text": [
            "6    143.73\n",
            "5    145.83\n",
            "4    143.68\n",
            "3    144.02\n",
            "2    143.50\n",
            "1    142.62\n",
            "Name: Apple Prices, dtype: float64\n",
            "142.62\n"
          ]
        }
      ]
    },
    {
      "cell_type": "code",
      "metadata": {
        "colab": {
          "base_uri": "https://localhost:8080/"
        },
        "id": "BUwlEKXZVhPy",
        "outputId": "3121216b-ac91-414f-f114-bb850e5a2276"
      },
      "source": [
        "sS.index = [1,2,3,4,5,6]\n",
        "print (sS)\n",
        "print (sS[1])"
      ],
      "execution_count": 212,
      "outputs": [
        {
          "output_type": "stream",
          "name": "stdout",
          "text": [
            "1      134.73\n",
            "2     2435.83\n",
            "3    43443.68\n",
            "4      674.02\n",
            "5    12343.50\n",
            "6     7642.62\n",
            "Name: slp Prices, dtype: float64\n",
            "134.73\n"
          ]
        }
      ]
    },
    {
      "cell_type": "markdown",
      "metadata": {
        "id": "0uIfBDqqVsVw"
      },
      "source": [
        "If we intended to take the second element of the series, we would make a mistake here, because the index are integers. In order to access to the element we want, we use iloc[] here:"
      ]
    },
    {
      "cell_type": "code",
      "metadata": {
        "colab": {
          "base_uri": "https://localhost:8080/"
        },
        "id": "WXtqH965Vv-Z",
        "outputId": "28a19c57-5671-4bf8-a7b0-a91447258753"
      },
      "source": [
        "print (s.iloc[1])"
      ],
      "execution_count": 213,
      "outputs": [
        {
          "output_type": "stream",
          "name": "stdout",
          "text": [
            "145.83\n"
          ]
        }
      ]
    },
    {
      "cell_type": "code",
      "metadata": {
        "colab": {
          "base_uri": "https://localhost:8080/"
        },
        "id": "9jRtCcGqV11W",
        "outputId": "1b1cb7e9-002b-4a23-e698-786d40d8473b"
      },
      "source": [
        "print (sS.iloc[1])"
      ],
      "execution_count": 214,
      "outputs": [
        {
          "output_type": "stream",
          "name": "stdout",
          "text": [
            "2435.83\n"
          ]
        }
      ]
    },
    {
      "cell_type": "markdown",
      "metadata": {
        "id": "hdJOkD_0Wdz2"
      },
      "source": [
        "While working with time series data, we often use time as the index. Pandas provides us with various methods to access the data by time index"
      ]
    },
    {
      "cell_type": "code",
      "metadata": {
        "colab": {
          "base_uri": "https://localhost:8080/"
        },
        "id": "FB-xfsfvWe_Y",
        "outputId": "92a4a3a6-d45f-42b2-a9d3-9fe0ecdba671"
      },
      "source": [
        "s.index = time_index\n",
        "print (s['2017-01-03'])"
      ],
      "execution_count": 226,
      "outputs": [
        {
          "output_type": "stream",
          "name": "stdout",
          "text": [
            "143.68\n"
          ]
        }
      ]
    },
    {
      "cell_type": "code",
      "metadata": {
        "colab": {
          "base_uri": "https://localhost:8080/"
        },
        "id": "0SNOa0g8W6RG",
        "outputId": "2d6a6e49-82a5-4116-de4d-5301f938d63c"
      },
      "source": [
        "sS.index = time_indexS\n",
        "print (sS['2021-10-16'])"
      ],
      "execution_count": 216,
      "outputs": [
        {
          "output_type": "stream",
          "name": "stdout",
          "text": [
            "134.73\n"
          ]
        }
      ]
    },
    {
      "cell_type": "markdown",
      "metadata": {
        "id": "rnQcNxtVXK6l"
      },
      "source": [
        "We can even access to a range of dates:"
      ]
    },
    {
      "cell_type": "code",
      "metadata": {
        "colab": {
          "base_uri": "https://localhost:8080/"
        },
        "id": "63IvXEA2XOWi",
        "outputId": "866db7dd-c719-49a6-fcbb-bbc32623bc00"
      },
      "source": [
        "print (s['2017-01-02':'2017-01-05'])"
      ],
      "execution_count": 217,
      "outputs": [
        {
          "output_type": "stream",
          "name": "stdout",
          "text": [
            "2017-01-02    145.83\n",
            "2017-01-03    143.68\n",
            "2017-01-04    144.02\n",
            "2017-01-05    143.50\n",
            "Freq: D, Name: Apple Prices, dtype: float64\n"
          ]
        }
      ]
    },
    {
      "cell_type": "code",
      "metadata": {
        "colab": {
          "base_uri": "https://localhost:8080/"
        },
        "id": "IRLvgc3lXXEj",
        "outputId": "e7b7e782-ecd4-44b0-9fdd-00fcb076d2a3"
      },
      "source": [
        "print (sS['2021-10-16':'2021-10-19'])"
      ],
      "execution_count": 218,
      "outputs": [
        {
          "output_type": "stream",
          "name": "stdout",
          "text": [
            "2021-10-16      134.73\n",
            "2021-10-17     2435.83\n",
            "2021-10-18    43443.68\n",
            "2021-10-19      674.02\n",
            "Freq: D, Name: slp Prices, dtype: float64\n"
          ]
        }
      ]
    },
    {
      "cell_type": "markdown",
      "metadata": {
        "id": "t543tjVTXlLF"
      },
      "source": [
        "Series[] provides us a very flexible way to index data. We can add any condition in the square brackets:"
      ]
    },
    {
      "cell_type": "code",
      "metadata": {
        "colab": {
          "base_uri": "https://localhost:8080/"
        },
        "id": "TZJaA7xYXnYt",
        "outputId": "701768b5-3b89-4efb-a75e-0cdc7173ed88"
      },
      "source": [
        "print (s[s < np.mean(s)])\n",
        "print (s[(s > np.mean(s)) & (s < np.mean(s) + 1.64*np.std(s))])"
      ],
      "execution_count": 227,
      "outputs": [
        {
          "output_type": "stream",
          "name": "stdout",
          "text": [
            "2017-01-01    143.73\n",
            "2017-01-03    143.68\n",
            "2017-01-05    143.50\n",
            "2017-01-06    142.62\n",
            "Name: Apple Prices, dtype: float64\n",
            "2017-01-04    144.02\n",
            "Freq: D, Name: Apple Prices, dtype: float64\n"
          ]
        }
      ]
    },
    {
      "cell_type": "code",
      "metadata": {
        "colab": {
          "base_uri": "https://localhost:8080/"
        },
        "id": "T9rfr7pKXxNl",
        "outputId": "b3533ca6-6c25-43b2-a5d6-b79aa359b032"
      },
      "source": [
        "print (sS[sS < np.mean(sS)])\n",
        "print (sS[(sS > np.mean(sS)) & (sS < np.mean(sS) + 1.64*np.std(sS))])"
      ],
      "execution_count": 220,
      "outputs": [
        {
          "output_type": "stream",
          "name": "stdout",
          "text": [
            "2021-10-16     134.73\n",
            "2021-10-17    2435.83\n",
            "2021-10-19     674.02\n",
            "2021-10-21    7642.62\n",
            "Name: slp Prices, dtype: float64\n",
            "2021-10-20    12343.5\n",
            "Freq: D, Name: slp Prices, dtype: float64\n"
          ]
        }
      ]
    },
    {
      "cell_type": "markdown",
      "metadata": {
        "id": "LOffR0cAQlko"
      },
      "source": [
        "As demonstrated, we can use logical operators like & (and), | (or) and ~ (not) to group multiple conditions.\n",
        "\n",
        "#**Summary**\n",
        "Here we have introduced NumPy and Pandas for scientific computing in Python. In the next chapter, we will dive into Pandas to learn resampling and manipulating Pandas DataFrame, which are commonly used in financial data analysis."
      ]
    }
  ]
}